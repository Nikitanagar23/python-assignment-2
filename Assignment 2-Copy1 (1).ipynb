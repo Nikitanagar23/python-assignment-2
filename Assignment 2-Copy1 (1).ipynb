{
 "cells": [
  {
   "cell_type": "code",
   "execution_count": null,
   "id": "59509085-c9a2-4dc0-996a-77f55c630dd7",
   "metadata": {},
   "outputs": [],
   "source": [
    "#Topic: string based assignment problem"
   ]
  },
  {
   "cell_type": "code",
   "execution_count": null,
   "id": "75b49306-f9c7-4ba1-8d50-f7d945a10c5a",
   "metadata": {},
   "outputs": [],
   "source": [
    "#Question 1"
   ]
  },
  {
   "cell_type": "code",
   "execution_count": null,
   "id": "cd636e54-ec36-4efd-bbb2-f5fd8ee92a04",
   "metadata": {},
   "outputs": [],
   "source": [
    "#PROGRAM TO REVERSE A STRING"
   ]
  },
  {
   "cell_type": "code",
   "execution_count": 5,
   "id": "371d11bd-2e6d-4364-aaf7-846d8c035df2",
   "metadata": {},
   "outputs": [
    {
     "name": "stdout",
     "output_type": "stream",
     "text": [
      "The original string is :  Pwskillsbatch\n",
      "The reversed string is :  hctabsllikswP \n"
     ]
    }
   ],
   "source": [
    "def reverse(s):\n",
    "    str = \" \"\n",
    "    for i in s:\n",
    "        str = i + str\n",
    "    return str\n",
    "s = \"Pwskillsbatch\"\n",
    "print(\"The original string is : \" , end = \" \" )\n",
    "print(s)\n",
    "\n",
    "print(\"The reversed string is : \" , end=\" \" )\n",
    "print(reverse(s))\n",
    "    "
   ]
  },
  {
   "cell_type": "code",
   "execution_count": null,
   "id": "5c38aeca-7c9c-445c-806d-4ca63a2a696a",
   "metadata": {},
   "outputs": [],
   "source": []
  },
  {
   "cell_type": "code",
   "execution_count": null,
   "id": "2717c28d-0454-46dd-b42f-0fd0012f9a0c",
   "metadata": {},
   "outputs": [],
   "source": []
  },
  {
   "cell_type": "code",
   "execution_count": 6,
   "id": "5d583bfb-1bba-4336-8510-73aa486ad0e2",
   "metadata": {},
   "outputs": [],
   "source": [
    "#Question 2"
   ]
  },
  {
   "cell_type": "code",
   "execution_count": 7,
   "id": "97d33a69-5432-4d3f-bde7-cb058a402680",
   "metadata": {},
   "outputs": [],
   "source": [
    "#string is a pallindrome"
   ]
  },
  {
   "cell_type": "code",
   "execution_count": 12,
   "id": "13eb3a6e-c8e8-491f-9a86-2cd9c56e5d6c",
   "metadata": {},
   "outputs": [
    {
     "name": "stdout",
     "output_type": "stream",
     "text": [
      "Yes string is a palindrome\n"
     ]
    }
   ],
   "source": [
    "def ispalindrome(s):\n",
    "    return s == s[::-1]\n",
    "s = \"malayalam\"\n",
    "ans = ispalindrome(s)\n",
    "if ans:\n",
    "    print(\"Yes string is a palindrome\")\n",
    "else:\n",
    "    print(\"No string is not a palindrome\")"
   ]
  },
  {
   "cell_type": "code",
   "execution_count": null,
   "id": "297c1cb5-32d9-42e4-b25d-f4f8d25440cf",
   "metadata": {},
   "outputs": [],
   "source": []
  },
  {
   "cell_type": "code",
   "execution_count": null,
   "id": "c2f31d67-0e20-478a-bbea-2d4e6abe08ed",
   "metadata": {},
   "outputs": [],
   "source": []
  },
  {
   "cell_type": "code",
   "execution_count": 13,
   "id": "1bb39e7d-480e-42a9-af92-46fdbf28f3e5",
   "metadata": {},
   "outputs": [],
   "source": [
    "#Question 3"
   ]
  },
  {
   "cell_type": "code",
   "execution_count": 14,
   "id": "0ec4b0d3-9db6-40c5-916b-b822a9eb2c27",
   "metadata": {},
   "outputs": [],
   "source": [
    "#string to uppercase"
   ]
  },
  {
   "cell_type": "code",
   "execution_count": 15,
   "id": "e43987d9-399b-4ec2-9ecb-7d0e6ae95a03",
   "metadata": {},
   "outputs": [
    {
     "name": "stdout",
     "output_type": "stream",
     "text": [
      "PW SKILLS BATCH\n"
     ]
    }
   ],
   "source": [
    "str1 = 'pw skills batch'\n",
    "print(str1.upper())"
   ]
  },
  {
   "cell_type": "code",
   "execution_count": null,
   "id": "83bb7f6a-115b-4282-a3f6-48c309c6c47b",
   "metadata": {},
   "outputs": [],
   "source": []
  },
  {
   "cell_type": "code",
   "execution_count": null,
   "id": "339b36af-6c81-464a-ade4-58d914c12d64",
   "metadata": {},
   "outputs": [],
   "source": []
  },
  {
   "cell_type": "code",
   "execution_count": 16,
   "id": "d29d44c4-3d82-4008-9708-76c39a57f161",
   "metadata": {},
   "outputs": [],
   "source": [
    "#Question 4"
   ]
  },
  {
   "cell_type": "code",
   "execution_count": 17,
   "id": "64beb9a1-e31b-4d0a-8dc0-d7b3f4019348",
   "metadata": {},
   "outputs": [],
   "source": [
    "#string to lowercase"
   ]
  },
  {
   "cell_type": "code",
   "execution_count": 18,
   "id": "9176fae8-2ba1-43a9-86c3-9356e817e31d",
   "metadata": {},
   "outputs": [
    {
     "name": "stdout",
     "output_type": "stream",
     "text": [
      "pw skills batch\n"
     ]
    }
   ],
   "source": [
    "str1 = 'pw skills batch'\n",
    "print(str1.lower())"
   ]
  },
  {
   "cell_type": "code",
   "execution_count": null,
   "id": "4119812c-4920-430b-b3ae-555207d3942f",
   "metadata": {},
   "outputs": [],
   "source": []
  },
  {
   "cell_type": "code",
   "execution_count": null,
   "id": "39f51a7f-438f-439d-b4e3-60ed19135b73",
   "metadata": {},
   "outputs": [],
   "source": []
  },
  {
   "cell_type": "code",
   "execution_count": 19,
   "id": "715de883-1e9c-4f21-a5a8-ed72ec70e225",
   "metadata": {},
   "outputs": [],
   "source": [
    "#Question 5"
   ]
  },
  {
   "cell_type": "code",
   "execution_count": 20,
   "id": "44ccda1d-7ce2-4632-b8e1-4bbf9661fb5c",
   "metadata": {},
   "outputs": [],
   "source": [
    "#number of vowels in the string"
   ]
  },
  {
   "cell_type": "code",
   "execution_count": 22,
   "id": "1dddd268-467b-44a8-b2c1-e3ab2f46397d",
   "metadata": {},
   "outputs": [
    {
     "name": "stdout",
     "output_type": "stream",
     "text": [
      "2\n"
     ]
    }
   ],
   "source": [
    "str1 = \"pw skills batch\"\n",
    "vowels = \"aeiouAEIOU\"\n",
    "count = sum(str1.count(vowel) for vowel in vowels)\n",
    "print(count)"
   ]
  },
  {
   "cell_type": "code",
   "execution_count": null,
   "id": "ef8ea6bd-85b8-45e1-9290-4bf05a5ee237",
   "metadata": {},
   "outputs": [],
   "source": []
  },
  {
   "cell_type": "code",
   "execution_count": null,
   "id": "d065be00-0b4b-4357-bda4-152dcca712d5",
   "metadata": {},
   "outputs": [],
   "source": []
  },
  {
   "cell_type": "code",
   "execution_count": 23,
   "id": "5d3d40fd-8db5-4fec-bd69-8e7b4d3b72ea",
   "metadata": {},
   "outputs": [],
   "source": [
    "#Question 6"
   ]
  },
  {
   "cell_type": "code",
   "execution_count": 24,
   "id": "78160d8d-07c4-496e-81e3-69ae5c2184a5",
   "metadata": {},
   "outputs": [],
   "source": [
    "#number of consonant in the string"
   ]
  },
  {
   "cell_type": "code",
   "execution_count": 30,
   "id": "3b0dcc75-2e65-42c5-b898-390db8bedd31",
   "metadata": {},
   "outputs": [
    {
     "name": "stdout",
     "output_type": "stream",
     "text": [
      "6\n"
     ]
    }
   ],
   "source": [
    "def isConsonant(ch):\n",
    "    ch = ch.upper()\n",
    "    return not (ch == 'A' or ch == 'E' or\n",
    "                ch == 'I' or ch == 'O' or \n",
    "                ch == 'U') and ord(ch) >= 65 and ord(ch) <= 90\n",
    "def totalConsonants(string):\n",
    "    count = 0\n",
    "    for i in range(len(string)):\n",
    "        if(isConsonant(string[i])):\n",
    "            count += 1\n",
    "    return count\n",
    "string = \"NIKITA NAGAR\"\n",
    "print(totalConsonants(string))"
   ]
  },
  {
   "cell_type": "code",
   "execution_count": null,
   "id": "8dc9b895-c2ff-4f7c-994f-3c684e95ebc3",
   "metadata": {},
   "outputs": [],
   "source": []
  },
  {
   "cell_type": "code",
   "execution_count": null,
   "id": "c2564400-4774-4f2a-afe6-86c6fc571700",
   "metadata": {},
   "outputs": [],
   "source": []
  },
  {
   "cell_type": "code",
   "execution_count": 31,
   "id": "d7e79919-ee76-4f02-8a6d-80820c53856c",
   "metadata": {},
   "outputs": [],
   "source": [
    "#Question 7"
   ]
  },
  {
   "cell_type": "code",
   "execution_count": 32,
   "id": "08b76ceb-db62-4633-867d-0a26feae172f",
   "metadata": {},
   "outputs": [],
   "source": [
    "#remove all whitespaces from string"
   ]
  },
  {
   "cell_type": "code",
   "execution_count": 42,
   "id": "39f3d74d-2f02-442f-9319-d835682754b4",
   "metadata": {},
   "outputs": [
    {
     "name": "stdout",
     "output_type": "stream",
     "text": [
      "great\n"
     ]
    }
   ],
   "source": [
    "def remove(string):\n",
    "    return string.replace( \" \",  \"\")\n",
    "string = ' g r e a t '\n",
    "print(remove(string))"
   ]
  },
  {
   "cell_type": "code",
   "execution_count": null,
   "id": "7b83a039-3340-44aa-8352-c002574c3c7e",
   "metadata": {},
   "outputs": [],
   "source": []
  },
  {
   "cell_type": "code",
   "execution_count": null,
   "id": "e62aec29-7c72-4a8e-9184-585d4acca19a",
   "metadata": {},
   "outputs": [],
   "source": []
  },
  {
   "cell_type": "code",
   "execution_count": 43,
   "id": "0ab74aaf-b286-4e9d-a442-9f6ed0bd467c",
   "metadata": {},
   "outputs": [],
   "source": [
    "#Question 8"
   ]
  },
  {
   "cell_type": "code",
   "execution_count": 45,
   "id": "7fc9385f-0d15-4dd3-8ab3-9c186f5ec3a9",
   "metadata": {},
   "outputs": [],
   "source": [
    "#find the length of the string without using len() function"
   ]
  },
  {
   "cell_type": "code",
   "execution_count": 50,
   "id": "bdb63504-d5ee-4cc5-a8e5-253df7017451",
   "metadata": {
    "collapsed": true,
    "jupyter": {
     "outputs_hidden": true
    },
    "tags": []
   },
   "outputs": [
    {
     "name": "stdout",
     "output_type": "stream",
     "text": [
      "7\n"
     ]
    }
   ],
   "source": [
    "string = 'hellopw'\n",
    "\n",
    "count = 0\n",
    "\n",
    "for i in string:\n",
    "    \n",
    "    count+=1\n",
    "print(count)"
   ]
  },
  {
   "cell_type": "code",
   "execution_count": null,
   "id": "37250e7b-1f2d-41e7-9f23-38ae6b40df2f",
   "metadata": {},
   "outputs": [],
   "source": []
  },
  {
   "cell_type": "code",
   "execution_count": null,
   "id": "e6796df6-42e4-4baf-a92f-79743d82cfb9",
   "metadata": {},
   "outputs": [],
   "source": []
  },
  {
   "cell_type": "code",
   "execution_count": 51,
   "id": "855cf92e-c0b0-49ac-a87f-5078f7e7a397",
   "metadata": {},
   "outputs": [],
   "source": [
    "#Question 9"
   ]
  },
  {
   "cell_type": "code",
   "execution_count": 52,
   "id": "fe8508e4-30a8-4f2f-bdfa-d9b8e5dcb058",
   "metadata": {},
   "outputs": [],
   "source": [
    "#string contain a specific word"
   ]
  },
  {
   "cell_type": "code",
   "execution_count": 53,
   "id": "7f732fbc-859e-458f-8a1c-ce76388eb43c",
   "metadata": {},
   "outputs": [
    {
     "name": "stdout",
     "output_type": "stream",
     "text": [
      "yep, 'pwskills' is in there.\n"
     ]
    }
   ],
   "source": [
    "string = \"I recently enrolled in pwskills batch\"\n",
    "if \"pwskills\" in string:\n",
    "    print(\"yep, 'pwskills' is in there.\")\n",
    "else:\n",
    "    print(\"nope, 'pwskills' is not there.\")"
   ]
  },
  {
   "cell_type": "code",
   "execution_count": null,
   "id": "8acda81a-4c6b-4d27-8378-17e0ffb31be1",
   "metadata": {},
   "outputs": [],
   "source": []
  },
  {
   "cell_type": "code",
   "execution_count": null,
   "id": "112dada9-c7cb-46d5-956b-d72bd0e479a1",
   "metadata": {},
   "outputs": [],
   "source": []
  },
  {
   "cell_type": "code",
   "execution_count": 54,
   "id": "91414659-a30f-42ef-b2cc-6e748cca7a78",
   "metadata": {},
   "outputs": [],
   "source": [
    "#Question 10"
   ]
  },
  {
   "cell_type": "code",
   "execution_count": 55,
   "id": "bebe93b0-c99c-4652-a40f-9d832bf70353",
   "metadata": {},
   "outputs": [],
   "source": [
    "#replace a word in string with another word"
   ]
  },
  {
   "cell_type": "code",
   "execution_count": 56,
   "id": "0c657b8a-4403-460a-bbdd-af53ce304dcc",
   "metadata": {},
   "outputs": [
    {
     "name": "stdout",
     "output_type": "stream",
     "text": [
      "Great morning\n"
     ]
    }
   ],
   "source": [
    "string = \"Good morning\"\n",
    "new_string = string.replace(\"Good\", \"Great\")\n",
    "print(new_string)"
   ]
  },
  {
   "cell_type": "code",
   "execution_count": null,
   "id": "8c592c8b-6076-42c3-a50e-cd3bcac38b70",
   "metadata": {},
   "outputs": [],
   "source": []
  },
  {
   "cell_type": "code",
   "execution_count": null,
   "id": "0c1fd296-9714-40fb-a35a-7978f37da2a4",
   "metadata": {},
   "outputs": [],
   "source": []
  },
  {
   "cell_type": "code",
   "execution_count": 57,
   "id": "520a747d-a31e-4c71-9b01-e1b9527dac6b",
   "metadata": {},
   "outputs": [],
   "source": [
    "#Question 11"
   ]
  },
  {
   "cell_type": "code",
   "execution_count": 58,
   "id": "ce84f215-a91d-4104-8f16-2f18dabce5c5",
   "metadata": {},
   "outputs": [],
   "source": [
    "#count the occurence of a  word in string"
   ]
  },
  {
   "cell_type": "code",
   "execution_count": 61,
   "id": "919b2fbd-32ca-43b3-ad92-cd63dd6d0fd3",
   "metadata": {},
   "outputs": [
    {
     "name": "stdout",
     "output_type": "stream",
     "text": [
      "1\n"
     ]
    }
   ],
   "source": [
    "def countOccurrences(str, word):\n",
    "    a = str.split(\" \")\n",
    "    count = 0\n",
    "    for i in range(0, len(a)):\n",
    "        if (word == a[i]):\n",
    "            count = count + 1\n",
    "    return count\n",
    "str = \"hello everyone \"\n",
    "word = \"everyone\"\n",
    "print(countOccurrences(str, word))"
   ]
  },
  {
   "cell_type": "code",
   "execution_count": null,
   "id": "b830effc-257a-40b0-b9ca-a7d7e2805153",
   "metadata": {},
   "outputs": [],
   "source": []
  },
  {
   "cell_type": "code",
   "execution_count": null,
   "id": "d0863f76-f2cc-4497-a7ba-6c1de2afafa3",
   "metadata": {},
   "outputs": [],
   "source": []
  },
  {
   "cell_type": "code",
   "execution_count": 62,
   "id": "6ceaf146-c51d-4e5e-9a45-feea7b24736e",
   "metadata": {},
   "outputs": [],
   "source": [
    "#Question 12"
   ]
  },
  {
   "cell_type": "code",
   "execution_count": 63,
   "id": "3204c88c-693a-46f6-bbaa-5968373766f9",
   "metadata": {},
   "outputs": [],
   "source": [
    "#first Occurrence of a word in a string"
   ]
  },
  {
   "cell_type": "code",
   "execution_count": 38,
   "id": "aca28e9b-f636-4f67-ab08-0eb51c4cda84",
   "metadata": {},
   "outputs": [
    {
     "name": "stdout",
     "output_type": "stream",
     "text": [
      "The original string is : Geeksforgeeks\n",
      "The index of last element occurence: 10\n"
     ]
    }
   ],
   "source": [
    "test_str = \"Geeksforgeeks\"\n",
    "\n",
    "print( \"The original string is : \" +str(test_str));\n",
    "\n",
    "res = test_str.rfind( 'e' )\n",
    "\n",
    "print ( \"The index of last element occurence: \" + str(res));"
   ]
  },
  {
   "cell_type": "code",
   "execution_count": null,
   "id": "6ded5339-82d6-4f77-a81f-9c1d306347f1",
   "metadata": {},
   "outputs": [],
   "source": []
  },
  {
   "cell_type": "code",
   "execution_count": null,
   "id": "c1e69f00-7761-42c4-9569-b4fee93e63a2",
   "metadata": {},
   "outputs": [],
   "source": []
  },
  {
   "cell_type": "code",
   "execution_count": 84,
   "id": "d1dcdfc9-2ac3-4cf6-b824-3187b6cd7724",
   "metadata": {},
   "outputs": [],
   "source": [
    "#Question 13 "
   ]
  },
  {
   "cell_type": "code",
   "execution_count": 85,
   "id": "cfec1dbf-eaac-4925-9731-d97febfadb65",
   "metadata": {},
   "outputs": [],
   "source": [
    "#last occurence of a word in a string"
   ]
  },
  {
   "cell_type": "code",
   "execution_count": 39,
   "id": "b5b4fca9-f975-4fb3-85a4-e79697653fe3",
   "metadata": {},
   "outputs": [
    {
     "name": "stdout",
     "output_type": "stream",
     "text": [
      "-1\n"
     ]
    }
   ],
   "source": [
    "sentence = \"I LOVE PROGRAMMING,PROGRAMMING IS FUN!\"\n",
    "last_occurrence = sentence.rfind(\"programming\")\n",
    "print(last_occurrence)"
   ]
  },
  {
   "cell_type": "code",
   "execution_count": null,
   "id": "24798b2e-e1b1-48e7-8d0d-8305ce60e23b",
   "metadata": {},
   "outputs": [],
   "source": []
  },
  {
   "cell_type": "code",
   "execution_count": null,
   "id": "f1eff5fe-2652-404e-9ea8-9bc301115c78",
   "metadata": {},
   "outputs": [],
   "source": []
  },
  {
   "cell_type": "code",
   "execution_count": 86,
   "id": "dc7c87d2-d438-44d1-86f2-d03801e3a4fe",
   "metadata": {},
   "outputs": [],
   "source": [
    "#question 14"
   ]
  },
  {
   "cell_type": "code",
   "execution_count": 87,
   "id": "d5b39aed-60fe-4447-a176-f1327170ab00",
   "metadata": {},
   "outputs": [],
   "source": [
    "#split a string into a list of words"
   ]
  },
  {
   "cell_type": "code",
   "execution_count": 89,
   "id": "29dc1b26-3c3e-4778-9515-e2674b85d722",
   "metadata": {},
   "outputs": [
    {
     "name": "stdout",
     "output_type": "stream",
     "text": [
      "['hello', ' my name is nikita nagar', ' I am 19 years old']\n"
     ]
    }
   ],
   "source": [
    "txt = \"hello, my name is nikita nagar, I am 19 years old\"\n",
    "x = txt.split(\",\")\n",
    "print(x)"
   ]
  },
  {
   "cell_type": "code",
   "execution_count": null,
   "id": "44505738-b80c-4ed7-b5e2-5a516b8020ca",
   "metadata": {},
   "outputs": [],
   "source": []
  },
  {
   "cell_type": "code",
   "execution_count": null,
   "id": "690ff8ef-fe43-4744-8ed2-7c7d9d7fee7f",
   "metadata": {},
   "outputs": [],
   "source": []
  },
  {
   "cell_type": "code",
   "execution_count": 90,
   "id": "67576c8e-22ad-4f74-b149-34cdb4ce50d9",
   "metadata": {},
   "outputs": [],
   "source": [
    "#Question 15"
   ]
  },
  {
   "cell_type": "code",
   "execution_count": 91,
   "id": "3560ef32-3993-41c5-b539-8a4d0c784360",
   "metadata": {},
   "outputs": [],
   "source": [
    "#join a list of words into a string"
   ]
  },
  {
   "cell_type": "code",
   "execution_count": 92,
   "id": "e7f7c2a7-b2d3-474e-b84c-30e2f8527a4b",
   "metadata": {},
   "outputs": [
    {
     "name": "stdout",
     "output_type": "stream",
     "text": [
      "h_e_l_l_o\n"
     ]
    }
   ],
   "source": [
    "str = '_'.join('hello')\n",
    "print(str)"
   ]
  },
  {
   "cell_type": "code",
   "execution_count": null,
   "id": "dc301308-f3e5-4813-bd31-90c974bf1b7e",
   "metadata": {},
   "outputs": [],
   "source": []
  },
  {
   "cell_type": "code",
   "execution_count": null,
   "id": "ec97b3a1-4018-4056-a7c5-5c720212a991",
   "metadata": {},
   "outputs": [],
   "source": []
  },
  {
   "cell_type": "code",
   "execution_count": 93,
   "id": "583216f9-6a97-4a87-b96d-248e2fbde298",
   "metadata": {},
   "outputs": [],
   "source": [
    "#Question 16"
   ]
  },
  {
   "cell_type": "code",
   "execution_count": 94,
   "id": "90698bef-db7c-400c-b494-644281f44319",
   "metadata": {},
   "outputs": [],
   "source": [
    "#word are separeted by spaces"
   ]
  },
  {
   "cell_type": "code",
   "execution_count": 95,
   "id": "eb62c449-754a-4e70-898a-7edb7f48806f",
   "metadata": {},
   "outputs": [
    {
     "name": "stdout",
     "output_type": "stream",
     "text": [
      "pw_skills_batch\n"
     ]
    }
   ],
   "source": [
    "my_str = 'pw skills batch'\n",
    "result = my_str.replace(' ','_')\n",
    "print(result)"
   ]
  },
  {
   "cell_type": "code",
   "execution_count": null,
   "id": "173b7d8a-d743-41a5-9be1-0f35b460a968",
   "metadata": {},
   "outputs": [],
   "source": []
  },
  {
   "cell_type": "code",
   "execution_count": null,
   "id": "cd3bf1e1-e0fc-4ad4-b789-bf3f830edf6b",
   "metadata": {},
   "outputs": [],
   "source": []
  },
  {
   "cell_type": "code",
   "execution_count": 96,
   "id": "766104a4-3b9a-47b6-aeda-3b05a6189da2",
   "metadata": {},
   "outputs": [],
   "source": [
    "#Question 17"
   ]
  },
  {
   "cell_type": "code",
   "execution_count": 97,
   "id": "d00bf3fa-72f1-4037-bdb2-d66377d2b0df",
   "metadata": {},
   "outputs": [],
   "source": [
    "#string start with specific word or phrase"
   ]
  },
  {
   "cell_type": "code",
   "execution_count": 102,
   "id": "d7c86027-8093-4abc-a233-b692b6978007",
   "metadata": {},
   "outputs": [
    {
     "name": "stdout",
     "output_type": "stream",
     "text": [
      "True\n"
     ]
    }
   ],
   "source": [
    "txt = \"Hello, welcome to my world.\"\n",
    "x = txt.startswith(\"Hello\")\n",
    "print(x)"
   ]
  },
  {
   "cell_type": "code",
   "execution_count": null,
   "id": "b7d9c3c8-d692-43aa-91a7-3da73323ae39",
   "metadata": {},
   "outputs": [],
   "source": []
  },
  {
   "cell_type": "code",
   "execution_count": null,
   "id": "8f48820e-3b30-434d-bcbe-e58de85f86f0",
   "metadata": {},
   "outputs": [],
   "source": []
  },
  {
   "cell_type": "code",
   "execution_count": 101,
   "id": "09329e14-c844-4c03-8e21-86e6c15412d4",
   "metadata": {},
   "outputs": [],
   "source": [
    "#Question 18"
   ]
  },
  {
   "cell_type": "code",
   "execution_count": 103,
   "id": "1e38f1a1-55af-4dbc-b7cf-a06ea050bfea",
   "metadata": {},
   "outputs": [],
   "source": [
    "#string sends with specific word or phrase"
   ]
  },
  {
   "cell_type": "code",
   "execution_count": 106,
   "id": "f3177a91-d20d-4009-80ac-24ce22ad5669",
   "metadata": {},
   "outputs": [
    {
     "name": "stdout",
     "output_type": "stream",
     "text": [
      "False\n"
     ]
    }
   ],
   "source": [
    "txt = \"hello, welcome to my channel.\"\n",
    "x = txt.startswith(\"wel\",23)\n",
    "print(x)"
   ]
  },
  {
   "cell_type": "code",
   "execution_count": null,
   "id": "e45eb2df-8d8f-4bc0-af98-0aa05765e17f",
   "metadata": {},
   "outputs": [],
   "source": []
  },
  {
   "cell_type": "code",
   "execution_count": null,
   "id": "23e821a3-d9d9-4789-befc-871616694568",
   "metadata": {},
   "outputs": [],
   "source": []
  },
  {
   "cell_type": "code",
   "execution_count": 107,
   "id": "6abdfa29-fdbe-4752-8f74-358e175697d3",
   "metadata": {},
   "outputs": [],
   "source": [
    "#Question 19"
   ]
  },
  {
   "cell_type": "code",
   "execution_count": 108,
   "id": "32b03fe6-4164-440d-aa11-c1c3c8e3bbd9",
   "metadata": {},
   "outputs": [],
   "source": [
    "#tittle case"
   ]
  },
  {
   "cell_type": "code",
   "execution_count": 109,
   "id": "ac0b9a1d-39c5-4c19-ae6c-107b423d42b6",
   "metadata": {},
   "outputs": [
    {
     "name": "stdout",
     "output_type": "stream",
     "text": [
      "Nikita Nagar\n"
     ]
    }
   ],
   "source": [
    "name = 'nikita nagar'.title()\n",
    "print(name)"
   ]
  },
  {
   "cell_type": "code",
   "execution_count": null,
   "id": "74a9e1d3-70e9-4237-a818-0897f1f08c7c",
   "metadata": {},
   "outputs": [],
   "source": []
  },
  {
   "cell_type": "code",
   "execution_count": null,
   "id": "f5d81514-943a-4c39-88d1-3cf087fbe4de",
   "metadata": {},
   "outputs": [],
   "source": []
  },
  {
   "cell_type": "code",
   "execution_count": 110,
   "id": "eb8fd316-ae58-4408-a128-3cce39beac16",
   "metadata": {},
   "outputs": [],
   "source": [
    "#Question 20"
   ]
  },
  {
   "cell_type": "code",
   "execution_count": 111,
   "id": "2c420933-727d-4e1d-92be-0866b8cbb2c2",
   "metadata": {},
   "outputs": [],
   "source": [
    "#longest word in string"
   ]
  },
  {
   "cell_type": "code",
   "execution_count": 117,
   "id": "857cb856-b506-455f-90fd-329d330c5472",
   "metadata": {},
   "outputs": [
    {
     "name": "stdout",
     "output_type": "stream",
     "text": [
      "confident\n"
     ]
    }
   ],
   "source": [
    "def largestWord(s):\n",
    "    s = sorted(s, key = len)\n",
    "    print(s[-1])\n",
    "if __name__  == \"__main__\":\n",
    "        s = \"be confident and be yourself\"\n",
    "        l = list(s.split( \" \" ))\n",
    "        largestWord(l)"
   ]
  },
  {
   "cell_type": "code",
   "execution_count": null,
   "id": "42ee851a-46e1-4992-aa6e-52951e44a845",
   "metadata": {},
   "outputs": [],
   "source": []
  },
  {
   "cell_type": "code",
   "execution_count": null,
   "id": "2195f1fd-8084-4175-af4e-299877a4bd20",
   "metadata": {},
   "outputs": [],
   "source": []
  },
  {
   "cell_type": "code",
   "execution_count": 118,
   "id": "33b1a183-949b-4d32-a11f-31b3481a4ca2",
   "metadata": {},
   "outputs": [],
   "source": [
    "#Question 21"
   ]
  },
  {
   "cell_type": "code",
   "execution_count": 119,
   "id": "12e2cce0-1bc0-4a30-b98b-c0a8abeaf764",
   "metadata": {},
   "outputs": [],
   "source": [
    "#shortest word in a string"
   ]
  },
  {
   "cell_type": "code",
   "execution_count": 120,
   "id": "417cc0f0-987d-4890-b7f7-b840d50fd408",
   "metadata": {},
   "outputs": [
    {
     "name": "stdin",
     "output_type": "stream",
     "text": [
      "Enter some text:  be confident be you\n"
     ]
    },
    {
     "name": "stdout",
     "output_type": "stream",
     "text": [
      "shortest word is:  be\n",
      "And its length is :  2\n"
     ]
    }
   ],
   "source": [
    "text = input(\"Enter some text: \")\n",
    "shortest = min(text.split(), key = len)\n",
    "print(\"shortest word is: \", shortest)\n",
    "print(\"And its length is : \", len(shortest))"
   ]
  },
  {
   "cell_type": "code",
   "execution_count": null,
   "id": "4005055b-e56e-432b-b286-ed7a0ffbdb88",
   "metadata": {},
   "outputs": [],
   "source": []
  },
  {
   "cell_type": "code",
   "execution_count": null,
   "id": "b1c5d35a-c93e-4d05-9b89-f8dc7f2df7ee",
   "metadata": {},
   "outputs": [],
   "source": []
  },
  {
   "cell_type": "code",
   "execution_count": 121,
   "id": "260fcb36-764a-48bd-b09d-82cab473dc79",
   "metadata": {},
   "outputs": [],
   "source": [
    "#Question 22"
   ]
  },
  {
   "cell_type": "code",
   "execution_count": 122,
   "id": "61a55342-4c66-4ac9-9b7a-7f3f833e172d",
   "metadata": {},
   "outputs": [],
   "source": [
    "#reverse a order of a string"
   ]
  },
  {
   "cell_type": "code",
   "execution_count": 123,
   "id": "bf46c97c-b9ce-427d-96f6-35825383c914",
   "metadata": {},
   "outputs": [
    {
     "name": "stdout",
     "output_type": "stream",
     "text": [
      "yourself be and confident be\n"
     ]
    }
   ],
   "source": [
    "string = \"be confident and be yourself\"\n",
    "s = string.split()[::-1]\n",
    "l = []\n",
    "for i in s:\n",
    "    l.append(i)\n",
    "print(\" \".join(l))    "
   ]
  },
  {
   "cell_type": "code",
   "execution_count": null,
   "id": "c17f4806-e41b-4ada-872f-2462cae68d1b",
   "metadata": {},
   "outputs": [],
   "source": []
  },
  {
   "cell_type": "code",
   "execution_count": null,
   "id": "b0146e51-13c0-4c91-814e-01a995f76eeb",
   "metadata": {},
   "outputs": [],
   "source": []
  },
  {
   "cell_type": "code",
   "execution_count": 124,
   "id": "c83d061e-cf6b-4302-a4ba-735a85678815",
   "metadata": {},
   "outputs": [],
   "source": [
    "#Question 23"
   ]
  },
  {
   "cell_type": "code",
   "execution_count": 125,
   "id": "d89adc5b-d6b2-4e64-9517-892a83f43d8e",
   "metadata": {},
   "outputs": [],
   "source": [
    "#string is alphanumeric"
   ]
  },
  {
   "cell_type": "code",
   "execution_count": 127,
   "id": "78760665-0ea7-461a-a583-063d05352282",
   "metadata": {},
   "outputs": [
    {
     "name": "stdout",
     "output_type": "stream",
     "text": [
      "True\n"
     ]
    }
   ],
   "source": [
    "txt = \"nikitanagar23\"\n",
    "x = txt.isalnum()\n",
    "print(x)"
   ]
  },
  {
   "cell_type": "code",
   "execution_count": null,
   "id": "fa030525-2455-46fb-9573-d83a963025da",
   "metadata": {},
   "outputs": [],
   "source": []
  },
  {
   "cell_type": "code",
   "execution_count": null,
   "id": "91ee2f97-d5ba-4917-bc99-e386bb1682af",
   "metadata": {},
   "outputs": [],
   "source": []
  },
  {
   "cell_type": "code",
   "execution_count": 128,
   "id": "524553a2-c87e-4aa9-ab89-0e1d5c6de441",
   "metadata": {},
   "outputs": [],
   "source": [
    "#Question 24"
   ]
  },
  {
   "cell_type": "code",
   "execution_count": 129,
   "id": "4578b418-e4d9-48dc-9b0b-50cb9bead6d7",
   "metadata": {},
   "outputs": [],
   "source": [
    "#extract all digit from a string"
   ]
  },
  {
   "cell_type": "code",
   "execution_count": 39,
   "id": "f1dc1725-8ed8-476e-8b23-2e0972325626",
   "metadata": {},
   "outputs": [
    {
     "name": "stdout",
     "output_type": "stream",
     "text": [
      "The original string : There are 2 apples for 4 persons\n",
      "The number list is : [2, 4]\n"
     ]
    }
   ],
   "source": [
    "test_string = \"There are 2 apples for 4 persons\"\n",
    "print(\"The original string : \" +test_string)\n",
    "res = [int(i) for i in test_string.split() if i.isdigit()]\n",
    "print(\"The number list is : \" + str(res))"
   ]
  },
  {
   "cell_type": "code",
   "execution_count": null,
   "id": "c40e9ced-e3cd-45e6-b5b8-f20efe641fa3",
   "metadata": {},
   "outputs": [],
   "source": []
  },
  {
   "cell_type": "code",
   "execution_count": null,
   "id": "c852d3ca-f0b7-4b0b-acc0-02a954195ac0",
   "metadata": {},
   "outputs": [],
   "source": []
  },
  {
   "cell_type": "code",
   "execution_count": 132,
   "id": "95dfa420-7beb-471c-93b0-38e341762baf",
   "metadata": {},
   "outputs": [],
   "source": [
    "#Question 25"
   ]
  },
  {
   "cell_type": "code",
   "execution_count": 133,
   "id": "5f7b4f97-c71f-4b74-80fb-dd65b3df714d",
   "metadata": {},
   "outputs": [],
   "source": [
    "#extract all alphabet from a string"
   ]
  },
  {
   "cell_type": "code",
   "execution_count": 40,
   "id": "7d6eeb54-cf2c-4969-a421-bed4233b0cc1",
   "metadata": {},
   "outputs": [
    {
     "name": "stdout",
     "output_type": "stream",
     "text": [
      "['H', 'e', 'l', 'l', 'o', 'W', 'o', 'r', 'l', 'd']\n"
     ]
    }
   ],
   "source": [
    "string = \"Hello123World!\"\n",
    "alphabets = [char for char in string if char.isalpha()]\n",
    "print(alphabets)"
   ]
  },
  {
   "cell_type": "code",
   "execution_count": null,
   "id": "8be975b5-08dc-4618-82dc-fe496c01e63d",
   "metadata": {},
   "outputs": [],
   "source": []
  },
  {
   "cell_type": "code",
   "execution_count": null,
   "id": "afd7ee34-2753-40df-a51e-69662fa5ec78",
   "metadata": {},
   "outputs": [],
   "source": []
  },
  {
   "cell_type": "code",
   "execution_count": 134,
   "id": "7822c34c-89a4-4403-a019-cc454428682a",
   "metadata": {},
   "outputs": [],
   "source": [
    "#Question 26"
   ]
  },
  {
   "cell_type": "code",
   "execution_count": 135,
   "id": "f9def4e0-e5d0-4c44-913b-7fdafb7aef19",
   "metadata": {},
   "outputs": [],
   "source": [
    "#count the number of uppercase letters in a string"
   ]
  },
  {
   "cell_type": "code",
   "execution_count": 41,
   "id": "48ccb2c4-8448-4ad2-93b5-0a3da56a6dd4",
   "metadata": {},
   "outputs": [
    {
     "name": "stdout",
     "output_type": "stream",
     "text": [
      "2\n"
     ]
    }
   ],
   "source": [
    "string = \"Hello World\"\n",
    "count = 0 \n",
    "for char in string:\n",
    "    if char.isupper():\n",
    "        count+=1\n",
    "print(count)"
   ]
  },
  {
   "cell_type": "code",
   "execution_count": null,
   "id": "1149259a-22fe-4ecf-bcef-b409c828e05f",
   "metadata": {},
   "outputs": [],
   "source": []
  },
  {
   "cell_type": "code",
   "execution_count": null,
   "id": "1368bcc9-05d5-4935-af25-f51bce1edc2f",
   "metadata": {},
   "outputs": [],
   "source": []
  },
  {
   "cell_type": "code",
   "execution_count": 137,
   "id": "4d72f0fb-8e43-45b7-963d-810fbf265fad",
   "metadata": {},
   "outputs": [],
   "source": [
    "#Question 27"
   ]
  },
  {
   "cell_type": "code",
   "execution_count": 138,
   "id": "a4a36041-2f74-46c3-a1d1-e0690ae4ee26",
   "metadata": {},
   "outputs": [],
   "source": [
    "#count the number of lowercase letters in a string"
   ]
  },
  {
   "cell_type": "code",
   "execution_count": 43,
   "id": "aeb3ec51-5346-4f3f-864b-7e47d38571a5",
   "metadata": {},
   "outputs": [
    {
     "name": "stdout",
     "output_type": "stream",
     "text": [
      "8\n"
     ]
    }
   ],
   "source": [
    "string = \"Hello World\"\n",
    "count = 0 \n",
    "for char in string:\n",
    "    if char.islower():\n",
    "        count+=1\n",
    "print(count)"
   ]
  },
  {
   "cell_type": "code",
   "execution_count": null,
   "id": "90829ed2-4462-4294-952d-a965cb962f13",
   "metadata": {},
   "outputs": [],
   "source": []
  },
  {
   "cell_type": "code",
   "execution_count": null,
   "id": "4940b892-5fd7-481d-80f3-3f2b9c4335d9",
   "metadata": {},
   "outputs": [],
   "source": []
  },
  {
   "cell_type": "code",
   "execution_count": 139,
   "id": "3f453e87-348d-429a-9981-4c0087cd0ed4",
   "metadata": {},
   "outputs": [],
   "source": [
    "#Question 28"
   ]
  },
  {
   "cell_type": "code",
   "execution_count": 140,
   "id": "fa8d1cf6-37ef-4b83-9772-b8ee6ccc4749",
   "metadata": {},
   "outputs": [],
   "source": [
    "#swap the case of each character in a string"
   ]
  },
  {
   "cell_type": "code",
   "execution_count": 141,
   "id": "1aa23a56-da63-4edc-b00e-03515743b591",
   "metadata": {},
   "outputs": [
    {
     "name": "stdout",
     "output_type": "stream",
     "text": [
      "GeeKSforGEEKS\n",
      "GEEKSFORGEEKS\n",
      "geeksforgeeks\n"
     ]
    }
   ],
   "source": [
    "string = \"gEEksFORgeeks\"\n",
    "print(string.swapcase())\n",
    "string = \"geeksforgeeks\"\n",
    "print(string.swapcase())\n",
    "string = \"GEEKSFORGEEKS\"\n",
    "print(string.swapcase())"
   ]
  },
  {
   "cell_type": "code",
   "execution_count": null,
   "id": "69b1ef75-80f0-47cf-9ce8-13123550d4e0",
   "metadata": {},
   "outputs": [],
   "source": []
  },
  {
   "cell_type": "code",
   "execution_count": null,
   "id": "fe1d3f2f-8356-4d40-bec6-31b8bc6bc24f",
   "metadata": {},
   "outputs": [],
   "source": []
  },
  {
   "cell_type": "code",
   "execution_count": 142,
   "id": "a2824142-3b68-4c0a-9bfd-ebac173c6693",
   "metadata": {},
   "outputs": [],
   "source": [
    "#Question 29"
   ]
  },
  {
   "cell_type": "code",
   "execution_count": 143,
   "id": "6d556407-ab3f-44f5-903d-3ed12d4f5c53",
   "metadata": {},
   "outputs": [],
   "source": [
    "#remove a specific word from a string"
   ]
  },
  {
   "cell_type": "code",
   "execution_count": 3,
   "id": "387c3d71-5be5-4f96-857f-6b9bfa482db6",
   "metadata": {},
   "outputs": [
    {
     "name": "stdout",
     "output_type": "stream",
     "text": [
      "Enter string:  "
     ]
    },
    {
     "name": "stdin",
     "output_type": "stream",
     "text": [
      " welcome to our new vlog\n"
     ]
    },
    {
     "name": "stdout",
     "output_type": "stream",
     "text": [
      "Enter a word to delete:  "
     ]
    },
    {
     "name": "stdin",
     "output_type": "stream",
     "text": [
      " vlog\n"
     ]
    },
    {
     "name": "stdout",
     "output_type": "stream",
     "text": [
      "\n",
      " New String is :\n",
      "welcome to our new \n"
     ]
    }
   ],
   "source": [
    "print(\"Enter string: \", end=\" \")\n",
    "text = input()\n",
    "print(\"Enter a word to delete: \", end=\" \")\n",
    "word = input()\n",
    "\n",
    "wordlist = text.split()\n",
    "newtext = [x for x in wordlist if x not in word]\n",
    "\n",
    "print(\"\\n New String is :\")\n",
    "for x in newtext:\n",
    "    print(x, end=\" \")\n",
    "print()"
   ]
  },
  {
   "cell_type": "code",
   "execution_count": null,
   "id": "a5ed76c2-3885-4521-8029-35ba3339b431",
   "metadata": {},
   "outputs": [],
   "source": []
  },
  {
   "cell_type": "code",
   "execution_count": null,
   "id": "8d153d73-f971-4669-87d4-c97dfceff9fd",
   "metadata": {},
   "outputs": [],
   "source": []
  },
  {
   "cell_type": "code",
   "execution_count": 4,
   "id": "9e505637-527e-4e5a-9ff0-edfe391bcf62",
   "metadata": {},
   "outputs": [],
   "source": [
    "#Question 30 "
   ]
  },
  {
   "cell_type": "code",
   "execution_count": 5,
   "id": "f142d783-e0a3-4b5a-b927-94c9cdb534c4",
   "metadata": {},
   "outputs": [],
   "source": [
    "#check if a string is valid email address"
   ]
  },
  {
   "cell_type": "code",
   "execution_count": 10,
   "id": "a3dc158a-3800-466b-8fb6-80be1eb8280a",
   "metadata": {},
   "outputs": [
    {
     "name": "stdout",
     "output_type": "stream",
     "text": [
      "Valid Email\n",
      "Invalid Email\n"
     ]
    }
   ],
   "source": [
    "import re\n",
    "regex =  r'\\b[A -Za-z0-9._%+-]+@[A-Za-z0-9.-]+\\.[A-Z|a-z]{2,7}\\b'\n",
    "def check(email):\n",
    "    if(re.fullmatch(regex,  email)):\n",
    "        print(\"Valid Email\")\n",
    "    else:\n",
    "        print(\"Invalid Email\")\n",
    "if __name__ == '__main__':\n",
    "    email = \"nagarniki23@gmail.com\"\n",
    "    check(email)\n",
    "    email = \"my.nikitaourearth.org\"\n",
    "    check(email)               \n",
    "                    "
   ]
  },
  {
   "cell_type": "code",
   "execution_count": null,
   "id": "051dea5d-739e-4c17-a9c0-cd1e9adaa0a2",
   "metadata": {},
   "outputs": [],
   "source": []
  },
  {
   "cell_type": "code",
   "execution_count": null,
   "id": "74820d28-6dac-4160-9e1e-79d3fe82da97",
   "metadata": {},
   "outputs": [],
   "source": []
  },
  {
   "cell_type": "code",
   "execution_count": 11,
   "id": "6e6873cc-db7c-4e65-b1aa-cae8f4e3ce55",
   "metadata": {},
   "outputs": [],
   "source": [
    "#Question 31"
   ]
  },
  {
   "cell_type": "code",
   "execution_count": 32,
   "id": "c35c8e53-a143-4f66-b184-2c99c6b62d10",
   "metadata": {},
   "outputs": [],
   "source": [
    "#Extract the username from an email address string"
   ]
  },
  {
   "cell_type": "code",
   "execution_count": 44,
   "id": "bd023ac1-4678-4e36-8c96-9a78855cabe4",
   "metadata": {},
   "outputs": [
    {
     "name": "stdout",
     "output_type": "stream",
     "text": [
      "nikitanagar23\n"
     ]
    }
   ],
   "source": [
    "email = \"nikitanagar23@gmail.com\"\n",
    "username = email.split(\"@\")[0]\n",
    "print(username)\n",
    "\n"
   ]
  },
  {
   "cell_type": "code",
   "execution_count": null,
   "id": "aa0fb069-aa99-45f6-bdaf-23d55042adf0",
   "metadata": {},
   "outputs": [],
   "source": []
  },
  {
   "cell_type": "code",
   "execution_count": null,
   "id": "f11c65d2-255f-43b3-b61e-1a8478605f88",
   "metadata": {},
   "outputs": [],
   "source": []
  },
  {
   "cell_type": "code",
   "execution_count": 15,
   "id": "64c78eec-ac70-48a0-b590-b9d03a812b96",
   "metadata": {},
   "outputs": [],
   "source": [
    "#Question 32"
   ]
  },
  {
   "cell_type": "code",
   "execution_count": 16,
   "id": "eab6adbb-bcff-46a3-bd65-1a0044433ca9",
   "metadata": {},
   "outputs": [],
   "source": [
    "#Extract the domain name from an email address string"
   ]
  },
  {
   "cell_type": "code",
   "execution_count": 17,
   "id": "c8dab594-02fb-4a47-90e9-d5efae8c1988",
   "metadata": {},
   "outputs": [
    {
     "name": "stdout",
     "output_type": "stream",
     "text": [
      "The original string is : nikita@nagar23.com\n",
      "The extracted domain name : nagar23.com\n"
     ]
    }
   ],
   "source": [
    "test_str = 'nikita@nagar23.com'\n",
    "print(\"The original string is : \" + str(test_str))\n",
    "res = test_str[test_str.index('@') + 1 : ]\n",
    "print(\"The extracted domain name : \" + str(res))"
   ]
  },
  {
   "cell_type": "code",
   "execution_count": null,
   "id": "185c626f-0b6d-4a44-8d69-0c340addd123",
   "metadata": {},
   "outputs": [],
   "source": []
  },
  {
   "cell_type": "code",
   "execution_count": null,
   "id": "84b7f69c-c31d-4794-8ee1-a04ce94bb75e",
   "metadata": {},
   "outputs": [],
   "source": []
  },
  {
   "cell_type": "code",
   "execution_count": 33,
   "id": "4be655ce-69a1-4e78-a17e-d409dd21cb6c",
   "metadata": {},
   "outputs": [],
   "source": [
    "#Question 33"
   ]
  },
  {
   "cell_type": "code",
   "execution_count": 34,
   "id": "9536465b-dbec-4171-a64c-510edca36359",
   "metadata": {},
   "outputs": [],
   "source": [
    "# Replace multiple spaces in a string with a single space"
   ]
  },
  {
   "cell_type": "code",
   "execution_count": 35,
   "id": "a9afef08-ac6c-40f3-89db-94a03531fbcc",
   "metadata": {},
   "outputs": [
    {
     "data": {
      "text/plain": [
       "['Hello,', 'from', 'codefather!', \"let's\", 'learn', 'python!']"
      ]
     },
     "execution_count": 35,
     "metadata": {},
     "output_type": "execute_result"
    }
   ],
   "source": [
    "text = \"Hello,         from codefather!     let's learn python!\"\n",
    "text.split()\n"
   ]
  },
  {
   "cell_type": "code",
   "execution_count": null,
   "id": "6ad3a19c-ed8a-4979-82d7-90af1b91bf32",
   "metadata": {},
   "outputs": [],
   "source": []
  },
  {
   "cell_type": "code",
   "execution_count": null,
   "id": "552998eb-07eb-4e96-acf9-8524f7c23e5b",
   "metadata": {},
   "outputs": [],
   "source": []
  },
  {
   "cell_type": "code",
   "execution_count": 36,
   "id": "60cd3ae0-808c-43e4-8485-4d832355e53e",
   "metadata": {},
   "outputs": [],
   "source": [
    "#Question 34"
   ]
  },
  {
   "cell_type": "code",
   "execution_count": 37,
   "id": "22139c6c-6779-48ab-8fed-b9a031850008",
   "metadata": {},
   "outputs": [],
   "source": [
    "#check if a string is a valid URL"
   ]
  },
  {
   "cell_type": "code",
   "execution_count": 55,
   "id": "6b150100-9135-4ab0-ba24-793b7609628d",
   "metadata": {},
   "outputs": [
    {
     "name": "stdout",
     "output_type": "stream",
     "text": [
      "The URL is valid!\n"
     ]
    }
   ],
   "source": [
    "from urllib.parse import urlparse\n",
    "\n",
    "def is_valid_url(url):\n",
    "    try:\n",
    "        result = urlparse(url)\n",
    "        return all([result.scheme,result.netloc])\n",
    "    except valueError:\n",
    "        return False\n",
    "url =\"https://www.example.com\"\n",
    "if is_valid_url(url):\n",
    "    print(\"The URL is valid!\")\n",
    "else:\n",
    "    print(\"The URL is not valid.\")"
   ]
  },
  {
   "cell_type": "code",
   "execution_count": null,
   "id": "39b42d09-1d27-4ada-baa6-69571ab1c2e9",
   "metadata": {},
   "outputs": [],
   "source": []
  },
  {
   "cell_type": "code",
   "execution_count": null,
   "id": "e1bfaa6c-ccc2-4575-b91c-d95404b970d7",
   "metadata": {},
   "outputs": [],
   "source": []
  },
  {
   "cell_type": "code",
   "execution_count": 7,
   "id": "eb42d1a9-a26f-467c-9109-a5a315f0e5a4",
   "metadata": {},
   "outputs": [],
   "source": [
    "#Question 35"
   ]
  },
  {
   "cell_type": "code",
   "execution_count": 8,
   "id": "1ae2037a-dc88-4bbf-9382-43ea4262d098",
   "metadata": {},
   "outputs": [],
   "source": [
    "#Extract the protocol (http or https) from a url string"
   ]
  },
  {
   "cell_type": "code",
   "execution_count": 56,
   "id": "87d2e206-523f-47c3-8e4c-babee3767820",
   "metadata": {},
   "outputs": [
    {
     "name": "stdout",
     "output_type": "stream",
     "text": [
      "The protocol of the URL is: https\n"
     ]
    }
   ],
   "source": [
    "from urllib.parse import urlparse\n",
    "\n",
    "def extract_protocol(url):\n",
    "    result = urlparse(url)\n",
    "    return result.scheme\n",
    "\n",
    "url = \"https://www.example.com\"\n",
    "protocol = extract_protocol(url)\n",
    "print(\"The protocol of the URL is:\", protocol)"
   ]
  },
  {
   "cell_type": "code",
   "execution_count": null,
   "id": "a441cecd-a2e0-4684-b259-277c40ea6e9e",
   "metadata": {},
   "outputs": [],
   "source": []
  },
  {
   "cell_type": "code",
   "execution_count": null,
   "id": "f4f07963-7914-4394-86ef-ab7a95216833",
   "metadata": {},
   "outputs": [],
   "source": []
  },
  {
   "cell_type": "code",
   "execution_count": 11,
   "id": "8daa00f2-12f9-4ab9-9331-adb17812c732",
   "metadata": {},
   "outputs": [],
   "source": [
    "#Question 36"
   ]
  },
  {
   "cell_type": "code",
   "execution_count": 12,
   "id": "855efd96-118c-47bf-bd28-c5bb25104ff1",
   "metadata": {},
   "outputs": [],
   "source": [
    "# find the frequency of each character in a string"
   ]
  },
  {
   "cell_type": "code",
   "execution_count": 14,
   "id": "b877d8ac-00fa-4584-a1e4-c98fcd0dc85e",
   "metadata": {},
   "outputs": [
    {
     "name": "stdout",
     "output_type": "stream",
     "text": [
      "Count of all characters in GeeksforGeeks is :\n",
      " {'G': 2, 'e': 4, 'k': 2, 's': 2, 'f': 1, 'o': 1, 'r': 1}\n"
     ]
    }
   ],
   "source": [
    "test_str = \"GeeksforGeeks\"\n",
    "\n",
    "all_freq = {}\n",
    "for i in test_str:\n",
    "    if i in all_freq:\n",
    "        all_freq[i] += 1\n",
    "    else:\n",
    "        all_freq[i] = 1\n",
    "print(\"Count of all characters in GeeksforGeeks is :\\n \" + str(all_freq))\n",
    "      "
   ]
  },
  {
   "cell_type": "code",
   "execution_count": null,
   "id": "08101450-75b6-4cad-b4b9-89f721827225",
   "metadata": {},
   "outputs": [],
   "source": []
  },
  {
   "cell_type": "code",
   "execution_count": null,
   "id": "1e077ef9-6851-4e01-b061-056d8d29d9b7",
   "metadata": {},
   "outputs": [],
   "source": []
  },
  {
   "cell_type": "code",
   "execution_count": 15,
   "id": "305ff8ed-e5b4-47b1-b76c-f92b1f54aeb3",
   "metadata": {},
   "outputs": [],
   "source": [
    "#Question 37"
   ]
  },
  {
   "cell_type": "code",
   "execution_count": 16,
   "id": "78454a0b-0bf0-4ab5-ae93-f7a7af735405",
   "metadata": {},
   "outputs": [],
   "source": [
    "# remove all the punctuation from a string"
   ]
  },
  {
   "cell_type": "code",
   "execution_count": 59,
   "id": "e28b9316-e71c-4ede-ace2-33d403d243ad",
   "metadata": {},
   "outputs": [
    {
     "name": "stdout",
     "output_type": "stream",
     "text": [
      "Text without punctuation: HelloWorld How are you\n"
     ]
    }
   ],
   "source": [
    "import string\n",
    "def remove_punctuation(text):\n",
    "    return text.translate(str.maketrans(\"\",\"\",string.punctuation))\n",
    "input_text = \"Hello,World! How are you?\"\n",
    "clean_text = remove_punctuation(input_text)\n",
    "print(\"Text without punctuation:\",clean_text)                                        "
   ]
  },
  {
   "cell_type": "code",
   "execution_count": null,
   "id": "185619f1-acd1-47d2-93cc-7d8d2b2e2103",
   "metadata": {},
   "outputs": [],
   "source": []
  },
  {
   "cell_type": "code",
   "execution_count": null,
   "id": "103aece0-064f-4feb-81bf-f6b6fbc53bd8",
   "metadata": {},
   "outputs": [],
   "source": []
  },
  {
   "cell_type": "code",
   "execution_count": 37,
   "id": "0369a4e6-4189-46bf-a515-470f0c0987f3",
   "metadata": {},
   "outputs": [],
   "source": [
    "# Question 38"
   ]
  },
  {
   "cell_type": "code",
   "execution_count": 38,
   "id": "467de93b-9914-4f55-82a4-99fc6969c049",
   "metadata": {},
   "outputs": [],
   "source": [
    "# check if a string contain only digit"
   ]
  },
  {
   "cell_type": "code",
   "execution_count": 42,
   "id": "f6fc41d1-a260-42a5-90a8-d77e447cca3d",
   "metadata": {},
   "outputs": [
    {
     "name": "stdout",
     "output_type": "stream",
     "text": [
      "Initial strings :  1234556 ab123bc\n",
      "string1 contains all numbers\n",
      "string2 doesn't contains all numbers\n"
     ]
    }
   ],
   "source": [
    "ini_string1 = '1234556'\n",
    "ini_string2 = 'ab123bc'\n",
    "print(\"Initial strings : \", ini_string1, ini_string2)\n",
    "if ini_string1.isdigit():\n",
    "    print(\"string1 contains all numbers\")\n",
    "else:\n",
    "    print(\"string1 doesn't contains all numbers\")\n",
    "if ini_string2.isdigit():\n",
    "    print(\"string2 contains all numbers\")\n",
    "else:\n",
    "    print(\"string2 doesn't contains all numbers\")"
   ]
  },
  {
   "cell_type": "code",
   "execution_count": null,
   "id": "ce40393c-2eb0-4d01-9dc8-cfc246a37027",
   "metadata": {},
   "outputs": [],
   "source": []
  },
  {
   "cell_type": "code",
   "execution_count": null,
   "id": "873237be-e21d-4685-bfa1-d968a82f54c9",
   "metadata": {},
   "outputs": [],
   "source": []
  },
  {
   "cell_type": "code",
   "execution_count": 43,
   "id": "24fffa24-9a8a-4312-891a-56beaea2d08b",
   "metadata": {},
   "outputs": [],
   "source": [
    "#Question 39"
   ]
  },
  {
   "cell_type": "code",
   "execution_count": 1,
   "id": "3c92510e-b969-4042-9b40-15390a7265e7",
   "metadata": {},
   "outputs": [],
   "source": [
    "# check if the string contain only alphabets"
   ]
  },
  {
   "cell_type": "code",
   "execution_count": 2,
   "id": "165d3baa-406a-42e1-86d0-317a0ed87b78",
   "metadata": {},
   "outputs": [
    {
     "name": "stdout",
     "output_type": "stream",
     "text": [
      "True\n"
     ]
    }
   ],
   "source": [
    "string = \"nikitanagar\"\n",
    "print(string.isalpha())"
   ]
  },
  {
   "cell_type": "code",
   "execution_count": null,
   "id": "36a070e2-124e-46a8-9239-4755cc8d9819",
   "metadata": {},
   "outputs": [],
   "source": []
  },
  {
   "cell_type": "code",
   "execution_count": null,
   "id": "1eaa1abe-5117-4b85-be44-be26bd9fe4b5",
   "metadata": {},
   "outputs": [],
   "source": []
  },
  {
   "cell_type": "code",
   "execution_count": 3,
   "id": "f78db5c0-7361-4771-8619-46710ead38c7",
   "metadata": {},
   "outputs": [],
   "source": [
    "#Question 40"
   ]
  },
  {
   "cell_type": "code",
   "execution_count": 4,
   "id": "0913666f-3b59-4c60-85de-9f13bb1e24d4",
   "metadata": {},
   "outputs": [],
   "source": [
    "#convert a string to a list of characters"
   ]
  },
  {
   "cell_type": "code",
   "execution_count": 5,
   "id": "5cde0846-c681-4db1-b246-d92dcb5afe1c",
   "metadata": {},
   "outputs": [
    {
     "name": "stdout",
     "output_type": "stream",
     "text": [
      "['n', 'i', 'k', 'i', 't', 'a', ' ', 'n', 'a', 'g', 'a', 'r']\n"
     ]
    }
   ],
   "source": [
    "string = \"nikita nagar\"\n",
    "print([*string])"
   ]
  },
  {
   "cell_type": "code",
   "execution_count": null,
   "id": "a23c7be3-c528-4fc2-9f48-b24ef4a03d6e",
   "metadata": {},
   "outputs": [],
   "source": []
  },
  {
   "cell_type": "code",
   "execution_count": null,
   "id": "92092755-bc9c-4e01-87c5-4ef62d12eb98",
   "metadata": {},
   "outputs": [],
   "source": []
  },
  {
   "cell_type": "code",
   "execution_count": 6,
   "id": "c81efe6b-57d4-40de-9c6d-35bcde7712d0",
   "metadata": {},
   "outputs": [],
   "source": [
    "#Question 41 "
   ]
  },
  {
   "cell_type": "code",
   "execution_count": 7,
   "id": "a3c488d6-5e1e-46e9-948a-5aed6c59d094",
   "metadata": {},
   "outputs": [],
   "source": [
    "#check if twoo string are anagrams"
   ]
  },
  {
   "cell_type": "code",
   "execution_count": 13,
   "id": "3306f9bb-b3ef-4bef-803f-f6ca70230a60",
   "metadata": {},
   "outputs": [
    {
     "name": "stdout",
     "output_type": "stream",
     "text": [
      "The strings are anagrams.\n"
     ]
    }
   ],
   "source": [
    "def check(s1,s2):\n",
    "    \n",
    "    if (sorted(s1) == sorted(s2)):\n",
    "        print(\"The strings are anagrams.\")\n",
    "    else:\n",
    "        print(\"The string aren't anagrams.\")\n",
    "s1 =\"listen\"\n",
    "s2 = \"silent\"\n",
    "check(s1,s2)"
   ]
  },
  {
   "cell_type": "code",
   "execution_count": null,
   "id": "63d20089-04c6-4041-a711-ff5f06f9292f",
   "metadata": {},
   "outputs": [],
   "source": []
  },
  {
   "cell_type": "code",
   "execution_count": null,
   "id": "efa2ce15-7e34-4a89-b38a-4f4d95be6058",
   "metadata": {},
   "outputs": [],
   "source": []
  },
  {
   "cell_type": "code",
   "execution_count": 14,
   "id": "efcdbe6d-be5a-4fdd-b788-2c87fdafd980",
   "metadata": {},
   "outputs": [],
   "source": [
    "#Quetion 42"
   ]
  },
  {
   "cell_type": "code",
   "execution_count": 17,
   "id": "aa1eb042-911f-4503-b788-a326cf7e6fce",
   "metadata": {},
   "outputs": [],
   "source": [
    "# Encode a string using a caesar cipher"
   ]
  },
  {
   "cell_type": "code",
   "execution_count": 22,
   "id": "301a7370-7004-423f-96be-1d0583ae148d",
   "metadata": {},
   "outputs": [
    {
     "name": "stdout",
     "output_type": "stream",
     "text": [
      "Text : ATTACKATONCE\n",
      "Shift : 4\n",
      "Cipher :  EXXEGOEXSRGI\n"
     ]
    }
   ],
   "source": [
    "def encrypt(text,s):\n",
    "    result = \" \"\n",
    "    for i in range(len(text)):\n",
    "        char = text[i]\n",
    "        if (char.isupper()):\n",
    "            result += chr((ord(char) + s-65) % 26 + 65)\n",
    "        else:\n",
    "            result += chr((ord(char) + s - 97) % 26 + 97)\n",
    "    return result\n",
    "text = \"ATTACKATONCE\"\n",
    "s = 4\n",
    "print (\"Text : \" + text)\n",
    "print (\"Shift : \"  +str(s))\n",
    "print (\"Cipher : \" + encrypt(text,s))"
   ]
  },
  {
   "cell_type": "code",
   "execution_count": null,
   "id": "d5e25d59-ba0b-4331-adfa-c8a60d9de49e",
   "metadata": {},
   "outputs": [],
   "source": []
  },
  {
   "cell_type": "code",
   "execution_count": null,
   "id": "cc7048a4-9c22-40fa-bb54-1c639bb1bad2",
   "metadata": {},
   "outputs": [],
   "source": []
  },
  {
   "cell_type": "code",
   "execution_count": 23,
   "id": "62f2bcd3-94e4-453d-aeda-8a5826284804",
   "metadata": {},
   "outputs": [],
   "source": [
    "#Question 43"
   ]
  },
  {
   "cell_type": "code",
   "execution_count": 24,
   "id": "079a12eb-bac2-4c03-ae10-5b0bd1b1e9ca",
   "metadata": {},
   "outputs": [],
   "source": [
    "#decode a caesar cipher encoded string"
   ]
  },
  {
   "cell_type": "code",
   "execution_count": 55,
   "id": "1f3a25d2-622a-469a-ab65-98015d233eab",
   "metadata": {},
   "outputs": [
    {
     "ename": "NameError",
     "evalue": "name 'decode_caser_cipher' is not defined",
     "output_type": "error",
     "traceback": [
      "\u001b[0;31m---------------------------------------------------------------------------\u001b[0m",
      "\u001b[0;31mNameError\u001b[0m                                 Traceback (most recent call last)",
      "Cell \u001b[0;32mIn[55], line 13\u001b[0m\n\u001b[1;32m     11\u001b[0m encoded_text \u001b[38;5;241m=\u001b[39m \u001b[38;5;124m\"\u001b[39m\u001b[38;5;124mRovvy,gybvn! Uifsf bsf zpv?\u001b[39m\u001b[38;5;124m\"\u001b[39m\n\u001b[1;32m     12\u001b[0m shift_amount \u001b[38;5;241m=\u001b[39m \u001b[38;5;241m1\u001b[39m\n\u001b[0;32m---> 13\u001b[0m decoded_text \u001b[38;5;241m=\u001b[39m \u001b[43mdecode_caser_cipher\u001b[49m(encoded_text,shift_amount)\n\u001b[1;32m     14\u001b[0m \u001b[38;5;28mprint\u001b[39m(\u001b[38;5;124m\"\u001b[39m\u001b[38;5;124mDecoded text:\u001b[39m\u001b[38;5;124m\"\u001b[39m,decoded_text)\n",
      "\u001b[0;31mNameError\u001b[0m: name 'decode_caser_cipher' is not defined"
     ]
    }
   ],
   "source": [
    "def decode_caesar_cipher(encoded_str,shift):\n",
    "    decoded_str =\"\"\n",
    "    for char in encoded_str:\n",
    "        if char.isalpha():\n",
    "            ascii_offset = ord('A') if char.isupper()else ord('a')\n",
    "            decoded_char = chr((ord(char)-ascii_offset - shift)%26 +ascii_offset)\n",
    "            decoded_str += decoded_char\n",
    "        else:\n",
    "            decoded_str +=char\n",
    "    return decoded_str\n",
    "encoded_text = \"Rovvy,gybvn! Uifsf bsf zpv?\"\n",
    "shift_amount = 1\n",
    "decoded_text = decode_caser_cipher(encoded_text,shift_amount)\n",
    "print(\"Decoded text:\",decoded_text)"
   ]
  },
  {
   "cell_type": "code",
   "execution_count": null,
   "id": "3be15863-1ec0-409c-bfee-2965b196ae8d",
   "metadata": {},
   "outputs": [],
   "source": [
    "                        "
   ]
  },
  {
   "cell_type": "code",
   "execution_count": null,
   "id": "c82b9391-f862-4f68-83c6-f54d76c487bf",
   "metadata": {},
   "outputs": [],
   "source": []
  },
  {
   "cell_type": "code",
   "execution_count": 49,
   "id": "2f51f57a-beda-4d6b-8bf3-c53a5b86b44d",
   "metadata": {},
   "outputs": [],
   "source": [
    "#Question 44"
   ]
  },
  {
   "cell_type": "code",
   "execution_count": 50,
   "id": "53faa951-8389-4de1-9f63-bbc897f23421",
   "metadata": {},
   "outputs": [],
   "source": [
    "#find the most frequent word in a string"
   ]
  },
  {
   "cell_type": "code",
   "execution_count": 66,
   "id": "9f95500a-e2d9-460c-ad56-aefec63ad36f",
   "metadata": {},
   "outputs": [
    {
     "name": "stdout",
     "output_type": "stream",
     "text": [
      "The most frequent word is: hello\n"
     ]
    }
   ],
   "source": [
    "from collections import Counter\n",
    "def find_most_frequent_word(string):\n",
    "    words = string.split()\n",
    "    word_counts = Counter(words)\n",
    "    most_frequent_word = word_counts.most_common(1)[0][0]\n",
    "    return most_frequent_word\n",
    "text = \"Hello world, hello python, hello world!\"\n",
    "most_frequent = find_most_frequent_word(text)\n",
    "print(\"The most frequent word is:\",most_frequent)\n",
    "\n"
   ]
  },
  {
   "cell_type": "code",
   "execution_count": null,
   "id": "983ff5e7-cf5c-4322-93ef-689c7f11c8cc",
   "metadata": {},
   "outputs": [],
   "source": []
  },
  {
   "cell_type": "code",
   "execution_count": null,
   "id": "3bc29bc5-cecd-4273-a76c-465c70c616e2",
   "metadata": {},
   "outputs": [],
   "source": []
  },
  {
   "cell_type": "code",
   "execution_count": 22,
   "id": "1e37c43e-564b-4776-abc4-5e8981ef10d3",
   "metadata": {},
   "outputs": [],
   "source": [
    "#Question 45"
   ]
  },
  {
   "cell_type": "code",
   "execution_count": 23,
   "id": "a8b70dea-247f-427c-b717-e4b52392ea22",
   "metadata": {},
   "outputs": [],
   "source": [
    "#find all unique words in a string"
   ]
  },
  {
   "cell_type": "code",
   "execution_count": 69,
   "id": "8f071310-7841-49b6-94bf-608dab962fca",
   "metadata": {},
   "outputs": [
    {
     "name": "stdout",
     "output_type": "stream",
     "text": [
      "Unique words: {'world,hello', 'hello', 'world!', 'python,', 'Hello'}\n"
     ]
    }
   ],
   "source": [
    "def find_unique_words(string):\n",
    "    words = string.split()\n",
    "    unique_words = set(words)\n",
    "    return unique_words\n",
    "text =\"Hello world,hello python, hello world!\"\n",
    "unique_words = find_unique_words(text)\n",
    "print(\"Unique words:\", unique_words)"
   ]
  },
  {
   "cell_type": "code",
   "execution_count": null,
   "id": "88a9fe08-3e2c-4d7a-aca1-45f1304a3dce",
   "metadata": {},
   "outputs": [],
   "source": []
  },
  {
   "cell_type": "code",
   "execution_count": null,
   "id": "e049d4b3-05c5-49ee-9a71-ec460a765181",
   "metadata": {},
   "outputs": [],
   "source": []
  },
  {
   "cell_type": "code",
   "execution_count": 27,
   "id": "3937aef7-7d42-48b8-8804-10153bb18ec0",
   "metadata": {},
   "outputs": [],
   "source": [
    "#Question 46"
   ]
  },
  {
   "cell_type": "code",
   "execution_count": 28,
   "id": "a3c13d15-6f5c-4912-8d19-dfc09216b3ea",
   "metadata": {},
   "outputs": [],
   "source": [
    "#count the number of syllables in a string"
   ]
  },
  {
   "cell_type": "code",
   "execution_count": 73,
   "id": "2ae5e90d-4a2a-4cc5-bd07-12c80579fd2b",
   "metadata": {},
   "outputs": [
    {
     "ename": "ModuleNotFoundError",
     "evalue": "No module named 'pyphen'",
     "output_type": "error",
     "traceback": [
      "\u001b[0;31m---------------------------------------------------------------------------\u001b[0m",
      "\u001b[0;31mModuleNotFoundError\u001b[0m                       Traceback (most recent call last)",
      "Cell \u001b[0;32mIn[73], line 1\u001b[0m\n\u001b[0;32m----> 1\u001b[0m \u001b[38;5;28;01mimport\u001b[39;00m \u001b[38;5;21;01mpyphen\u001b[39;00m\n\u001b[1;32m      3\u001b[0m \u001b[38;5;28;01mdef\u001b[39;00m \u001b[38;5;21mcount_syllables\u001b[39m(word):\n\u001b[1;32m      4\u001b[0m     dic \u001b[38;5;241m=\u001b[39m pyphen\u001b[38;5;241m.\u001b[39mPyphen(lang\u001b[38;5;241m=\u001b[39m\u001b[38;5;124m'\u001b[39m\u001b[38;5;124men\u001b[39m\u001b[38;5;124m'\u001b[39m)\n",
      "\u001b[0;31mModuleNotFoundError\u001b[0m: No module named 'pyphen'"
     ]
    }
   ],
   "source": [
    "import pyphen\n",
    "\n",
    "def count_syllables(word):\n",
    "    dic = pyphen.Pyphen(lang='en')\n",
    "    syllables = dic.inserted(word).count('-')+1\n",
    "    return syllables\n",
    "text =\"Hello world!\"\n",
    "syllables = count_syllables(text)\n",
    "print(\"Number of syllables:\",syllables)"
   ]
  },
  {
   "cell_type": "code",
   "execution_count": null,
   "id": "d3f3ce56-57e2-4531-8eae-6e134659e482",
   "metadata": {},
   "outputs": [],
   "source": []
  },
  {
   "cell_type": "code",
   "execution_count": 31,
   "id": "d3d865c5-bc8d-4a49-ab9b-05fa52be842e",
   "metadata": {},
   "outputs": [],
   "source": []
  },
  {
   "cell_type": "code",
   "execution_count": 30,
   "id": "e52853e7-739b-42f5-a74e-44abef125e9a",
   "metadata": {},
   "outputs": [],
   "source": [
    "#Question 47"
   ]
  },
  {
   "cell_type": "code",
   "execution_count": 32,
   "id": "d77dad9a-ec35-49d1-be52-c54e47be64ed",
   "metadata": {},
   "outputs": [],
   "source": [
    "#check if a string contains any special characters."
   ]
  },
  {
   "cell_type": "code",
   "execution_count": 35,
   "id": "db6a10bb-35d9-4dca-ac62-2c34c07597bf",
   "metadata": {},
   "outputs": [
    {
     "name": "stdout",
     "output_type": "stream",
     "text": [
      "string contain special characters\n"
     ]
    }
   ],
   "source": [
    "import re\n",
    "def run(string):\n",
    "    regex = re.compile('[@_!#$%^&*()<>?/\\|}{~:]')\n",
    "    if(regex.search(string) == None):\n",
    "        print(\"string does not contains special characters\")\n",
    "    else:\n",
    "        print(\"string contain special characters\")\n",
    "if __name__ == '__main__' :\n",
    "    string = \"My@name$is#Nikita&nagar*\"\n",
    "    run(string)"
   ]
  },
  {
   "cell_type": "code",
   "execution_count": null,
   "id": "c3c19134-f53d-4e06-8e8a-e9caee697aac",
   "metadata": {},
   "outputs": [],
   "source": []
  },
  {
   "cell_type": "code",
   "execution_count": null,
   "id": "4090b92a-aaf0-4984-9e5d-10d02cfd0898",
   "metadata": {},
   "outputs": [],
   "source": []
  },
  {
   "cell_type": "code",
   "execution_count": 36,
   "id": "227cd5a6-efc4-49fd-94de-6b52e67ab94d",
   "metadata": {},
   "outputs": [],
   "source": [
    "#Question 48"
   ]
  },
  {
   "cell_type": "code",
   "execution_count": 37,
   "id": "e4afa6ae-abd4-4c9f-9b80-cadb2c5761f5",
   "metadata": {},
   "outputs": [],
   "source": [
    "#remove the nth word from a string"
   ]
  },
  {
   "cell_type": "code",
   "execution_count": 4,
   "id": "982ac7de-6337-4bba-8fea-9231c8f907a0",
   "metadata": {},
   "outputs": [
    {
     "name": "stdout",
     "output_type": "stream",
     "text": [
      "Hello,howyoudoingtoday?\n"
     ]
    }
   ],
   "source": [
    "def remove_nth_word(string,n):\n",
    "    words = string.split()\n",
    "    if n<=len(words):\n",
    "        words.pop(n-1)\n",
    "    return''.join(words)\n",
    "sentence =\"Hello, how are you doing today?\"\n",
    "new_sentence = remove_nth_word(sentence,3)\n",
    "print(new_sentence)"
   ]
  },
  {
   "cell_type": "code",
   "execution_count": null,
   "id": "d86aad77-a096-443e-8ea0-5553ef578581",
   "metadata": {},
   "outputs": [],
   "source": []
  },
  {
   "cell_type": "code",
   "execution_count": null,
   "id": "120c97ce-1d7e-43f0-86f9-f996415d4b9a",
   "metadata": {},
   "outputs": [],
   "source": []
  },
  {
   "cell_type": "code",
   "execution_count": 5,
   "id": "6dbb47ab-fef3-4df0-9812-419bac13c1c2",
   "metadata": {},
   "outputs": [],
   "source": [
    "# Question 49"
   ]
  },
  {
   "cell_type": "code",
   "execution_count": 6,
   "id": "a0d7e3fa-a7a3-4548-b5b3-ce5f3c38d91d",
   "metadata": {},
   "outputs": [],
   "source": [
    "#insert a word at the nth position in a string"
   ]
  },
  {
   "cell_type": "code",
   "execution_count": 12,
   "id": "2e3ef244-5b38-4975-a9a2-3da1725aa1dd",
   "metadata": {},
   "outputs": [
    {
     "name": "stdout",
     "output_type": "stream",
     "text": [
      "Hello, how aamazingre you doing today?\n"
     ]
    }
   ],
   "source": [
    "def insert_word(string, word, n):\n",
    "    return string[:n] + word + string[n:]\n",
    "sentence = \"Hello, how are you doing today?\"\n",
    "new_sentence = insert_word(sentence, \"amazing\", 12)\n",
    "print(new_sentence)"
   ]
  },
  {
   "cell_type": "code",
   "execution_count": null,
   "id": "f764fa94-c864-41c0-b95d-a6b21d2a0dfc",
   "metadata": {},
   "outputs": [],
   "source": []
  },
  {
   "cell_type": "code",
   "execution_count": null,
   "id": "473beb3d-e005-43f4-bc5e-9f91d8906aa0",
   "metadata": {},
   "outputs": [],
   "source": []
  },
  {
   "cell_type": "code",
   "execution_count": 13,
   "id": "40406ac5-2731-4499-9ed9-a26638823cea",
   "metadata": {},
   "outputs": [],
   "source": [
    "#Question 50"
   ]
  },
  {
   "cell_type": "code",
   "execution_count": 14,
   "id": "02283cab-99e5-4b45-b977-36110d724b56",
   "metadata": {},
   "outputs": [],
   "source": [
    "# convert a CSV string to a list of lists."
   ]
  },
  {
   "cell_type": "code",
   "execution_count": 1,
   "id": "8eccc810-bbdd-46d6-9935-3c2ae16f746a",
   "metadata": {},
   "outputs": [
    {
     "name": "stdout",
     "output_type": "stream",
     "text": [
      "[['1', 'Aditya', 'Nagar'], ['2', 'Khushi', 'Nagar'], ['3', 'Nikita', 'Nagar']]\n"
     ]
    }
   ],
   "source": [
    "import csv\n",
    "def csv_to_list(csv_string):\n",
    "    csv_list = []\n",
    "    reader = csv.reader(csv_string.splitlines())\n",
    "    for row in reader:\n",
    "        csv_list.append(row)\n",
    "    return csv_list\n",
    "csv_string = \"1,Aditya,Nagar\\n2,Khushi,Nagar\\n3,Nikita,Nagar\"\n",
    "csv_list = csv_to_list(csv_string)\n",
    "print(csv_list)"
   ]
  },
  {
   "cell_type": "code",
   "execution_count": null,
   "id": "e1867de7-c5c8-408c-bf74-ced5b0d32892",
   "metadata": {},
   "outputs": [],
   "source": []
  },
  {
   "cell_type": "code",
   "execution_count": null,
   "id": "66f27e6b-8543-4e09-af32-3bf8f48e1502",
   "metadata": {},
   "outputs": [],
   "source": []
  },
  {
   "cell_type": "code",
   "execution_count": 2,
   "id": "e3e76fc9-85d4-4ff3-8d67-fd8c196e3a4a",
   "metadata": {},
   "outputs": [],
   "source": [
    "#LIST BASED PRACTICE PROBLEM:"
   ]
  },
  {
   "cell_type": "code",
   "execution_count": 3,
   "id": "e1d74ce8-83f8-4676-bf30-9700a95341b9",
   "metadata": {},
   "outputs": [],
   "source": [
    "#Question 1"
   ]
  },
  {
   "cell_type": "code",
   "execution_count": 4,
   "id": "d5d208f4-c86f-4811-ace6-1b0f72541200",
   "metadata": {},
   "outputs": [],
   "source": [
    "#create a list with integers from 1 to 10."
   ]
  },
  {
   "cell_type": "code",
   "execution_count": 5,
   "id": "dc7619d3-4b66-4328-a048-d83d887f1fcc",
   "metadata": {},
   "outputs": [
    {
     "name": "stdout",
     "output_type": "stream",
     "text": [
      "[1, 2, 3, 4, 5, 6, 7, 8, 9, 10]\n"
     ]
    }
   ],
   "source": [
    "my_list = list(range(1,11))\n",
    "print(my_list)"
   ]
  },
  {
   "cell_type": "code",
   "execution_count": null,
   "id": "b4868f37-5b40-4865-bb1c-3236084911ba",
   "metadata": {},
   "outputs": [],
   "source": []
  },
  {
   "cell_type": "code",
   "execution_count": null,
   "id": "dea8ac1a-8b55-4817-8342-868b599f0bdf",
   "metadata": {},
   "outputs": [],
   "source": []
  },
  {
   "cell_type": "code",
   "execution_count": 6,
   "id": "c2ef2c7b-c3d9-4933-b6ea-ca77806642d9",
   "metadata": {},
   "outputs": [],
   "source": [
    "#Question 2"
   ]
  },
  {
   "cell_type": "code",
   "execution_count": 7,
   "id": "4409be9e-9931-4d36-8238-50322ba58f4d",
   "metadata": {},
   "outputs": [],
   "source": [
    "#Find the length of a list without using the 'len()' function "
   ]
  },
  {
   "cell_type": "code",
   "execution_count": 25,
   "id": "2fc7b1a5-b70c-44d4-9353-3bbd319efc5d",
   "metadata": {},
   "outputs": [
    {
     "name": "stdout",
     "output_type": "stream",
     "text": [
      "1\n",
      "2\n",
      "3\n",
      "4\n",
      "5\n"
     ]
    }
   ],
   "source": [
    "my_list = [1,2,3,4,5]\n",
    "count = 0\n",
    "for _ in my_list:\n",
    "    count += 1\n",
    "    print(count)"
   ]
  },
  {
   "cell_type": "code",
   "execution_count": null,
   "id": "9dd7f82c-590d-44d2-a202-fe17afef02e1",
   "metadata": {},
   "outputs": [],
   "source": []
  },
  {
   "cell_type": "code",
   "execution_count": null,
   "id": "cc2c3919-b1e9-4b35-a759-9007697ddcde",
   "metadata": {},
   "outputs": [],
   "source": []
  },
  {
   "cell_type": "code",
   "execution_count": 26,
   "id": "1515da67-98d6-416a-87bc-b4415cc697c6",
   "metadata": {},
   "outputs": [],
   "source": [
    "#Question 3"
   ]
  },
  {
   "cell_type": "code",
   "execution_count": 27,
   "id": "580b6d52-6596-4f8d-a6e2-66bfb9324a88",
   "metadata": {},
   "outputs": [],
   "source": [
    "#append an element to the end of a list."
   ]
  },
  {
   "cell_type": "code",
   "execution_count": 1,
   "id": "3008db90-dfe2-4ae6-a799-b4d1290294ff",
   "metadata": {},
   "outputs": [
    {
     "name": "stdout",
     "output_type": "stream",
     "text": [
      "[1, 2, 3, 4]\n"
     ]
    }
   ],
   "source": [
    "my_list = [1,2,3]\n",
    "my_list.append(4)\n",
    "print(my_list)"
   ]
  },
  {
   "cell_type": "code",
   "execution_count": null,
   "id": "f8b5ca53-669e-466c-9366-410320a57ea3",
   "metadata": {},
   "outputs": [],
   "source": []
  },
  {
   "cell_type": "code",
   "execution_count": null,
   "id": "66c1669c-ef9f-41fd-9ed3-61c5be0a191b",
   "metadata": {},
   "outputs": [],
   "source": []
  },
  {
   "cell_type": "code",
   "execution_count": 2,
   "id": "80b7a057-f6b1-4bd6-ae92-86cbf4f88ebf",
   "metadata": {},
   "outputs": [],
   "source": [
    "# Question 4"
   ]
  },
  {
   "cell_type": "code",
   "execution_count": 4,
   "id": "150a7f29-98bf-4cf4-850f-ab37f9486c06",
   "metadata": {},
   "outputs": [],
   "source": [
    "# insert an element at a specific index in a list"
   ]
  },
  {
   "cell_type": "code",
   "execution_count": 5,
   "id": "e70da031-e9b2-4b54-85f6-e79237e6042a",
   "metadata": {},
   "outputs": [
    {
     "name": "stdout",
     "output_type": "stream",
     "text": [
      "[1, 2, 5, 3, 4]\n"
     ]
    }
   ],
   "source": [
    "my_list = [1,2,3,4]\n",
    "my_list.insert(2,5)\n",
    "print(my_list)"
   ]
  },
  {
   "cell_type": "code",
   "execution_count": null,
   "id": "6a7997ee-c5e5-4d33-8a4b-07e85ed639d1",
   "metadata": {},
   "outputs": [],
   "source": []
  },
  {
   "cell_type": "code",
   "execution_count": null,
   "id": "6fc95ca5-0e3c-43c1-bbf3-448036204790",
   "metadata": {},
   "outputs": [],
   "source": []
  },
  {
   "cell_type": "code",
   "execution_count": 6,
   "id": "640d197a-e330-41ad-99d7-75866bbd6f1f",
   "metadata": {},
   "outputs": [],
   "source": [
    "# Question 5 "
   ]
  },
  {
   "cell_type": "code",
   "execution_count": 7,
   "id": "64a41f80-2b51-4782-855e-6fba424393de",
   "metadata": {},
   "outputs": [],
   "source": [
    "#Remove an element from a list by its value"
   ]
  },
  {
   "cell_type": "code",
   "execution_count": 8,
   "id": "ce35cdf1-56b7-4791-bf0e-1babe23e9012",
   "metadata": {},
   "outputs": [
    {
     "name": "stdout",
     "output_type": "stream",
     "text": [
      "[1, 2, 4, 5]\n"
     ]
    }
   ],
   "source": [
    "my_list = [1,2,3,4,5]\n",
    "my_list.remove(3)\n",
    "print(my_list)"
   ]
  },
  {
   "cell_type": "code",
   "execution_count": null,
   "id": "c27adc0a-8a83-45c2-95cd-cf7e185fbdd2",
   "metadata": {},
   "outputs": [],
   "source": []
  },
  {
   "cell_type": "code",
   "execution_count": null,
   "id": "3bbc5554-926d-4321-8de2-e28753a74cd4",
   "metadata": {},
   "outputs": [],
   "source": []
  },
  {
   "cell_type": "code",
   "execution_count": 9,
   "id": "f86207cc-1f9e-42cb-ab88-3422a33deea4",
   "metadata": {},
   "outputs": [],
   "source": [
    "# Question 6 "
   ]
  },
  {
   "cell_type": "code",
   "execution_count": 10,
   "id": "cb9a4398-7767-48d1-897a-aa30ab7fea42",
   "metadata": {},
   "outputs": [],
   "source": [
    "#Remove an element from a list by its index"
   ]
  },
  {
   "cell_type": "code",
   "execution_count": 14,
   "id": "3cd36231-1aaa-4c05-b95a-55460b91d8f5",
   "metadata": {},
   "outputs": [
    {
     "name": "stdout",
     "output_type": "stream",
     "text": [
      "[1, 2, 4, 5]\n",
      "3\n"
     ]
    }
   ],
   "source": [
    "my_list = [1,2,3,4,5]\n",
    "removed_element = my_list.pop(2)\n",
    "print(my_list)\n",
    "print(removed_element)"
   ]
  },
  {
   "cell_type": "code",
   "execution_count": null,
   "id": "4738efd0-c8e3-43c2-8b24-11b3cc189c79",
   "metadata": {},
   "outputs": [],
   "source": []
  },
  {
   "cell_type": "code",
   "execution_count": null,
   "id": "5a632027-d360-46a1-b97c-1f86a51ca9a9",
   "metadata": {},
   "outputs": [],
   "source": []
  },
  {
   "cell_type": "code",
   "execution_count": 15,
   "id": "8391cbad-39fc-4c29-8753-b8fbde8072cf",
   "metadata": {},
   "outputs": [],
   "source": [
    "# Question 7"
   ]
  },
  {
   "cell_type": "code",
   "execution_count": 17,
   "id": "ad248318-a031-41c1-a5ec-d42c89d01747",
   "metadata": {},
   "outputs": [],
   "source": [
    "# Check if an element exists in a list"
   ]
  },
  {
   "cell_type": "code",
   "execution_count": 19,
   "id": "d9d67662-a283-4300-a6bc-9a42c395968e",
   "metadata": {},
   "outputs": [
    {
     "name": "stdout",
     "output_type": "stream",
     "text": [
      "True\n"
     ]
    }
   ],
   "source": [
    "my_list = [1,2,3,4,5]\n",
    "element_exists = 3 in my_list\n",
    "print(element_exists)"
   ]
  },
  {
   "cell_type": "code",
   "execution_count": null,
   "id": "c0dcc9fd-f169-42ee-b15e-cdf93f742650",
   "metadata": {},
   "outputs": [],
   "source": []
  },
  {
   "cell_type": "code",
   "execution_count": null,
   "id": "fa645bf1-f762-4496-a6cf-bed988b05e5b",
   "metadata": {},
   "outputs": [],
   "source": []
  },
  {
   "cell_type": "code",
   "execution_count": 20,
   "id": "5590cbc2-6854-430a-8449-ee1de2e70910",
   "metadata": {},
   "outputs": [],
   "source": [
    "# Question 8"
   ]
  },
  {
   "cell_type": "code",
   "execution_count": 21,
   "id": "fe404e32-08ce-4435-b0d2-06621ea5de61",
   "metadata": {},
   "outputs": [],
   "source": [
    "# find the index of the first occurence of an element in a list"
   ]
  },
  {
   "cell_type": "code",
   "execution_count": 22,
   "id": "d932ba3a-fb78-476b-b9ab-1a4f68b384b6",
   "metadata": {},
   "outputs": [
    {
     "name": "stdout",
     "output_type": "stream",
     "text": [
      "2\n"
     ]
    }
   ],
   "source": [
    "my_list = [1,2,3,4,5,3]\n",
    "first_occurence_index = my_list.index(3)\n",
    "print(first_occurence_index)"
   ]
  },
  {
   "cell_type": "code",
   "execution_count": null,
   "id": "86d92604-1530-4c61-82e4-4075aa87f7a6",
   "metadata": {},
   "outputs": [],
   "source": []
  },
  {
   "cell_type": "code",
   "execution_count": null,
   "id": "b62cdd18-d4cf-4d1c-b780-3b9b712052f4",
   "metadata": {},
   "outputs": [],
   "source": []
  },
  {
   "cell_type": "code",
   "execution_count": 23,
   "id": "c6d2b03e-5381-4ffd-a6f8-875dca21434c",
   "metadata": {},
   "outputs": [],
   "source": [
    "#Question 9"
   ]
  },
  {
   "cell_type": "code",
   "execution_count": 24,
   "id": "1d811047-dcea-4f04-9996-02506e14e8e2",
   "metadata": {},
   "outputs": [],
   "source": [
    "# count the occurences of an element in a list."
   ]
  },
  {
   "cell_type": "code",
   "execution_count": 25,
   "id": "5a532b3c-0704-40ab-9763-e66a50b15764",
   "metadata": {},
   "outputs": [
    {
     "name": "stdout",
     "output_type": "stream",
     "text": [
      "2\n"
     ]
    }
   ],
   "source": [
    "my_list = [1,2,3,4,5,3]\n",
    "occurence_count = my_list.count(3)\n",
    "print(occurence_count)"
   ]
  },
  {
   "cell_type": "code",
   "execution_count": null,
   "id": "c0d97b8d-89ec-4283-baeb-e47ccad01505",
   "metadata": {},
   "outputs": [],
   "source": []
  },
  {
   "cell_type": "code",
   "execution_count": null,
   "id": "26d0d204-f802-4f37-b34c-424bd7a64fe1",
   "metadata": {},
   "outputs": [],
   "source": []
  },
  {
   "cell_type": "code",
   "execution_count": 26,
   "id": "39ea8d84-0cee-4228-8f87-a3e1d72879e1",
   "metadata": {},
   "outputs": [],
   "source": [
    "# Question 10"
   ]
  },
  {
   "cell_type": "code",
   "execution_count": 27,
   "id": "3f7a1d0b-810f-4ef0-95f8-9e902e4c439d",
   "metadata": {},
   "outputs": [],
   "source": [
    "#Reverse the order of elements in a list."
   ]
  },
  {
   "cell_type": "code",
   "execution_count": 28,
   "id": "cbd9dc64-e5cc-4605-b5e5-fd9e589f9317",
   "metadata": {},
   "outputs": [
    {
     "name": "stdout",
     "output_type": "stream",
     "text": [
      "[5, 4, 3, 2, 1]\n"
     ]
    }
   ],
   "source": [
    "my_list = [1,2,3,4,5]\n",
    "my_list.reverse()\n",
    "print(my_list)"
   ]
  },
  {
   "cell_type": "code",
   "execution_count": null,
   "id": "87f06ed9-3820-469e-8292-c402e3bfe1db",
   "metadata": {},
   "outputs": [],
   "source": []
  },
  {
   "cell_type": "code",
   "execution_count": null,
   "id": "5ab68b96-e025-4eb5-b4ab-3f4049651e7f",
   "metadata": {},
   "outputs": [],
   "source": []
  },
  {
   "cell_type": "code",
   "execution_count": 29,
   "id": "b2f5b573-b2c3-404e-8f0d-601ba819290f",
   "metadata": {},
   "outputs": [],
   "source": [
    "# Question 11"
   ]
  },
  {
   "cell_type": "code",
   "execution_count": 30,
   "id": "cfaaff04-7d65-4b6a-9dea-4dbb25319611",
   "metadata": {},
   "outputs": [],
   "source": [
    "#sort a list in ascending order"
   ]
  },
  {
   "cell_type": "code",
   "execution_count": 31,
   "id": "db83c2d8-d44c-477b-99d5-56c8494dbe0f",
   "metadata": {},
   "outputs": [
    {
     "name": "stdout",
     "output_type": "stream",
     "text": [
      "[1, 2, 3, 4, 5]\n"
     ]
    }
   ],
   "source": [
    "my_list = [5,2,1,4,3]\n",
    "my_list.sort()\n",
    "print(my_list)"
   ]
  },
  {
   "cell_type": "code",
   "execution_count": null,
   "id": "718d3a4f-d6c7-4b98-9b16-b3bb8328d5ac",
   "metadata": {},
   "outputs": [],
   "source": []
  },
  {
   "cell_type": "code",
   "execution_count": null,
   "id": "3927732f-972b-4fd2-bef2-a65b172b0953",
   "metadata": {},
   "outputs": [],
   "source": []
  },
  {
   "cell_type": "code",
   "execution_count": 32,
   "id": "a27261fd-a964-44c4-9c4d-7a698b8dd59c",
   "metadata": {},
   "outputs": [],
   "source": [
    "#Question 12"
   ]
  },
  {
   "cell_type": "code",
   "execution_count": 33,
   "id": "86bacb9e-d10b-48fc-b8a2-7e308a949022",
   "metadata": {},
   "outputs": [],
   "source": [
    "#sort a list in decending order"
   ]
  },
  {
   "cell_type": "code",
   "execution_count": 34,
   "id": "4ffb1ed2-8dab-4b7d-8323-bcef32d85791",
   "metadata": {},
   "outputs": [
    {
     "name": "stdout",
     "output_type": "stream",
     "text": [
      "[5, 4, 3, 2, 1]\n"
     ]
    }
   ],
   "source": [
    "my_list = [5,2,1,4,3]\n",
    "my_list.sort(reverse=True)\n",
    "print(my_list)"
   ]
  },
  {
   "cell_type": "code",
   "execution_count": null,
   "id": "2d08f98e-1241-4607-b0a8-4b7256840860",
   "metadata": {},
   "outputs": [],
   "source": []
  },
  {
   "cell_type": "code",
   "execution_count": null,
   "id": "fa71d0a8-3936-4e19-9776-8d34fb183259",
   "metadata": {},
   "outputs": [],
   "source": []
  },
  {
   "cell_type": "code",
   "execution_count": 35,
   "id": "08662cd0-01a5-4cd9-92d8-6e246ce85f87",
   "metadata": {},
   "outputs": [],
   "source": [
    "# Question 13"
   ]
  },
  {
   "cell_type": "code",
   "execution_count": 36,
   "id": "5b77d095-9481-414f-807c-484160f97fe6",
   "metadata": {},
   "outputs": [],
   "source": [
    "#create a list of even numbers from 1 to 20"
   ]
  },
  {
   "cell_type": "code",
   "execution_count": 38,
   "id": "6c8064e5-86fb-4d6b-a136-01ff23e84309",
   "metadata": {},
   "outputs": [
    {
     "name": "stdout",
     "output_type": "stream",
     "text": [
      "[2, 4, 6, 8, 10, 12, 14, 16, 18, 20]\n"
     ]
    }
   ],
   "source": [
    "even_numbers =[]\n",
    "for num in range(1,21):\n",
    "    if num%2==0:\n",
    "        even_numbers.append(num)\n",
    "print(even_numbers)"
   ]
  },
  {
   "cell_type": "code",
   "execution_count": null,
   "id": "8d3fad8b-bc7a-4d9f-8f1a-d0bba31d5f5f",
   "metadata": {},
   "outputs": [],
   "source": []
  },
  {
   "cell_type": "code",
   "execution_count": null,
   "id": "70cb6d5e-1c61-4630-94de-a437a5f6ddcd",
   "metadata": {},
   "outputs": [],
   "source": []
  },
  {
   "cell_type": "code",
   "execution_count": 39,
   "id": "40bc3a75-79f9-46fc-9d32-7c102716a548",
   "metadata": {},
   "outputs": [],
   "source": [
    "# Question 14"
   ]
  },
  {
   "cell_type": "code",
   "execution_count": 40,
   "id": "c3fb25cd-2bf8-4e9e-9288-d932c5348c79",
   "metadata": {},
   "outputs": [],
   "source": [
    "# create a list of odd numbers from 1 to 20"
   ]
  },
  {
   "cell_type": "code",
   "execution_count": 41,
   "id": "b39d2380-5897-45d6-b4dc-fad1c14169a7",
   "metadata": {},
   "outputs": [
    {
     "name": "stdout",
     "output_type": "stream",
     "text": [
      "[1, 3, 5, 7, 9, 11, 13, 15, 17, 19]\n"
     ]
    }
   ],
   "source": [
    "odd_numbers =[]\n",
    "for num in range(1,21):\n",
    "    if num%2!=0:\n",
    "        odd_numbers.append(num)\n",
    "print(odd_numbers)"
   ]
  },
  {
   "cell_type": "code",
   "execution_count": null,
   "id": "2fa31ecc-6586-4147-9b39-d99ffc776319",
   "metadata": {},
   "outputs": [],
   "source": []
  },
  {
   "cell_type": "code",
   "execution_count": null,
   "id": "c5c6c7d9-7e6d-452b-8784-2790f439102b",
   "metadata": {},
   "outputs": [],
   "source": []
  },
  {
   "cell_type": "code",
   "execution_count": 42,
   "id": "a6e354ea-e9e7-410d-9902-006d7dbc91af",
   "metadata": {},
   "outputs": [],
   "source": [
    "# Question 15"
   ]
  },
  {
   "cell_type": "code",
   "execution_count": 1,
   "id": "79e626aa-a6e5-460c-88cf-54a48ce3a1ab",
   "metadata": {},
   "outputs": [],
   "source": [
    "#find the sum of all elements in a list"
   ]
  },
  {
   "cell_type": "code",
   "execution_count": 2,
   "id": "6c239c3f-1f86-4658-9caf-1e86b7a8a8ad",
   "metadata": {},
   "outputs": [
    {
     "name": "stdout",
     "output_type": "stream",
     "text": [
      "15\n"
     ]
    }
   ],
   "source": [
    "my_list = [1,2,3,4,5]\n",
    "sum_of_elements = sum(my_list)\n",
    "print(sum_of_elements)"
   ]
  },
  {
   "cell_type": "code",
   "execution_count": null,
   "id": "138ffea9-370d-46ea-9769-9bc39a3d539d",
   "metadata": {},
   "outputs": [],
   "source": []
  },
  {
   "cell_type": "code",
   "execution_count": null,
   "id": "8336511a-8b75-4e3d-8ef4-ef3aebd9cbee",
   "metadata": {},
   "outputs": [],
   "source": []
  },
  {
   "cell_type": "code",
   "execution_count": 3,
   "id": "78904709-8076-49ab-b82c-1915ac427e11",
   "metadata": {},
   "outputs": [],
   "source": [
    "#Question 16"
   ]
  },
  {
   "cell_type": "code",
   "execution_count": 4,
   "id": "02866104-3110-4d59-9b8a-92d97352818a",
   "metadata": {},
   "outputs": [],
   "source": [
    "# Find the maximum value in a list"
   ]
  },
  {
   "cell_type": "code",
   "execution_count": 6,
   "id": "d45ca688-af1c-452a-bb67-aa3afc37d2df",
   "metadata": {},
   "outputs": [
    {
     "name": "stdout",
     "output_type": "stream",
     "text": [
      "9\n"
     ]
    }
   ],
   "source": [
    "my_list = [5,2,9,1,7]\n",
    "max_value = max(my_list)\n",
    "print(max_value)"
   ]
  },
  {
   "cell_type": "code",
   "execution_count": null,
   "id": "260c9d28-4afa-4259-bf15-4d01125723c8",
   "metadata": {},
   "outputs": [],
   "source": []
  },
  {
   "cell_type": "code",
   "execution_count": null,
   "id": "1c83e3a4-3c0d-45ed-a2af-a44bd4a6d93f",
   "metadata": {},
   "outputs": [],
   "source": []
  },
  {
   "cell_type": "code",
   "execution_count": 7,
   "id": "b1657164-fc32-4917-9f22-6131a08b1a46",
   "metadata": {},
   "outputs": [],
   "source": [
    "# Question 17 "
   ]
  },
  {
   "cell_type": "code",
   "execution_count": 8,
   "id": "429c2533-a5b9-4ee5-8187-5a941b382c5f",
   "metadata": {},
   "outputs": [],
   "source": [
    "# Find the minimum value  in a list"
   ]
  },
  {
   "cell_type": "code",
   "execution_count": 10,
   "id": "6b76a102-ffa5-4675-ade4-148477339b06",
   "metadata": {},
   "outputs": [
    {
     "name": "stdout",
     "output_type": "stream",
     "text": [
      "1\n"
     ]
    }
   ],
   "source": [
    "my_list = [5,2,9,1,7]\n",
    "min_value = min(my_list)\n",
    "print(min_value)"
   ]
  },
  {
   "cell_type": "code",
   "execution_count": null,
   "id": "176d63be-b6d8-4616-81c5-ae87538bafb7",
   "metadata": {},
   "outputs": [],
   "source": []
  },
  {
   "cell_type": "code",
   "execution_count": null,
   "id": "5134c188-9629-47c9-9b2e-639a5ba1e959",
   "metadata": {},
   "outputs": [],
   "source": []
  },
  {
   "cell_type": "code",
   "execution_count": 11,
   "id": "05b3e4fd-0f1e-4d3a-b99c-13daa49995ac",
   "metadata": {},
   "outputs": [],
   "source": [
    "#Question 18"
   ]
  },
  {
   "cell_type": "code",
   "execution_count": 12,
   "id": "9104532c-4c47-4e37-84d2-8ae1fa0fa698",
   "metadata": {},
   "outputs": [],
   "source": [
    "# create  a list of squares of numbers from 1 to 10"
   ]
  },
  {
   "cell_type": "code",
   "execution_count": 47,
   "id": "d51abace-b511-40d2-a02a-eb38f8b53cf8",
   "metadata": {},
   "outputs": [
    {
     "name": "stdout",
     "output_type": "stream",
     "text": [
      "[1, 4, 9, 16, 25, 36, 49, 64, 81, 100]\n"
     ]
    }
   ],
   "source": [
    "squares = []\n",
    "for num in range(1,11) :\n",
    "    squares.append(num**2)\n",
    "print(squares)"
   ]
  },
  {
   "cell_type": "code",
   "execution_count": null,
   "id": "fbcca4cc-3527-4cfe-91d2-9dc89589e1b2",
   "metadata": {},
   "outputs": [],
   "source": []
  },
  {
   "cell_type": "code",
   "execution_count": null,
   "id": "d9409c40-bb7b-4966-8c4e-1f49934c598d",
   "metadata": {},
   "outputs": [],
   "source": []
  },
  {
   "cell_type": "code",
   "execution_count": null,
   "id": "94f3f6c6-0962-4024-8942-f548694ed6c7",
   "metadata": {},
   "outputs": [],
   "source": [
    "#Question 19"
   ]
  },
  {
   "cell_type": "code",
   "execution_count": 28,
   "id": "f4a09c08-6d2b-40fe-bf33-da2ebfdfdf11",
   "metadata": {},
   "outputs": [],
   "source": [
    "#create a list of a randon numbers"
   ]
  },
  {
   "cell_type": "code",
   "execution_count": 37,
   "id": "3b875c9b-e809-42fb-8f3c-c97ae6ccff46",
   "metadata": {},
   "outputs": [
    {
     "name": "stdout",
     "output_type": "stream",
     "text": [
      "[72, 25, 52, 15, 88, 91, 52, 93, 25, 85]\n"
     ]
    }
   ],
   "source": [
    "import random\n",
    "random_numbers = [random.randint(1,100)\n",
    "for _ in range(10)]\n",
    "print(random_numbers)"
   ]
  },
  {
   "cell_type": "code",
   "execution_count": null,
   "id": "716f5345-90e3-4592-ac79-5335c8b646dc",
   "metadata": {},
   "outputs": [],
   "source": []
  },
  {
   "cell_type": "code",
   "execution_count": null,
   "id": "2a06e8b7-88a4-48fe-845f-c579eab94beb",
   "metadata": {},
   "outputs": [],
   "source": []
  },
  {
   "cell_type": "code",
   "execution_count": 48,
   "id": "51387e1c-8a25-4832-9d4e-3d61555a9a56",
   "metadata": {},
   "outputs": [],
   "source": [
    "# Question 20"
   ]
  },
  {
   "cell_type": "code",
   "execution_count": 49,
   "id": "958f9681-16a6-4ab4-9680-ed77214ff364",
   "metadata": {},
   "outputs": [],
   "source": [
    "# Remove duplicates from a list."
   ]
  },
  {
   "cell_type": "code",
   "execution_count": 50,
   "id": "9be25aa9-4503-49fc-92af-77437a05a076",
   "metadata": {},
   "outputs": [
    {
     "name": "stdout",
     "output_type": "stream",
     "text": [
      "[1, 2, 3, 4, 5, 6]\n"
     ]
    }
   ],
   "source": [
    "my_list = [1,2,3,3,4,5,5,6]\n",
    "unique_list = list(set(my_list))\n",
    "print(unique_list)"
   ]
  },
  {
   "cell_type": "code",
   "execution_count": null,
   "id": "1e786347-9cf2-4a51-a7cd-ae46fa3fe2b0",
   "metadata": {},
   "outputs": [],
   "source": []
  },
  {
   "cell_type": "code",
   "execution_count": null,
   "id": "47875f81-062a-4ab6-a687-1f2a0709e8d1",
   "metadata": {},
   "outputs": [],
   "source": []
  },
  {
   "cell_type": "code",
   "execution_count": 51,
   "id": "843f67ad-7dbf-4445-8267-58bf482c5924",
   "metadata": {},
   "outputs": [],
   "source": [
    "#Question 21 "
   ]
  },
  {
   "cell_type": "code",
   "execution_count": 52,
   "id": "4a54bc5c-2ecb-4e38-8105-647325fc4f22",
   "metadata": {},
   "outputs": [],
   "source": [
    "# find the common elements between two lists"
   ]
  },
  {
   "cell_type": "code",
   "execution_count": 53,
   "id": "bc437773-247f-405d-bf43-6a0f4149af85",
   "metadata": {},
   "outputs": [
    {
     "name": "stdout",
     "output_type": "stream",
     "text": [
      "[4, 5]\n"
     ]
    }
   ],
   "source": [
    "list1 = [1,2,3,4,5]\n",
    "list2 = [4,5,6,7,8]\n",
    "common_elements = list(set(list1).intersection(list2))\n",
    "print(common_elements)"
   ]
  },
  {
   "cell_type": "code",
   "execution_count": null,
   "id": "e3652208-04a2-4ac2-9c88-7e45ad88e31b",
   "metadata": {},
   "outputs": [],
   "source": []
  },
  {
   "cell_type": "code",
   "execution_count": null,
   "id": "536bd599-2749-47be-8f50-09c00965913d",
   "metadata": {},
   "outputs": [],
   "source": []
  },
  {
   "cell_type": "code",
   "execution_count": 54,
   "id": "865a2cce-f933-4d11-bb81-f1ff81894c92",
   "metadata": {},
   "outputs": [],
   "source": [
    "# Question 22 "
   ]
  },
  {
   "cell_type": "code",
   "execution_count": 55,
   "id": "0857ad52-7cbd-405b-88b3-abdff6d5dd0e",
   "metadata": {},
   "outputs": [],
   "source": [
    "# find the difference between two lists."
   ]
  },
  {
   "cell_type": "code",
   "execution_count": 56,
   "id": "43fd0ac6-c3ba-4fc9-a7ba-d592c44afab4",
   "metadata": {},
   "outputs": [
    {
     "name": "stdout",
     "output_type": "stream",
     "text": [
      "[1, 2, 3]\n"
     ]
    }
   ],
   "source": [
    "list1 = [1,2,3,4,5]\n",
    "list2 = [4,5,6,7,8]\n",
    "difference = list(set(list1).difference(list2))\n",
    "print(difference)"
   ]
  },
  {
   "cell_type": "code",
   "execution_count": null,
   "id": "b8c950c7-f07e-48ec-939c-969c7fcb69df",
   "metadata": {},
   "outputs": [],
   "source": []
  },
  {
   "cell_type": "code",
   "execution_count": null,
   "id": "ab8ab5be-f758-423e-b3cb-0bc07863450d",
   "metadata": {},
   "outputs": [],
   "source": []
  },
  {
   "cell_type": "code",
   "execution_count": 57,
   "id": "864efd9c-9616-47a4-b8f3-504fd9132e45",
   "metadata": {},
   "outputs": [],
   "source": [
    "# Question 23"
   ]
  },
  {
   "cell_type": "code",
   "execution_count": 58,
   "id": "03cab58a-75fa-4115-b0cc-9a3e2e6d4e3d",
   "metadata": {},
   "outputs": [],
   "source": [
    "# merge two lists"
   ]
  },
  {
   "cell_type": "code",
   "execution_count": 59,
   "id": "afcc6de2-4f70-494c-a5db-4f1bacb347e0",
   "metadata": {},
   "outputs": [
    {
     "name": "stdout",
     "output_type": "stream",
     "text": [
      "[1, 2, 3, 4, 5, 6]\n"
     ]
    }
   ],
   "source": [
    "list1 = [1,2,3]\n",
    "list2 = [4,5,6]\n",
    "merged_list = list1 +list2\n",
    "print(merged_list)"
   ]
  },
  {
   "cell_type": "code",
   "execution_count": null,
   "id": "1b97a1bb-4b8d-4a0d-b7e7-c47d3d134964",
   "metadata": {},
   "outputs": [],
   "source": []
  },
  {
   "cell_type": "code",
   "execution_count": null,
   "id": "718f8178-4f67-4917-a5dd-02c25ab127a3",
   "metadata": {},
   "outputs": [],
   "source": []
  },
  {
   "cell_type": "code",
   "execution_count": 60,
   "id": "2a8a6dc2-f9e9-463a-8e6b-b3aa55d1926c",
   "metadata": {},
   "outputs": [],
   "source": [
    "# Question 24"
   ]
  },
  {
   "cell_type": "code",
   "execution_count": 61,
   "id": "6c25a013-0156-45d0-bff8-c823ed467377",
   "metadata": {},
   "outputs": [],
   "source": [
    "# Multiply all elements in a list by 2"
   ]
  },
  {
   "cell_type": "code",
   "execution_count": 62,
   "id": "3ffdcc1d-ec6c-4979-8e49-4c29de055d87",
   "metadata": {},
   "outputs": [
    {
     "name": "stdout",
     "output_type": "stream",
     "text": [
      "[2, 4, 6, 8, 10]\n"
     ]
    }
   ],
   "source": [
    "my_list = [1,2,3,4,5]\n",
    "multiplied_list = [x*2 for x in my_list]\n",
    "print(multiplied_list)"
   ]
  },
  {
   "cell_type": "code",
   "execution_count": null,
   "id": "23ea9581-514e-44ca-9ed5-8a859b1559d2",
   "metadata": {},
   "outputs": [],
   "source": []
  },
  {
   "cell_type": "code",
   "execution_count": null,
   "id": "49e3c102-693f-4863-94a8-d2f451292e7a",
   "metadata": {},
   "outputs": [],
   "source": []
  },
  {
   "cell_type": "code",
   "execution_count": 63,
   "id": "89a78e12-b485-45b2-a791-6710958e770e",
   "metadata": {},
   "outputs": [],
   "source": [
    "# Question 25"
   ]
  },
  {
   "cell_type": "code",
   "execution_count": 64,
   "id": "93c2c42f-3d58-4fcf-a5d7-74d32f8f8905",
   "metadata": {},
   "outputs": [],
   "source": [
    "#filter out all even numbers from a list."
   ]
  },
  {
   "cell_type": "code",
   "execution_count": 66,
   "id": "b622fc6b-4f8e-4a41-ab4f-c041b46903be",
   "metadata": {},
   "outputs": [
    {
     "name": "stdout",
     "output_type": "stream",
     "text": [
      "[1, 3, 5]\n"
     ]
    }
   ],
   "source": [
    "my_list = [1,2,3,4,5]\n",
    "filtered_list = [x for x in my_list if x%2!=0]\n",
    "print(filtered_list)"
   ]
  },
  {
   "cell_type": "code",
   "execution_count": null,
   "id": "795aeabe-2eb8-4c6d-b004-629a6f8b05ec",
   "metadata": {},
   "outputs": [],
   "source": []
  },
  {
   "cell_type": "code",
   "execution_count": null,
   "id": "fc91e3fd-4e97-4f82-b239-907efeae0251",
   "metadata": {},
   "outputs": [],
   "source": []
  },
  {
   "cell_type": "code",
   "execution_count": 67,
   "id": "00b9a20a-a58f-450d-8404-731b0a5776ec",
   "metadata": {},
   "outputs": [],
   "source": [
    "# Question 26"
   ]
  },
  {
   "cell_type": "code",
   "execution_count": 68,
   "id": "8cf48111-e32a-45e8-a2a2-8fc592f77500",
   "metadata": {},
   "outputs": [],
   "source": [
    "# convert a list of a strings to a list of integers."
   ]
  },
  {
   "cell_type": "code",
   "execution_count": 69,
   "id": "e65c1d5a-d245-4e3d-94e4-f5e536f26068",
   "metadata": {},
   "outputs": [
    {
     "name": "stdout",
     "output_type": "stream",
     "text": [
      "[1, 2, 3, 4, 5]\n"
     ]
    }
   ],
   "source": [
    "string_list = ['1','2','3','4','5']\n",
    "integer_list = [int(x) for x in string_list]\n",
    "print(integer_list)"
   ]
  },
  {
   "cell_type": "code",
   "execution_count": null,
   "id": "414aa0c5-1709-4568-8095-e9cd01884da2",
   "metadata": {},
   "outputs": [],
   "source": []
  },
  {
   "cell_type": "code",
   "execution_count": null,
   "id": "916d0863-313f-43c0-8a27-e78296e83246",
   "metadata": {},
   "outputs": [],
   "source": []
  },
  {
   "cell_type": "code",
   "execution_count": 70,
   "id": "15f1f140-0d93-4cd0-ba2e-33419f03f373",
   "metadata": {},
   "outputs": [],
   "source": [
    "#Question 27"
   ]
  },
  {
   "cell_type": "code",
   "execution_count": 71,
   "id": "198b2676-c8ae-4046-9eb1-afc0074a8f18",
   "metadata": {},
   "outputs": [],
   "source": [
    "#convert a list of integers to a list of strings"
   ]
  },
  {
   "cell_type": "code",
   "execution_count": 72,
   "id": "4d446f4c-d40f-4b8f-a0d9-5a3e185d6ece",
   "metadata": {},
   "outputs": [
    {
     "name": "stdout",
     "output_type": "stream",
     "text": [
      "['1', '2', '3', '4', '5']\n"
     ]
    }
   ],
   "source": [
    "integer_list = [1,2,3,4,5]\n",
    "string_list = [str(x) for x in integer_list]\n",
    "print(string_list)"
   ]
  },
  {
   "cell_type": "code",
   "execution_count": null,
   "id": "c173bf3d-e4b7-439b-81ac-f62ff51d7fd2",
   "metadata": {},
   "outputs": [],
   "source": []
  },
  {
   "cell_type": "code",
   "execution_count": null,
   "id": "e2832b34-af6c-45f0-a61d-6341660bdbdf",
   "metadata": {},
   "outputs": [],
   "source": []
  },
  {
   "cell_type": "code",
   "execution_count": 73,
   "id": "3450cbf0-b639-4714-ad30-0f8c9e101f11",
   "metadata": {},
   "outputs": [],
   "source": [
    "#Question 28"
   ]
  },
  {
   "cell_type": "code",
   "execution_count": 74,
   "id": "6408b9c4-38a6-44ce-ba1a-cd4db8484ef1",
   "metadata": {},
   "outputs": [],
   "source": [
    "# flatten a nested list."
   ]
  },
  {
   "cell_type": "code",
   "execution_count": 75,
   "id": "e515bba8-d7a8-4362-a0cb-60cef394640c",
   "metadata": {},
   "outputs": [
    {
     "name": "stdout",
     "output_type": "stream",
     "text": [
      "[1, 2, 3, 4, 5, 6, 7, 8, 9]\n"
     ]
    }
   ],
   "source": [
    "nested_list = [[1,2,3],[4,5],[6,7,8,9]]\n",
    "flattened_list = []\n",
    "\n",
    "def flatten_list(lst):\n",
    "    for item in lst:\n",
    "        if isinstance(item,list):\n",
    "            flatten_list(item)\n",
    "        else:\n",
    "            flattened_list.append(item)\n",
    "            \n",
    "flatten_list(nested_list)\n",
    "print(flattened_list)\n",
    "        \n"
   ]
  },
  {
   "cell_type": "code",
   "execution_count": null,
   "id": "ca4ec7b7-c0ab-4cef-887a-f0aa53724549",
   "metadata": {},
   "outputs": [],
   "source": []
  },
  {
   "cell_type": "code",
   "execution_count": null,
   "id": "7266f63a-b6f9-4af2-87ff-b08855d55818",
   "metadata": {},
   "outputs": [],
   "source": []
  },
  {
   "cell_type": "code",
   "execution_count": 76,
   "id": "7c15db72-3082-4db6-bc3b-d220a0fc2257",
   "metadata": {},
   "outputs": [],
   "source": [
    "#Question 29"
   ]
  },
  {
   "cell_type": "code",
   "execution_count": 77,
   "id": "fd9ada71-0f7e-403b-8ac9-129ba8c2f506",
   "metadata": {},
   "outputs": [],
   "source": [
    "# create a list of the first 10 Fibonacci numbers."
   ]
  },
  {
   "cell_type": "code",
   "execution_count": 78,
   "id": "528ec698-62ea-4e9a-b274-6b685e040c2a",
   "metadata": {},
   "outputs": [
    {
     "name": "stdout",
     "output_type": "stream",
     "text": [
      "[0, 1, 1]\n",
      "[0, 1, 1, 2]\n",
      "[0, 1, 1, 2, 3]\n",
      "[0, 1, 1, 2, 3, 5]\n",
      "[0, 1, 1, 2, 3, 5, 8]\n",
      "[0, 1, 1, 2, 3, 5, 8, 13]\n",
      "[0, 1, 1, 2, 3, 5, 8, 13, 21]\n",
      "[0, 1, 1, 2, 3, 5, 8, 13, 21, 34]\n"
     ]
    }
   ],
   "source": [
    "fibonacci_list =[0,1]\n",
    "while len(fibonacci_list)<10:\n",
    "    next_number = fibonacci_list[-1]+fibonacci_list[-2]\n",
    "    fibonacci_list.append(next_number)\n",
    "    \n",
    "    print(fibonacci_list)"
   ]
  },
  {
   "cell_type": "code",
   "execution_count": null,
   "id": "77ce34d4-cd62-497d-a5ae-9b9366db20ba",
   "metadata": {},
   "outputs": [],
   "source": []
  },
  {
   "cell_type": "code",
   "execution_count": null,
   "id": "a4fd8553-6d15-4c00-a635-2cb217be5e4f",
   "metadata": {},
   "outputs": [],
   "source": []
  },
  {
   "cell_type": "code",
   "execution_count": 79,
   "id": "52a76119-c387-4ed4-bcce-57bd6503d917",
   "metadata": {},
   "outputs": [],
   "source": [
    "#Question 30"
   ]
  },
  {
   "cell_type": "code",
   "execution_count": 80,
   "id": "0139ba5a-8f81-4dba-8b32-edf1d44b46df",
   "metadata": {},
   "outputs": [],
   "source": [
    "# check if a list is sorted."
   ]
  },
  {
   "cell_type": "code",
   "execution_count": 82,
   "id": "7275e67f-21c4-4423-a398-919dedfb80f9",
   "metadata": {},
   "outputs": [
    {
     "name": "stdout",
     "output_type": "stream",
     "text": [
      "The list is sorted!\n"
     ]
    }
   ],
   "source": [
    "my_list = [1,2,3,4,5]\n",
    "is_sorted = my_list == sorted(my_list)\n",
    "\n",
    "if is_sorted:\n",
    "    print(\"The list is sorted!\")\n",
    "else:\n",
    "    print(\"The list is not sorted.\")"
   ]
  },
  {
   "cell_type": "code",
   "execution_count": null,
   "id": "655d432e-15f6-4ad7-9799-e594d8566e4a",
   "metadata": {},
   "outputs": [],
   "source": []
  },
  {
   "cell_type": "code",
   "execution_count": null,
   "id": "acd010fb-b5d2-427d-be7c-48e5f32bce59",
   "metadata": {},
   "outputs": [],
   "source": []
  },
  {
   "cell_type": "code",
   "execution_count": 83,
   "id": "264b5000-1c8f-4513-8177-e8fa5bf42278",
   "metadata": {},
   "outputs": [],
   "source": [
    "#Question 31"
   ]
  },
  {
   "cell_type": "code",
   "execution_count": 84,
   "id": "a073dbf0-ee27-4afb-9356-8e45038ff762",
   "metadata": {},
   "outputs": [],
   "source": [
    "#rotate a list to the left by 'n' positions."
   ]
  },
  {
   "cell_type": "code",
   "execution_count": 85,
   "id": "f785d2df-e71a-4d63-bfaa-0eaba9b1a0d1",
   "metadata": {},
   "outputs": [
    {
     "name": "stdout",
     "output_type": "stream",
     "text": [
      "[3, 4, 5, 1, 2]\n"
     ]
    }
   ],
   "source": [
    "my_list = [1,2,3,4,5]\n",
    "n=2\n",
    "rotated_list = my_list[n:]+my_list[:n]\n",
    "print(rotated_list)"
   ]
  },
  {
   "cell_type": "code",
   "execution_count": null,
   "id": "7f13a6d7-bb44-4402-9450-55aafae525cd",
   "metadata": {},
   "outputs": [],
   "source": []
  },
  {
   "cell_type": "code",
   "execution_count": null,
   "id": "77d40ff2-dd3c-4082-9165-b6831a3496ad",
   "metadata": {},
   "outputs": [],
   "source": []
  },
  {
   "cell_type": "code",
   "execution_count": 86,
   "id": "7049f830-e8fa-4684-9cc3-3a723ba34593",
   "metadata": {},
   "outputs": [],
   "source": [
    "#Question 32"
   ]
  },
  {
   "cell_type": "code",
   "execution_count": 87,
   "id": "f71500f8-807e-4c1d-b32a-f6e08230bd72",
   "metadata": {},
   "outputs": [],
   "source": [
    "# Rotate a list to the right by 'n' positions "
   ]
  },
  {
   "cell_type": "code",
   "execution_count": 88,
   "id": "25d5ee47-cd55-4877-a1b5-0d15fec66692",
   "metadata": {},
   "outputs": [
    {
     "name": "stdout",
     "output_type": "stream",
     "text": [
      "[4, 5, 1, 2, 3]\n"
     ]
    }
   ],
   "source": [
    "my_list = [1,2,3,4,5]\n",
    "n=2\n",
    "rotated_list = my_list[-n:]+my_list[:-n]\n",
    "print(rotated_list)"
   ]
  },
  {
   "cell_type": "code",
   "execution_count": null,
   "id": "3a698709-5f46-499c-a1e2-d60e678ddd56",
   "metadata": {},
   "outputs": [],
   "source": []
  },
  {
   "cell_type": "code",
   "execution_count": null,
   "id": "e480be5b-2f00-41d5-85b4-8be753f3b4d3",
   "metadata": {},
   "outputs": [],
   "source": []
  },
  {
   "cell_type": "code",
   "execution_count": 89,
   "id": "c9cfe857-cb8d-4be6-a801-76cf589ed5fa",
   "metadata": {},
   "outputs": [],
   "source": [
    "#Question 33 "
   ]
  },
  {
   "cell_type": "code",
   "execution_count": 90,
   "id": "4e818987-d894-42bc-bef0-02b313609bd0",
   "metadata": {},
   "outputs": [],
   "source": [
    "# Create a list of prime numbers upto 50"
   ]
  },
  {
   "cell_type": "code",
   "execution_count": 92,
   "id": "30b3de7d-275e-4dcb-ad0e-70ff23cf64e7",
   "metadata": {},
   "outputs": [
    {
     "name": "stdout",
     "output_type": "stream",
     "text": [
      "[2, 3, 5, 7, 11, 13, 17, 19, 23, 29, 31, 37, 41, 43, 47]\n"
     ]
    }
   ],
   "source": [
    "prime_numbers =[]\n",
    "\n",
    "for num in range(2,51):\n",
    "    is_prime = True\n",
    "    for i in range(2,int(num**0.5)+1):\n",
    "        if num%i==0:\n",
    "            is_prime = False\n",
    "            break\n",
    "    if is_prime:\n",
    "        prime_numbers.append(num)\n",
    "        \n",
    "print(prime_numbers)\n",
    "        \n",
    "    \n",
    "            "
   ]
  },
  {
   "cell_type": "code",
   "execution_count": null,
   "id": "6620d2af-800a-4707-9601-34a1219c69ba",
   "metadata": {},
   "outputs": [],
   "source": []
  },
  {
   "cell_type": "code",
   "execution_count": null,
   "id": "644c7979-29da-4a1b-92e5-8d37b62fa912",
   "metadata": {},
   "outputs": [],
   "source": []
  },
  {
   "cell_type": "code",
   "execution_count": 93,
   "id": "faba373c-7dfa-4103-857b-a8cabee0cf51",
   "metadata": {},
   "outputs": [],
   "source": [
    "#Question 34"
   ]
  },
  {
   "cell_type": "code",
   "execution_count": 94,
   "id": "478a4a9e-0643-4e54-a8e8-6fa3698cf825",
   "metadata": {},
   "outputs": [],
   "source": [
    "#split a list into chunks of size 'n'"
   ]
  },
  {
   "cell_type": "code",
   "execution_count": 95,
   "id": "61532e5b-b025-461f-8b1a-355da1c2845e",
   "metadata": {},
   "outputs": [
    {
     "name": "stdout",
     "output_type": "stream",
     "text": [
      "[[1, 2, 3], [4, 5, 6], [7, 8, 9], [10]]\n"
     ]
    }
   ],
   "source": [
    "my_list = [1,2,3,4,5,6,7,8,9,10]\n",
    "n=3\n",
    "chunked_list = [my_list[i:i+n] for i in range(0,len(my_list),n)]\n",
    "print(chunked_list)"
   ]
  },
  {
   "cell_type": "code",
   "execution_count": null,
   "id": "637a84ed-dc0b-4cbe-ae45-21f8c92f1670",
   "metadata": {},
   "outputs": [],
   "source": []
  },
  {
   "cell_type": "code",
   "execution_count": null,
   "id": "f4963216-8aa6-42ac-a666-b30179e5b6b1",
   "metadata": {},
   "outputs": [],
   "source": []
  },
  {
   "cell_type": "code",
   "execution_count": 96,
   "id": "850f627f-5880-49e7-bb05-652eeba1ab94",
   "metadata": {},
   "outputs": [],
   "source": [
    "#Question 35"
   ]
  },
  {
   "cell_type": "code",
   "execution_count": 97,
   "id": "ad367451-4206-42bf-bc84-05668e4b7eff",
   "metadata": {},
   "outputs": [],
   "source": [
    "#find the second largest number in a list."
   ]
  },
  {
   "cell_type": "code",
   "execution_count": 100,
   "id": "380fe5fd-39df-4254-ab76-f99ef00e2ae0",
   "metadata": {},
   "outputs": [
    {
     "name": "stdout",
     "output_type": "stream",
     "text": [
      "9\n"
     ]
    }
   ],
   "source": [
    "my_list = [10,5,8,3,9,4,2,7,1,6]\n",
    "largest = max(my_list)\n",
    "my_list.remove(largest)\n",
    "second_largest = max(my_list)\n",
    "print(second_largest)"
   ]
  },
  {
   "cell_type": "code",
   "execution_count": null,
   "id": "8f8735c5-cb0e-4b0e-bb4d-5d86ac753493",
   "metadata": {},
   "outputs": [],
   "source": []
  },
  {
   "cell_type": "code",
   "execution_count": null,
   "id": "698f1004-30cc-423f-8fbb-593880493f9d",
   "metadata": {},
   "outputs": [],
   "source": []
  },
  {
   "cell_type": "code",
   "execution_count": 101,
   "id": "e9a284e6-76f4-4514-b159-9252eefe08c6",
   "metadata": {},
   "outputs": [],
   "source": [
    "#Question 36"
   ]
  },
  {
   "cell_type": "code",
   "execution_count": 102,
   "id": "3c8febdc-df8c-4fca-bb7e-22a52f18fc9e",
   "metadata": {},
   "outputs": [],
   "source": [
    "# Replace every element in a list with its square"
   ]
  },
  {
   "cell_type": "code",
   "execution_count": 103,
   "id": "02863ead-20da-4d6c-ac22-44db2d5a2d94",
   "metadata": {},
   "outputs": [
    {
     "name": "stdout",
     "output_type": "stream",
     "text": [
      "[4, 16, 36, 64, 100]\n"
     ]
    }
   ],
   "source": [
    "my_list = [2,4,6,8,10]\n",
    "squared_list = [x**2 for x in my_list]\n",
    "print(squared_list)"
   ]
  },
  {
   "cell_type": "code",
   "execution_count": null,
   "id": "606662f8-2317-425d-badb-6c505ce8d096",
   "metadata": {},
   "outputs": [],
   "source": []
  },
  {
   "cell_type": "code",
   "execution_count": null,
   "id": "83e3f674-5949-45c4-bea2-ee964bccb9f6",
   "metadata": {},
   "outputs": [],
   "source": []
  },
  {
   "cell_type": "code",
   "execution_count": 104,
   "id": "64c81bcf-80c6-4879-adf7-c8fd2d287c62",
   "metadata": {},
   "outputs": [],
   "source": [
    "#Question 37"
   ]
  },
  {
   "cell_type": "code",
   "execution_count": 105,
   "id": "39966b01-6cec-4818-b04c-8e2f02a28d38",
   "metadata": {},
   "outputs": [],
   "source": [
    "#convert a list to a dictionary where list elements become keys and their indices become values."
   ]
  },
  {
   "cell_type": "code",
   "execution_count": 106,
   "id": "fe84936d-14e3-4a6f-901c-af365704a4a0",
   "metadata": {},
   "outputs": [
    {
     "name": "stdout",
     "output_type": "stream",
     "text": [
      "{'apple': 0, 'banana': 1, 'orange': 2, 'grapes': 3}\n"
     ]
    }
   ],
   "source": [
    "my_list =['apple','banana','orange','grapes']\n",
    "my_dict = {value:index for index, value in enumerate(my_list)}\n",
    "print(my_dict)"
   ]
  },
  {
   "cell_type": "code",
   "execution_count": null,
   "id": "6f2cde29-3a47-43c3-a791-6bcf9110c7ec",
   "metadata": {},
   "outputs": [],
   "source": []
  },
  {
   "cell_type": "code",
   "execution_count": null,
   "id": "b5308477-bd88-4f2a-8c99-bb26f20b665f",
   "metadata": {},
   "outputs": [],
   "source": []
  },
  {
   "cell_type": "code",
   "execution_count": 107,
   "id": "3c259ac5-e6c9-4ae9-a3ab-a641d9093323",
   "metadata": {},
   "outputs": [],
   "source": [
    "#Question 38"
   ]
  },
  {
   "cell_type": "code",
   "execution_count": 108,
   "id": "af3d03fc-727c-44a2-bfe0-9caabdee5f48",
   "metadata": {},
   "outputs": [],
   "source": [
    "#shuffle a the elements of a list randomly"
   ]
  },
  {
   "cell_type": "code",
   "execution_count": 109,
   "id": "ed16b409-7a18-46be-83d7-a1da4d06f487",
   "metadata": {},
   "outputs": [
    {
     "name": "stdout",
     "output_type": "stream",
     "text": [
      "[4, 3, 2, 1, 5]\n"
     ]
    }
   ],
   "source": [
    "import random\n",
    "my_list = [1,2,3,4,5]\n",
    "random.shuffle(my_list)\n",
    "print(my_list)"
   ]
  },
  {
   "cell_type": "code",
   "execution_count": null,
   "id": "a528fcc6-c9f9-4795-8752-57d3b6b15694",
   "metadata": {},
   "outputs": [],
   "source": []
  },
  {
   "cell_type": "code",
   "execution_count": null,
   "id": "7d653358-1772-4835-9752-055ab5684528",
   "metadata": {},
   "outputs": [],
   "source": []
  },
  {
   "cell_type": "code",
   "execution_count": 110,
   "id": "966986a0-f921-41b9-b454-f8034012dd32",
   "metadata": {},
   "outputs": [],
   "source": [
    "#Question 39"
   ]
  },
  {
   "cell_type": "code",
   "execution_count": 111,
   "id": "58e7ae81-f352-4b78-b1b3-91f9c0e2ceaa",
   "metadata": {},
   "outputs": [],
   "source": [
    "#create  a list of the first 10 factorial numbers."
   ]
  },
  {
   "cell_type": "code",
   "execution_count": 112,
   "id": "f1681665-6683-4479-8bcd-bac89bb472d3",
   "metadata": {},
   "outputs": [
    {
     "name": "stdout",
     "output_type": "stream",
     "text": [
      "[1, 2, 6, 24, 120, 720, 5040, 40320, 362880, 3628800]\n"
     ]
    }
   ],
   "source": [
    "factorial_list = []\n",
    "for num in range(1,11):\n",
    "    factorial = 1 \n",
    "    for i in range(1,num + 1):\n",
    "        factorial*=i\n",
    "    factorial_list.append(factorial)\n",
    "print(factorial_list)"
   ]
  },
  {
   "cell_type": "code",
   "execution_count": null,
   "id": "e9c8b4bb-0a89-4427-9b15-9eef83d7ce96",
   "metadata": {},
   "outputs": [],
   "source": []
  },
  {
   "cell_type": "code",
   "execution_count": null,
   "id": "35c6fe2c-e616-45fc-a08a-bdad24f6d888",
   "metadata": {},
   "outputs": [],
   "source": []
  },
  {
   "cell_type": "code",
   "execution_count": 113,
   "id": "69471b1f-5924-45cf-853b-c107eb9bb137",
   "metadata": {},
   "outputs": [],
   "source": [
    "#Question 40"
   ]
  },
  {
   "cell_type": "code",
   "execution_count": 114,
   "id": "1ede2808-a228-4279-8334-42a1f8beceac",
   "metadata": {},
   "outputs": [],
   "source": [
    "#check if two lists have at least one element in common"
   ]
  },
  {
   "cell_type": "code",
   "execution_count": 115,
   "id": "9f364640-2218-49de-89c9-fc3ed1fa7c70",
   "metadata": {},
   "outputs": [
    {
     "name": "stdout",
     "output_type": "stream",
     "text": [
      "The lists have at least one common element.\n"
     ]
    }
   ],
   "source": [
    "list1 = [1,2,3,4,5]\n",
    "list2 = [4,5,6,7,8]\n",
    "common_elements = set(list1) &set(list2)\n",
    "if common_elements:\n",
    "    print(\"The lists have at least one common element.\")\n",
    "else:\n",
    "    print(\"The lists do not have any common elements.\")"
   ]
  },
  {
   "cell_type": "code",
   "execution_count": null,
   "id": "cef4a849-9b18-42bb-9cd2-faa5a668e8a8",
   "metadata": {},
   "outputs": [],
   "source": []
  },
  {
   "cell_type": "code",
   "execution_count": null,
   "id": "7eabe3de-f5c4-4157-a771-feacd353e6de",
   "metadata": {},
   "outputs": [],
   "source": []
  },
  {
   "cell_type": "code",
   "execution_count": 116,
   "id": "479658f6-1bbe-46d6-aedd-fcd20080d82b",
   "metadata": {},
   "outputs": [],
   "source": [
    "#Question 41 "
   ]
  },
  {
   "cell_type": "code",
   "execution_count": 117,
   "id": "321610bd-93b9-4d42-ac66-53b3f22066b9",
   "metadata": {},
   "outputs": [],
   "source": [
    "#Remove all elements from a list"
   ]
  },
  {
   "cell_type": "code",
   "execution_count": 118,
   "id": "d8cdaa69-c189-4990-b155-d4c5c6591f62",
   "metadata": {},
   "outputs": [
    {
     "name": "stdout",
     "output_type": "stream",
     "text": [
      "[]\n"
     ]
    }
   ],
   "source": [
    "my_list = [1,2,3,4,5]\n",
    "my_list.clear()\n",
    "print(my_list)"
   ]
  },
  {
   "cell_type": "code",
   "execution_count": null,
   "id": "ffc30cc9-7c2d-42a6-89c5-1cde034efd75",
   "metadata": {},
   "outputs": [],
   "source": []
  },
  {
   "cell_type": "code",
   "execution_count": null,
   "id": "0675f254-50e7-48d6-a6ea-8227a7a39969",
   "metadata": {},
   "outputs": [],
   "source": []
  },
  {
   "cell_type": "code",
   "execution_count": 119,
   "id": "d05e4799-d4e9-47c0-98c5-693eebec06f1",
   "metadata": {},
   "outputs": [],
   "source": [
    "#Question 42 "
   ]
  },
  {
   "cell_type": "code",
   "execution_count": 120,
   "id": "93fbe52d-36b5-47a7-afe5-6d46b615ff42",
   "metadata": {},
   "outputs": [],
   "source": [
    "#Replace negative numbers in alist with 0"
   ]
  },
  {
   "cell_type": "code",
   "execution_count": 121,
   "id": "7fb7f054-ca9b-46aa-ada7-9459cb58d00f",
   "metadata": {},
   "outputs": [
    {
     "name": "stdout",
     "output_type": "stream",
     "text": [
      "[1, 0, 3, 0, 5]\n"
     ]
    }
   ],
   "source": [
    "my_list = [1,-2,3,-4,5]\n",
    "for i in range(len(my_list)):\n",
    "    if my_list[i]<0:\n",
    "        my_list[i] = 0\n",
    "print(my_list)"
   ]
  },
  {
   "cell_type": "code",
   "execution_count": null,
   "id": "2149c17c-8a1d-4acc-af8d-ba72fc46b050",
   "metadata": {},
   "outputs": [],
   "source": []
  },
  {
   "cell_type": "code",
   "execution_count": null,
   "id": "776a293a-be6f-49b6-bc13-e6d51f3ef2ca",
   "metadata": {},
   "outputs": [],
   "source": []
  },
  {
   "cell_type": "code",
   "execution_count": 122,
   "id": "b8519b09-b315-4778-aa57-2a5aba2bf521",
   "metadata": {},
   "outputs": [],
   "source": [
    "#Question 43"
   ]
  },
  {
   "cell_type": "code",
   "execution_count": 123,
   "id": "a7f21783-0eee-4b0d-b4bb-2d4384dd65e9",
   "metadata": {},
   "outputs": [],
   "source": [
    "#convert a string into a list of words."
   ]
  },
  {
   "cell_type": "code",
   "execution_count": 124,
   "id": "ba93cda1-9576-4734-b1b8-384e7c692792",
   "metadata": {},
   "outputs": [
    {
     "name": "stdout",
     "output_type": "stream",
     "text": [
      "['Hello,how', 'are', 'you', 'doing', 'today?']\n"
     ]
    }
   ],
   "source": [
    "my_string = \"Hello,how are you doing today?\"\n",
    "word_list = my_string.split()\n",
    "print(word_list)"
   ]
  },
  {
   "cell_type": "code",
   "execution_count": null,
   "id": "4810c061-e2e5-4fcd-8bbc-ed2a75dd57da",
   "metadata": {},
   "outputs": [],
   "source": []
  },
  {
   "cell_type": "code",
   "execution_count": null,
   "id": "574e37a3-8ab7-40b6-9316-e56ffd4e4e7a",
   "metadata": {},
   "outputs": [],
   "source": []
  },
  {
   "cell_type": "code",
   "execution_count": 125,
   "id": "72876eba-ba68-4922-bfe2-919525c58aae",
   "metadata": {},
   "outputs": [],
   "source": [
    "#Question 44"
   ]
  },
  {
   "cell_type": "code",
   "execution_count": 126,
   "id": "6d497176-64c6-4cb0-97ab-767b5098790e",
   "metadata": {},
   "outputs": [],
   "source": [
    "#convert a list of words into a string "
   ]
  },
  {
   "cell_type": "code",
   "execution_count": 127,
   "id": "8f83610c-bca1-47a6-a0a8-91870e8a3655",
   "metadata": {},
   "outputs": [
    {
     "name": "stdout",
     "output_type": "stream",
     "text": [
      "Hello how are you doing today?\n"
     ]
    }
   ],
   "source": [
    "word_list = [\"Hello\",\"how\",\"are\",\"you\",\"doing\",\"today?\"]\n",
    "my_string = \" \".join(word_list)\n",
    "print(my_string)"
   ]
  },
  {
   "cell_type": "code",
   "execution_count": null,
   "id": "e3fe6377-6c4a-48f1-98cb-df79d3736fe5",
   "metadata": {},
   "outputs": [],
   "source": []
  },
  {
   "cell_type": "code",
   "execution_count": null,
   "id": "2cbca684-0625-4761-94d6-098104a550a4",
   "metadata": {},
   "outputs": [],
   "source": []
  },
  {
   "cell_type": "code",
   "execution_count": 128,
   "id": "75b438c2-f1e1-4240-9984-82a68081685c",
   "metadata": {},
   "outputs": [],
   "source": [
    "#Question 45"
   ]
  },
  {
   "cell_type": "code",
   "execution_count": 129,
   "id": "32f60acc-23d3-4b8a-a9bc-9b91bdaf653a",
   "metadata": {},
   "outputs": [],
   "source": [
    "# create a list of  the first 'n' powers of 2"
   ]
  },
  {
   "cell_type": "code",
   "execution_count": 130,
   "id": "783e66d8-a777-4073-ac05-1d7cf4486286",
   "metadata": {},
   "outputs": [
    {
     "name": "stdout",
     "output_type": "stream",
     "text": [
      "[1, 2, 4, 8, 16]\n"
     ]
    }
   ],
   "source": [
    "n=5\n",
    "power_of_2_list = [2**i for i in range(n)]\n",
    "print(power_of_2_list)"
   ]
  },
  {
   "cell_type": "code",
   "execution_count": null,
   "id": "0c6fc740-ef25-4d7b-9857-75521bd54856",
   "metadata": {},
   "outputs": [],
   "source": []
  },
  {
   "cell_type": "code",
   "execution_count": null,
   "id": "c2eed872-1705-47e1-9e1f-ea5e0bb27dee",
   "metadata": {},
   "outputs": [],
   "source": []
  },
  {
   "cell_type": "code",
   "execution_count": 131,
   "id": "8daf7b05-6599-46f3-9b4d-2dffb2d4e0c8",
   "metadata": {},
   "outputs": [],
   "source": [
    "#Question 46"
   ]
  },
  {
   "cell_type": "code",
   "execution_count": 132,
   "id": "79d92f8b-859c-4ff3-8724-21fb4062f8fa",
   "metadata": {},
   "outputs": [],
   "source": [
    "# find the longest string in a list of strings"
   ]
  },
  {
   "cell_type": "code",
   "execution_count": 133,
   "id": "8a06e425-6cca-4454-a7b7-d293d34e3019",
   "metadata": {},
   "outputs": [
    {
     "name": "stdout",
     "output_type": "stream",
     "text": [
      "drangonfruit\n"
     ]
    }
   ],
   "source": [
    "string_list = [\"apple\",\"banana\",\"cherry\",\"drangonfruit\"]\n",
    "longest_string = max(string_list,key=len)\n",
    "print(longest_string)"
   ]
  },
  {
   "cell_type": "code",
   "execution_count": null,
   "id": "26799b98-b9ce-4cf3-839b-8091ef3c2b25",
   "metadata": {},
   "outputs": [],
   "source": []
  },
  {
   "cell_type": "code",
   "execution_count": null,
   "id": "ea0e8173-5c92-4947-9f50-a92c438526e2",
   "metadata": {},
   "outputs": [],
   "source": []
  },
  {
   "cell_type": "code",
   "execution_count": 134,
   "id": "bac48d34-c587-4b5d-8985-45282bee6c86",
   "metadata": {},
   "outputs": [],
   "source": [
    "# Question 47"
   ]
  },
  {
   "cell_type": "code",
   "execution_count": 135,
   "id": "1091c345-23dd-4fab-b0df-655480214a25",
   "metadata": {},
   "outputs": [],
   "source": [
    "#find the shortest string in a list of strings"
   ]
  },
  {
   "cell_type": "code",
   "execution_count": 136,
   "id": "ad218e80-b927-4bc7-977f-da3298a53471",
   "metadata": {},
   "outputs": [
    {
     "name": "stdout",
     "output_type": "stream",
     "text": [
      "apple\n"
     ]
    }
   ],
   "source": [
    "string_list = [\"apple\",\"banana\",\"orange\",\"dragonfruit\"]\n",
    "shortest_string = min(string_list,key=len)\n",
    "print(shortest_string)\n"
   ]
  },
  {
   "cell_type": "code",
   "execution_count": null,
   "id": "1058eb17-3339-4988-99dc-29231403763e",
   "metadata": {},
   "outputs": [],
   "source": []
  },
  {
   "cell_type": "code",
   "execution_count": null,
   "id": "04c8f449-a72a-4b28-8651-a475ba2cb388",
   "metadata": {},
   "outputs": [],
   "source": []
  },
  {
   "cell_type": "code",
   "execution_count": 137,
   "id": "1135b206-a54d-4f60-b87c-6fab09b4ddfb",
   "metadata": {},
   "outputs": [],
   "source": [
    "#Question 48 "
   ]
  },
  {
   "cell_type": "code",
   "execution_count": 138,
   "id": "40f7a86c-ad90-4412-9726-6d6a7fc7b7e2",
   "metadata": {},
   "outputs": [],
   "source": [
    "#create a list of the first 'n' triangular numbers"
   ]
  },
  {
   "cell_type": "code",
   "execution_count": 139,
   "id": "1b2cbebe-1db9-46c6-b7a1-38191d6118d1",
   "metadata": {},
   "outputs": [
    {
     "name": "stdout",
     "output_type": "stream",
     "text": [
      "[0, 1, 3, 6, 10]\n"
     ]
    }
   ],
   "source": [
    "n = 5\n",
    "triangular_numbers = [(i*(i+1))//2 for i in range(n)]\n",
    "print(triangular_numbers)"
   ]
  },
  {
   "cell_type": "code",
   "execution_count": null,
   "id": "d616a154-5265-4777-9aa3-7b53cc9552ee",
   "metadata": {},
   "outputs": [],
   "source": []
  },
  {
   "cell_type": "code",
   "execution_count": null,
   "id": "99fea0c9-aa07-4c6c-a893-d24c42c05983",
   "metadata": {},
   "outputs": [],
   "source": []
  },
  {
   "cell_type": "code",
   "execution_count": 140,
   "id": "37d7f46a-c869-4030-bf21-03093aa03063",
   "metadata": {},
   "outputs": [],
   "source": [
    "#Question 49"
   ]
  },
  {
   "cell_type": "code",
   "execution_count": 141,
   "id": "5a762a64-a650-40d2-be0d-fce57c401b51",
   "metadata": {},
   "outputs": [],
   "source": [
    "#check if a list contains another list as a subsequence"
   ]
  },
  {
   "cell_type": "code",
   "execution_count": 142,
   "id": "6b024074-b28e-4a48-8200-8225f83a1395",
   "metadata": {},
   "outputs": [
    {
     "name": "stdout",
     "output_type": "stream",
     "text": [
      "List2 is a subsequence of List1\n"
     ]
    }
   ],
   "source": [
    "list1 = [1,2,3,4,5]\n",
    "list2 = [2,3]\n",
    "if all(elem in list1 for elem in list2):\n",
    "    print(\"List2 is a subsequence of List1\")\n",
    "else:\n",
    "    print(\"List2 is not a subsequence of List1\")"
   ]
  },
  {
   "cell_type": "code",
   "execution_count": null,
   "id": "c4613496-25aa-4155-a10e-222296ec4c45",
   "metadata": {},
   "outputs": [],
   "source": []
  },
  {
   "cell_type": "code",
   "execution_count": null,
   "id": "f10232a9-dae5-42d8-9fad-206578ac444b",
   "metadata": {},
   "outputs": [],
   "source": []
  },
  {
   "cell_type": "code",
   "execution_count": 143,
   "id": "6884aca6-b2dc-471a-ba16-561f08aea7f5",
   "metadata": {},
   "outputs": [],
   "source": [
    "#Question 50"
   ]
  },
  {
   "cell_type": "code",
   "execution_count": 144,
   "id": "5053aaf8-e768-4d04-9f4d-c0015a57aced",
   "metadata": {},
   "outputs": [],
   "source": [
    "#swap two elements in list by their indices"
   ]
  },
  {
   "cell_type": "code",
   "execution_count": 145,
   "id": "7759b557-bff2-466f-81f9-5bc4165ebce7",
   "metadata": {},
   "outputs": [
    {
     "name": "stdout",
     "output_type": "stream",
     "text": [
      "[1, 4, 3, 2, 5]\n"
     ]
    }
   ],
   "source": [
    "my_list = [1,2,3,4,5]\n",
    "index1 = 1\n",
    "index2 = 3\n",
    "my_list[index1],my_list[index2]=my_list[index2],my_list[index1]\n",
    "print(my_list)"
   ]
  },
  {
   "cell_type": "code",
   "execution_count": null,
   "id": "1ff37acb-68a6-456d-90bd-6dd221a2c23e",
   "metadata": {},
   "outputs": [],
   "source": []
  },
  {
   "cell_type": "code",
   "execution_count": null,
   "id": "060dd6f3-41f1-4fe6-9d18-32f6a57d6179",
   "metadata": {},
   "outputs": [],
   "source": []
  },
  {
   "cell_type": "code",
   "execution_count": 146,
   "id": "4c259ce4-87c3-4ec4-9dbd-941f14a99f2b",
   "metadata": {},
   "outputs": [],
   "source": [
    "#TUPLE BASED PRACTICE PROBLEM:"
   ]
  },
  {
   "cell_type": "code",
   "execution_count": 147,
   "id": "cb3995a3-b929-476b-8925-4ece6e8569cf",
   "metadata": {},
   "outputs": [],
   "source": [
    "#Question 1"
   ]
  },
  {
   "cell_type": "code",
   "execution_count": 148,
   "id": "e37c14f2-4691-4c8b-8943-f2449c4deb33",
   "metadata": {},
   "outputs": [],
   "source": [
    "#create a tuple with integers from 1 to 5."
   ]
  },
  {
   "cell_type": "code",
   "execution_count": 149,
   "id": "b3c3220f-01ac-4b8f-bb5b-5be981e09808",
   "metadata": {},
   "outputs": [
    {
     "name": "stdout",
     "output_type": "stream",
     "text": [
      "(1, 2, 3, 4, 5)\n"
     ]
    }
   ],
   "source": [
    "my_tuple = tuple(range(1,6))\n",
    "print(my_tuple)"
   ]
  },
  {
   "cell_type": "code",
   "execution_count": null,
   "id": "b507af61-5aae-4c9d-a0f0-2579cb52c694",
   "metadata": {},
   "outputs": [],
   "source": []
  },
  {
   "cell_type": "code",
   "execution_count": null,
   "id": "feb97447-ea1f-48cb-bddb-ab47b3a07d93",
   "metadata": {},
   "outputs": [],
   "source": []
  },
  {
   "cell_type": "code",
   "execution_count": 150,
   "id": "abc5538d-a4b5-44e3-b119-3d1ea273abc1",
   "metadata": {},
   "outputs": [],
   "source": [
    "#Question 2"
   ]
  },
  {
   "cell_type": "code",
   "execution_count": 151,
   "id": "3a27af7e-bf34-4916-b196-2c37670fa6ba",
   "metadata": {},
   "outputs": [],
   "source": [
    "#Access the third element of a tuple."
   ]
  },
  {
   "cell_type": "code",
   "execution_count": 153,
   "id": "0fee1610-932d-4a5c-ad81-ab46509c2d23",
   "metadata": {},
   "outputs": [
    {
     "name": "stdout",
     "output_type": "stream",
     "text": [
      "3\n"
     ]
    }
   ],
   "source": [
    "my_tuple = (1,2,3,4,5)\n",
    "third_element = my_tuple[2]\n",
    "print(third_element)"
   ]
  },
  {
   "cell_type": "code",
   "execution_count": null,
   "id": "c05d6a72-e1fa-4d3d-8833-bfbd28fe5d13",
   "metadata": {},
   "outputs": [],
   "source": []
  },
  {
   "cell_type": "code",
   "execution_count": null,
   "id": "c37495aa-9321-4977-b6ea-e260910419d7",
   "metadata": {},
   "outputs": [],
   "source": []
  },
  {
   "cell_type": "code",
   "execution_count": 154,
   "id": "a14b72ef-1fe9-4867-840d-35f034a86a87",
   "metadata": {},
   "outputs": [],
   "source": [
    "#Question 3"
   ]
  },
  {
   "cell_type": "code",
   "execution_count": 155,
   "id": "518bde8b-38ca-4081-ba02-90e6c8154e76",
   "metadata": {},
   "outputs": [],
   "source": [
    "#find the length of a tuple without using the 'len()' function"
   ]
  },
  {
   "cell_type": "code",
   "execution_count": 156,
   "id": "7551c4a0-6286-4807-a265-3c787c46fcfe",
   "metadata": {},
   "outputs": [
    {
     "name": "stdout",
     "output_type": "stream",
     "text": [
      "5\n"
     ]
    }
   ],
   "source": [
    "my_tuple = (1,2,3,4,5)\n",
    "count = 0\n",
    "for element in my_tuple:\n",
    "    count += 1\n",
    "print(count)"
   ]
  },
  {
   "cell_type": "code",
   "execution_count": 157,
   "id": "6862bcdd-73c5-46c0-b679-cb1f0bdcadae",
   "metadata": {},
   "outputs": [],
   "source": [
    "#Question 4"
   ]
  },
  {
   "cell_type": "code",
   "execution_count": 159,
   "id": "6f16377d-2c7f-4cd8-a92b-b98e4547ef8f",
   "metadata": {},
   "outputs": [],
   "source": [
    "#Count the occurences of an element in a tuple"
   ]
  },
  {
   "cell_type": "code",
   "execution_count": 160,
   "id": "7b99f535-19b8-4be1-91dc-db70204faa00",
   "metadata": {},
   "outputs": [
    {
     "name": "stdout",
     "output_type": "stream",
     "text": [
      "3\n"
     ]
    }
   ],
   "source": [
    "my_tuple = (1,2,2,3,4,2,5)\n",
    "element = 2\n",
    "count = my_tuple.count(element)\n",
    "print(count)"
   ]
  },
  {
   "cell_type": "code",
   "execution_count": null,
   "id": "61a04f2e-d081-4994-ae32-896fd840144a",
   "metadata": {},
   "outputs": [],
   "source": []
  },
  {
   "cell_type": "code",
   "execution_count": null,
   "id": "2a2c98be-1ec7-4b14-8b78-07d8c73da862",
   "metadata": {},
   "outputs": [],
   "source": []
  },
  {
   "cell_type": "code",
   "execution_count": 161,
   "id": "adae1b2b-12a8-4769-834c-cf6a2cefd26b",
   "metadata": {},
   "outputs": [],
   "source": [
    "#Question 5"
   ]
  },
  {
   "cell_type": "code",
   "execution_count": 162,
   "id": "cf9dd793-49e2-4ad1-bf3a-996e2b277d1c",
   "metadata": {},
   "outputs": [],
   "source": [
    "#find the index of the first occurences of an element in a tuple"
   ]
  },
  {
   "cell_type": "code",
   "execution_count": 163,
   "id": "a6541e11-8bae-4917-88a6-e1ab3ab2f2af",
   "metadata": {},
   "outputs": [
    {
     "name": "stdout",
     "output_type": "stream",
     "text": [
      "2\n"
     ]
    }
   ],
   "source": [
    "my_tuple = (1,2,3,4,5)\n",
    "element = 3\n",
    "index = my_tuple.index(element)\n",
    "print(index)"
   ]
  },
  {
   "cell_type": "code",
   "execution_count": null,
   "id": "517e3a29-232a-4cab-bedc-f2074bad0fb9",
   "metadata": {},
   "outputs": [],
   "source": []
  },
  {
   "cell_type": "code",
   "execution_count": null,
   "id": "ef0b6f2d-ccfe-4a33-8f0f-993e6ca9619f",
   "metadata": {},
   "outputs": [],
   "source": []
  },
  {
   "cell_type": "code",
   "execution_count": 164,
   "id": "18ff8d24-b442-4362-948e-ed1739fae4d9",
   "metadata": {},
   "outputs": [],
   "source": [
    "#Question 6"
   ]
  },
  {
   "cell_type": "code",
   "execution_count": 165,
   "id": "a6506319-132f-4e23-a2f0-e6eebe094e3c",
   "metadata": {},
   "outputs": [],
   "source": [
    "# check if an element exists in a tuple"
   ]
  },
  {
   "cell_type": "code",
   "execution_count": 166,
   "id": "b7317c9a-d981-42dd-8332-d426dc6d78a9",
   "metadata": {},
   "outputs": [
    {
     "name": "stdout",
     "output_type": "stream",
     "text": [
      "The element exists in the tuple!\n"
     ]
    }
   ],
   "source": [
    "my_tuple = (1,2,3,4,5)\n",
    "element =3\n",
    "if element in my_tuple:\n",
    "    print(\"The element exists in the tuple!\")\n",
    "else:\n",
    "    print(\"The element does not exist in the tuple.\")"
   ]
  },
  {
   "cell_type": "code",
   "execution_count": null,
   "id": "f7509359-bee4-455b-806b-ff2a8092d8e0",
   "metadata": {},
   "outputs": [],
   "source": []
  },
  {
   "cell_type": "code",
   "execution_count": null,
   "id": "3223e95e-a8fc-4e23-939b-1b172fa2a31c",
   "metadata": {},
   "outputs": [],
   "source": []
  },
  {
   "cell_type": "code",
   "execution_count": 167,
   "id": "333e09cd-618e-493a-86ce-11f723b68b8c",
   "metadata": {},
   "outputs": [],
   "source": [
    "#Question 7"
   ]
  },
  {
   "cell_type": "code",
   "execution_count": 168,
   "id": "6e90511c-cd7a-4c6f-b248-1135de37d6c7",
   "metadata": {},
   "outputs": [],
   "source": [
    "#convert a tuple to a list"
   ]
  },
  {
   "cell_type": "code",
   "execution_count": 169,
   "id": "a135c4ff-33e0-48e4-8fc3-548b2d790f00",
   "metadata": {},
   "outputs": [
    {
     "name": "stdout",
     "output_type": "stream",
     "text": [
      "[1, 2, 3, 4, 5]\n"
     ]
    }
   ],
   "source": [
    "my_tuple = (1,2,3,4,5)\n",
    "my_list = list(my_tuple)\n",
    "print(my_list)"
   ]
  },
  {
   "cell_type": "code",
   "execution_count": null,
   "id": "821ba57e-3ffa-44f2-9e22-0331d043273c",
   "metadata": {},
   "outputs": [],
   "source": []
  },
  {
   "cell_type": "code",
   "execution_count": null,
   "id": "fab57fac-b78d-4d98-8e66-7dd5e33b46a5",
   "metadata": {},
   "outputs": [],
   "source": []
  },
  {
   "cell_type": "code",
   "execution_count": 170,
   "id": "fbb1426d-c431-47a3-9046-6caaca635e90",
   "metadata": {},
   "outputs": [],
   "source": [
    "#Question 8"
   ]
  },
  {
   "cell_type": "code",
   "execution_count": 171,
   "id": "a6986272-ccc2-4773-aa5e-f9556a93eb6a",
   "metadata": {},
   "outputs": [],
   "source": [
    "#convert a list to a tuple "
   ]
  },
  {
   "cell_type": "code",
   "execution_count": 172,
   "id": "a5167de3-fce1-430c-b3d7-c2651886b721",
   "metadata": {},
   "outputs": [
    {
     "name": "stdout",
     "output_type": "stream",
     "text": [
      "(1, 2, 3, 4, 5)\n"
     ]
    }
   ],
   "source": [
    "my_list = [1,2,3,4,5]\n",
    "my_tuple = tuple(my_list)\n",
    "print(my_tuple)"
   ]
  },
  {
   "cell_type": "code",
   "execution_count": null,
   "id": "88a728fe-4f45-41d1-9cc1-d52d87c3795b",
   "metadata": {},
   "outputs": [],
   "source": []
  },
  {
   "cell_type": "code",
   "execution_count": null,
   "id": "ba7b4757-b9c6-4996-aa24-4c0e31568815",
   "metadata": {},
   "outputs": [],
   "source": []
  },
  {
   "cell_type": "code",
   "execution_count": 173,
   "id": "9e23b690-20a9-450c-a424-43b532c955ff",
   "metadata": {},
   "outputs": [],
   "source": [
    "#Question 9"
   ]
  },
  {
   "cell_type": "code",
   "execution_count": 174,
   "id": "02196a28-f6c2-4bc4-bc66-22e30c0ac4e1",
   "metadata": {},
   "outputs": [],
   "source": [
    "#unpack the elements of a tuple into variables."
   ]
  },
  {
   "cell_type": "code",
   "execution_count": 175,
   "id": "22c87d5c-8307-46c6-a645-bcb3c3e577b0",
   "metadata": {},
   "outputs": [
    {
     "name": "stdout",
     "output_type": "stream",
     "text": [
      "1\n",
      "2\n",
      "3\n"
     ]
    }
   ],
   "source": [
    "my_tuple = (1,2,3)\n",
    "a,b,c = my_tuple\n",
    "print(a)\n",
    "print(b)\n",
    "print(c)"
   ]
  },
  {
   "cell_type": "code",
   "execution_count": null,
   "id": "d075df30-0397-4ef2-813b-1cf9889c69ba",
   "metadata": {},
   "outputs": [],
   "source": []
  },
  {
   "cell_type": "code",
   "execution_count": null,
   "id": "4a3c2dd8-598f-49e4-832a-a90d2e813c1a",
   "metadata": {},
   "outputs": [],
   "source": []
  },
  {
   "cell_type": "code",
   "execution_count": 176,
   "id": "8d705078-5fd0-4f92-b319-e8ac26925cf6",
   "metadata": {},
   "outputs": [],
   "source": [
    "#Question 10"
   ]
  },
  {
   "cell_type": "code",
   "execution_count": 177,
   "id": "7ae4cc39-afa9-496c-8e63-1e59080e1479",
   "metadata": {},
   "outputs": [],
   "source": [
    "#create a tuple  of even numbers from 1 to 10"
   ]
  },
  {
   "cell_type": "code",
   "execution_count": 178,
   "id": "89a1d4b1-7538-4d56-aab5-65c7a2df28bd",
   "metadata": {},
   "outputs": [
    {
     "name": "stdout",
     "output_type": "stream",
     "text": [
      "(2, 4, 6, 8, 10)\n"
     ]
    }
   ],
   "source": [
    "even_numbers = tuple(num for num in range(1,11)if num%2==0)\n",
    "print(even_numbers)"
   ]
  },
  {
   "cell_type": "code",
   "execution_count": null,
   "id": "4fd832df-038d-40fc-a3ca-850590e9c2ee",
   "metadata": {},
   "outputs": [],
   "source": []
  },
  {
   "cell_type": "code",
   "execution_count": null,
   "id": "38dc6f8c-6c94-4cc5-b067-ba5b4cc99f86",
   "metadata": {},
   "outputs": [],
   "source": []
  },
  {
   "cell_type": "code",
   "execution_count": 179,
   "id": "2cee25ce-c1bf-4ddd-9feb-c1b19887bcf6",
   "metadata": {},
   "outputs": [],
   "source": [
    "#Question 11"
   ]
  },
  {
   "cell_type": "code",
   "execution_count": 180,
   "id": "7af461f4-3ce3-4ca0-9921-a4be4c7c3735",
   "metadata": {},
   "outputs": [],
   "source": [
    "#create a tuple  of odd  numbers from 1 to 10"
   ]
  },
  {
   "cell_type": "code",
   "execution_count": 182,
   "id": "0686e0c7-deae-4255-9542-72d1bf24aac7",
   "metadata": {},
   "outputs": [
    {
     "name": "stdout",
     "output_type": "stream",
     "text": [
      "(1, 3, 5, 7, 9)\n"
     ]
    }
   ],
   "source": [
    "odd_numbers = tuple(num for num in range(1,11)if num%2!=0)\n",
    "print(odd_numbers)"
   ]
  },
  {
   "cell_type": "code",
   "execution_count": null,
   "id": "06d302d8-15ca-4d2e-8c15-5f2e6254c107",
   "metadata": {},
   "outputs": [],
   "source": []
  },
  {
   "cell_type": "code",
   "execution_count": null,
   "id": "9ca34908-613a-407a-8b97-84fff146984d",
   "metadata": {},
   "outputs": [],
   "source": []
  },
  {
   "cell_type": "code",
   "execution_count": 183,
   "id": "68f6e22a-25be-479b-a181-70d811506633",
   "metadata": {},
   "outputs": [],
   "source": [
    "#Question 12"
   ]
  },
  {
   "cell_type": "code",
   "execution_count": 184,
   "id": "7931681d-137b-4291-9212-ac0f4530e0d2",
   "metadata": {},
   "outputs": [],
   "source": [
    "#concatenate two tuples"
   ]
  },
  {
   "cell_type": "code",
   "execution_count": 185,
   "id": "92ebd402-2175-46f6-b434-d5a5c542945e",
   "metadata": {},
   "outputs": [
    {
     "name": "stdout",
     "output_type": "stream",
     "text": [
      "(1, 2, 3, 4, 5, 6)\n"
     ]
    }
   ],
   "source": [
    "tuple1 = (1,2,3)\n",
    "tuple2 = (4,5,6)\n",
    "concatenated_tuple = tuple1 + tuple2\n",
    "print(concatenated_tuple)"
   ]
  },
  {
   "cell_type": "code",
   "execution_count": null,
   "id": "432bf300-d033-415e-a762-32719a0223c9",
   "metadata": {},
   "outputs": [],
   "source": []
  },
  {
   "cell_type": "code",
   "execution_count": null,
   "id": "b88ef799-3c28-4de7-bb8b-c339a4f4f3f5",
   "metadata": {},
   "outputs": [],
   "source": []
  },
  {
   "cell_type": "code",
   "execution_count": 186,
   "id": "deede928-22a6-481b-998e-b9588ad17c8a",
   "metadata": {},
   "outputs": [],
   "source": [
    "#Question 13"
   ]
  },
  {
   "cell_type": "code",
   "execution_count": 187,
   "id": "6eae3a53-65d9-4934-abd6-97b3b0743e49",
   "metadata": {},
   "outputs": [],
   "source": [
    "#Repeat a tuple three times."
   ]
  },
  {
   "cell_type": "code",
   "execution_count": 1,
   "id": "363aee0f-d84f-4702-8d26-5197030e9cc2",
   "metadata": {},
   "outputs": [
    {
     "name": "stdout",
     "output_type": "stream",
     "text": [
      "(1, 2, 3, 1, 2, 3, 1, 2, 3)\n"
     ]
    }
   ],
   "source": [
    "my_tuple = (1,2,3)\n",
    "repeated_tuple = my_tuple*3\n",
    "print(repeated_tuple)"
   ]
  },
  {
   "cell_type": "code",
   "execution_count": null,
   "id": "3dda5439-0f03-4a44-99f5-80d6de335c96",
   "metadata": {},
   "outputs": [],
   "source": []
  },
  {
   "cell_type": "code",
   "execution_count": null,
   "id": "e657bc9e-793b-401f-ba2b-4fcbc4594a5a",
   "metadata": {},
   "outputs": [],
   "source": []
  },
  {
   "cell_type": "code",
   "execution_count": 2,
   "id": "f9bb8074-4377-4002-bd9b-e638f31ed5bb",
   "metadata": {},
   "outputs": [],
   "source": [
    "#Question 14"
   ]
  },
  {
   "cell_type": "code",
   "execution_count": 3,
   "id": "bba6c93f-0a10-423c-89e1-1a3cbb0530cc",
   "metadata": {},
   "outputs": [],
   "source": [
    "#check if a tuple is empty."
   ]
  },
  {
   "cell_type": "code",
   "execution_count": 4,
   "id": "579ae737-2e3d-4302-85eb-a3d127d060d0",
   "metadata": {},
   "outputs": [
    {
     "name": "stdout",
     "output_type": "stream",
     "text": [
      "The tuple is empty!\n"
     ]
    }
   ],
   "source": [
    "my_tuple =()\n",
    "if len(my_tuple)==0:\n",
    "    print(\"The tuple is empty!\")\n",
    "else:\n",
    "    print(\"The tuple is not empty.\")"
   ]
  },
  {
   "cell_type": "code",
   "execution_count": null,
   "id": "c02bd8aa-9f66-4418-916f-f60ef990e578",
   "metadata": {},
   "outputs": [],
   "source": []
  },
  {
   "cell_type": "code",
   "execution_count": null,
   "id": "25cc24dd-c4b6-4d52-b3c0-e9575d859b83",
   "metadata": {},
   "outputs": [],
   "source": []
  },
  {
   "cell_type": "code",
   "execution_count": 5,
   "id": "5298c71b-23c8-485f-b085-ba72a7c3b49e",
   "metadata": {},
   "outputs": [],
   "source": [
    "#Question 15"
   ]
  },
  {
   "cell_type": "code",
   "execution_count": 6,
   "id": "68753fb2-a134-47ce-b791-8044295a6ffa",
   "metadata": {},
   "outputs": [],
   "source": [
    "# create a nested tuple."
   ]
  },
  {
   "cell_type": "code",
   "execution_count": 7,
   "id": "6918a686-daca-4488-bd27-308d25b5abd0",
   "metadata": {},
   "outputs": [
    {
     "name": "stdout",
     "output_type": "stream",
     "text": [
      "(('apple', 'banana'), ('cat', 'dog'), (1, 2, 3))\n"
     ]
    }
   ],
   "source": [
    "nested_tuple = ((\"apple\",\"banana\"),(\"cat\",\"dog\"),(1,2,3))\n",
    "print(nested_tuple)"
   ]
  },
  {
   "cell_type": "code",
   "execution_count": null,
   "id": "c037933c-75d7-4b4c-869b-3d6fa03449a9",
   "metadata": {},
   "outputs": [],
   "source": []
  },
  {
   "cell_type": "code",
   "execution_count": null,
   "id": "a77884b4-53c4-45e1-8887-aebe6c5e536f",
   "metadata": {},
   "outputs": [],
   "source": []
  },
  {
   "cell_type": "code",
   "execution_count": 8,
   "id": "98c49c70-d908-4c9a-826e-1dd9980cdb97",
   "metadata": {},
   "outputs": [],
   "source": [
    "#Question 16"
   ]
  },
  {
   "cell_type": "code",
   "execution_count": 9,
   "id": "719b45d2-ffc2-443d-ba34-39d8a3f674cd",
   "metadata": {},
   "outputs": [],
   "source": [
    "# Access the first element of a nested tuple"
   ]
  },
  {
   "cell_type": "code",
   "execution_count": 10,
   "id": "c7ce6bea-9a53-44fb-8eb3-b9df840d7452",
   "metadata": {},
   "outputs": [
    {
     "name": "stdout",
     "output_type": "stream",
     "text": [
      "('apple', 'banana')\n"
     ]
    }
   ],
   "source": [
    "nested_tuple = ((\"apple\",\"banana\"),(\"cat\",\"dog\"),(1,2,3))\n",
    "first_element = nested_tuple[0]\n",
    "print(first_element)"
   ]
  },
  {
   "cell_type": "code",
   "execution_count": null,
   "id": "d53c82e0-e915-4b32-9927-cc65d556e843",
   "metadata": {},
   "outputs": [],
   "source": []
  },
  {
   "cell_type": "code",
   "execution_count": null,
   "id": "53c75052-34c8-4a84-9d11-0fb9739f33eb",
   "metadata": {},
   "outputs": [],
   "source": []
  },
  {
   "cell_type": "code",
   "execution_count": 11,
   "id": "f8e1d59d-5c67-4ce2-a5e6-621cb1729b01",
   "metadata": {},
   "outputs": [],
   "source": [
    "#Question 17"
   ]
  },
  {
   "cell_type": "code",
   "execution_count": 12,
   "id": "4270591c-2030-4704-9281-8912974965fa",
   "metadata": {},
   "outputs": [],
   "source": [
    "# create a tuple with a single element"
   ]
  },
  {
   "cell_type": "code",
   "execution_count": 13,
   "id": "a068b7a7-e008-46f2-9782-42acc0eddda9",
   "metadata": {},
   "outputs": [
    {
     "name": "stdout",
     "output_type": "stream",
     "text": [
      "('apple',)\n"
     ]
    }
   ],
   "source": [
    "my_tuple = (\"apple\",)\n",
    "print(my_tuple)"
   ]
  },
  {
   "cell_type": "code",
   "execution_count": null,
   "id": "f7e6feca-266c-44d4-8906-370d40d42734",
   "metadata": {},
   "outputs": [],
   "source": []
  },
  {
   "cell_type": "code",
   "execution_count": null,
   "id": "8e526234-8e19-49af-8f57-f536f5ba656c",
   "metadata": {},
   "outputs": [],
   "source": []
  },
  {
   "cell_type": "code",
   "execution_count": 14,
   "id": "3dbc1c30-2664-4094-b441-0d4c56c83089",
   "metadata": {},
   "outputs": [],
   "source": [
    "#Question 18"
   ]
  },
  {
   "cell_type": "code",
   "execution_count": 15,
   "id": "561e1002-b243-4ba5-92b4-cc9f92a6b29a",
   "metadata": {},
   "outputs": [],
   "source": [
    "#compare two tuples"
   ]
  },
  {
   "cell_type": "code",
   "execution_count": 17,
   "id": "aef45164-80c6-4e64-981f-8bb26cdc8f74",
   "metadata": {},
   "outputs": [
    {
     "name": "stdout",
     "output_type": "stream",
     "text": [
      "The tuples are not equal.\n"
     ]
    }
   ],
   "source": [
    "tuple1 = (1,2,3)\n",
    "tuple2 = (4,5,6)\n",
    "if tuple1 == tuple2:\n",
    "    print(\"The tuples are equal.\")\n",
    "else:\n",
    "    print(\"The tuples are not equal.\")"
   ]
  },
  {
   "cell_type": "code",
   "execution_count": null,
   "id": "2ecb9c90-8750-433b-a8d9-bb84be72bd55",
   "metadata": {},
   "outputs": [],
   "source": []
  },
  {
   "cell_type": "code",
   "execution_count": null,
   "id": "09b8d5f9-f57d-4986-a38b-f4701f3a8ea5",
   "metadata": {},
   "outputs": [],
   "source": []
  },
  {
   "cell_type": "code",
   "execution_count": 18,
   "id": "c96dc50a-7bb2-431b-ad7e-d3d9ec862bfc",
   "metadata": {},
   "outputs": [],
   "source": [
    "#Question 19"
   ]
  },
  {
   "cell_type": "code",
   "execution_count": 19,
   "id": "5f70e367-963b-4f3f-b845-d88e3ba22d1d",
   "metadata": {},
   "outputs": [],
   "source": [
    "#delete a tuple."
   ]
  },
  {
   "cell_type": "code",
   "execution_count": 85,
   "id": "bab5ea8f-1f42-44b7-9977-3e44b8211cc3",
   "metadata": {},
   "outputs": [
    {
     "ename": "SyntaxError",
     "evalue": "invalid syntax (794467436.py, line 1)",
     "output_type": "error",
     "traceback": [
      "\u001b[0;36m  Cell \u001b[0;32mIn[85], line 1\u001b[0;36m\u001b[0m\n\u001b[0;31m    my _ tuple = (1,2,3,4,5)\u001b[0m\n\u001b[0m       ^\u001b[0m\n\u001b[0;31mSyntaxError\u001b[0m\u001b[0;31m:\u001b[0m invalid syntax\n"
     ]
    }
   ],
   "source": [
    "my _ tuple = (1,2,3,4,5)\n",
    "del my_tuple"
   ]
  },
  {
   "cell_type": "code",
   "execution_count": null,
   "id": "98e9ad6d-a534-4d0b-890c-4430b8f74a7b",
   "metadata": {},
   "outputs": [],
   "source": []
  },
  {
   "cell_type": "code",
   "execution_count": null,
   "id": "af7e6ab0-0f7a-4e2b-8cfe-606834f2cabb",
   "metadata": {},
   "outputs": [],
   "source": []
  },
  {
   "cell_type": "code",
   "execution_count": 35,
   "id": "b514a516-f424-4521-978a-221acaab1011",
   "metadata": {},
   "outputs": [],
   "source": [
    "#Question 20 "
   ]
  },
  {
   "cell_type": "code",
   "execution_count": 36,
   "id": "d3ec4f6f-7eae-4118-b6bb-076f7f693db5",
   "metadata": {},
   "outputs": [],
   "source": [
    "#slice a tuple."
   ]
  },
  {
   "cell_type": "code",
   "execution_count": 37,
   "id": "b31105a0-4ad5-40da-9ebc-7ed31d3f5f47",
   "metadata": {},
   "outputs": [
    {
     "name": "stdout",
     "output_type": "stream",
     "text": [
      "(2, 3, 4)\n"
     ]
    }
   ],
   "source": [
    "my_tuple = (1,2,3,4,5)\n",
    "sliced_tuple = my_tuple[1:4]\n",
    "print(sliced_tuple)"
   ]
  },
  {
   "cell_type": "code",
   "execution_count": null,
   "id": "be8cc0e7-9470-44d3-af8c-c8df21198d11",
   "metadata": {},
   "outputs": [],
   "source": []
  },
  {
   "cell_type": "code",
   "execution_count": null,
   "id": "c7b02a49-fb0e-4d4d-887d-9ff2ee3fd1a5",
   "metadata": {},
   "outputs": [],
   "source": []
  },
  {
   "cell_type": "code",
   "execution_count": 38,
   "id": "f33412fe-5750-4003-b872-6ddd6a662c40",
   "metadata": {},
   "outputs": [],
   "source": [
    "#Question 21"
   ]
  },
  {
   "cell_type": "code",
   "execution_count": 39,
   "id": "8676417d-80e6-4ac1-88f6-f19ecdc5034d",
   "metadata": {},
   "outputs": [],
   "source": [
    "#find the maximum value in a tuple"
   ]
  },
  {
   "cell_type": "code",
   "execution_count": 41,
   "id": "6b3c7d15-1215-4e68-98d6-1079f7164fa3",
   "metadata": {},
   "outputs": [
    {
     "name": "stdout",
     "output_type": "stream",
     "text": [
      "20\n"
     ]
    }
   ],
   "source": [
    "my_tuple = (10,5,20,15)\n",
    "max_value = max(my_tuple)\n",
    "print(max_value)"
   ]
  },
  {
   "cell_type": "code",
   "execution_count": null,
   "id": "2b35d93f-5b4e-465d-ba2f-60f39c7efbdc",
   "metadata": {},
   "outputs": [],
   "source": []
  },
  {
   "cell_type": "code",
   "execution_count": null,
   "id": "e04c9f70-c62e-4470-8472-5915668d8a5d",
   "metadata": {},
   "outputs": [],
   "source": []
  },
  {
   "cell_type": "code",
   "execution_count": 42,
   "id": "b43d4ad9-0a46-4abf-8219-09f44d7638b8",
   "metadata": {},
   "outputs": [],
   "source": [
    "#Question 22"
   ]
  },
  {
   "cell_type": "code",
   "execution_count": 43,
   "id": "a122d3e9-17f1-4954-9d0c-0ff1c83337b5",
   "metadata": {},
   "outputs": [],
   "source": [
    "#find the minimum value in a tuple."
   ]
  },
  {
   "cell_type": "code",
   "execution_count": 44,
   "id": "c513a2f5-bfd6-4258-bc15-6081ff71ba00",
   "metadata": {},
   "outputs": [
    {
     "name": "stdout",
     "output_type": "stream",
     "text": [
      "5\n"
     ]
    }
   ],
   "source": [
    "my_tuple = (10,5,20,15)\n",
    "min_value = min(my_tuple)\n",
    "print(min_value)"
   ]
  },
  {
   "cell_type": "code",
   "execution_count": null,
   "id": "5151656b-d5d6-42ff-ad95-8a5e8ca8b855",
   "metadata": {},
   "outputs": [],
   "source": []
  },
  {
   "cell_type": "code",
   "execution_count": null,
   "id": "630fcb40-8902-46f9-a123-a5af1afdab5d",
   "metadata": {},
   "outputs": [],
   "source": []
  },
  {
   "cell_type": "code",
   "execution_count": 45,
   "id": "05adb770-43b6-416e-ac02-b6974b19dc3b",
   "metadata": {},
   "outputs": [],
   "source": [
    "#Question 23"
   ]
  },
  {
   "cell_type": "code",
   "execution_count": 46,
   "id": "07549bbb-92bb-4726-9973-6407cb6ee2f2",
   "metadata": {},
   "outputs": [],
   "source": [
    "#convert a string to a tuple of characters."
   ]
  },
  {
   "cell_type": "code",
   "execution_count": 47,
   "id": "658a15c2-7e50-423e-b6d2-33c3bc509231",
   "metadata": {},
   "outputs": [
    {
     "name": "stdout",
     "output_type": "stream",
     "text": [
      "('H', 'e', 'l', 'l', 'o')\n"
     ]
    }
   ],
   "source": [
    "my_string = \"Hello\"\n",
    "tuple_of_characters = tuple(my_string)\n",
    "print(tuple_of_characters)"
   ]
  },
  {
   "cell_type": "code",
   "execution_count": null,
   "id": "69551332-9d96-4c63-be63-79fc93e204fe",
   "metadata": {},
   "outputs": [],
   "source": []
  },
  {
   "cell_type": "code",
   "execution_count": null,
   "id": "62c850f4-62a7-40c0-90f1-d45004cca462",
   "metadata": {},
   "outputs": [],
   "source": []
  },
  {
   "cell_type": "code",
   "execution_count": 48,
   "id": "204e880e-be55-48a4-b20f-5882ebb28204",
   "metadata": {},
   "outputs": [],
   "source": [
    "#Question 24"
   ]
  },
  {
   "cell_type": "code",
   "execution_count": 49,
   "id": "9b3ab3cd-c306-48a1-8215-f6df2218bb1b",
   "metadata": {},
   "outputs": [],
   "source": [
    "#create a tuple of characters to a string "
   ]
  },
  {
   "cell_type": "code",
   "execution_count": 50,
   "id": "2dbd8265-74b4-45e0-b228-b3a39f3b042b",
   "metadata": {},
   "outputs": [
    {
     "name": "stdout",
     "output_type": "stream",
     "text": [
      "Hello\n"
     ]
    }
   ],
   "source": [
    "my_tuple = ('H','e','l','l','o')\n",
    "my_string = ''.join(my_tuple)\n",
    "print(my_string)"
   ]
  },
  {
   "cell_type": "code",
   "execution_count": null,
   "id": "f2bef940-2fd0-4ab5-985f-1010d252ccfd",
   "metadata": {},
   "outputs": [],
   "source": []
  },
  {
   "cell_type": "code",
   "execution_count": null,
   "id": "f2c3c909-eff5-47b6-9535-61dce6bae16d",
   "metadata": {},
   "outputs": [],
   "source": []
  },
  {
   "cell_type": "code",
   "execution_count": 51,
   "id": "bdadb9ff-abfe-4708-a127-d724e84e2756",
   "metadata": {},
   "outputs": [],
   "source": [
    "#Question 25"
   ]
  },
  {
   "cell_type": "code",
   "execution_count": 52,
   "id": "1b17dc79-5a0f-436d-9039-3b3c5c8fd49f",
   "metadata": {},
   "outputs": [],
   "source": [
    "#create a tuple from multiple data types."
   ]
  },
  {
   "cell_type": "code",
   "execution_count": 53,
   "id": "60fc2561-2745-40fa-a081-645dcb0d22e9",
   "metadata": {},
   "outputs": [
    {
     "name": "stdout",
     "output_type": "stream",
     "text": [
      "('apple', 5, True, 3.14)\n"
     ]
    }
   ],
   "source": [
    "my_tuple = (\"apple\",5,True,3.14)\n",
    "print(my_tuple)"
   ]
  },
  {
   "cell_type": "code",
   "execution_count": null,
   "id": "da9b3470-4d0f-439b-817f-9d3f81ba47ba",
   "metadata": {},
   "outputs": [],
   "source": []
  },
  {
   "cell_type": "code",
   "execution_count": null,
   "id": "5bcd73bd-3f71-499d-a118-7c8adc1168f4",
   "metadata": {},
   "outputs": [],
   "source": []
  },
  {
   "cell_type": "code",
   "execution_count": 54,
   "id": "1e92edea-eb97-4755-b5c0-aa9b48b378c3",
   "metadata": {},
   "outputs": [],
   "source": [
    "#Question 26"
   ]
  },
  {
   "cell_type": "code",
   "execution_count": 55,
   "id": "f08d36f4-faf1-4c81-9bd6-5e582700fbac",
   "metadata": {},
   "outputs": [],
   "source": [
    "#check if two tuples are identical"
   ]
  },
  {
   "cell_type": "code",
   "execution_count": 56,
   "id": "c474b83f-4ede-4483-9088-147de94229e0",
   "metadata": {},
   "outputs": [
    {
     "name": "stdout",
     "output_type": "stream",
     "text": [
      "The tuples are identical.\n"
     ]
    }
   ],
   "source": [
    "tuple1 = (1,2,3)\n",
    "tuple2 = (1,2,3)\n",
    "if tuple1 == tuple2:\n",
    "    print(\"The tuples are identical.\")\n",
    "else:\n",
    "    print(\"The tuples are not identical.\")"
   ]
  },
  {
   "cell_type": "code",
   "execution_count": null,
   "id": "051d5b61-d926-4c89-b6ed-d845eb65fd37",
   "metadata": {},
   "outputs": [],
   "source": []
  },
  {
   "cell_type": "code",
   "execution_count": null,
   "id": "8379c769-770d-4f97-a66d-83448f873372",
   "metadata": {},
   "outputs": [],
   "source": []
  },
  {
   "cell_type": "code",
   "execution_count": 57,
   "id": "303728c7-3f33-4b13-8127-7d09fa616d05",
   "metadata": {},
   "outputs": [],
   "source": [
    "#Question 27 "
   ]
  },
  {
   "cell_type": "code",
   "execution_count": 58,
   "id": "22c8b8bc-69b1-40bc-8a3f-5ff12bb72b59",
   "metadata": {},
   "outputs": [],
   "source": [
    "#sort the elements of a tuple"
   ]
  },
  {
   "cell_type": "code",
   "execution_count": 59,
   "id": "726c5f49-ccee-4c4f-8ee2-81fb634f01b8",
   "metadata": {},
   "outputs": [
    {
     "name": "stdout",
     "output_type": "stream",
     "text": [
      "[1, 2, 3, 4]\n"
     ]
    }
   ],
   "source": [
    "my_tuple = (3,1,4,2)\n",
    "sorted_list = sorted(my_tuple)\n",
    "print(sorted_list)"
   ]
  },
  {
   "cell_type": "code",
   "execution_count": null,
   "id": "4ce55df8-aee7-44ac-a767-390dd058735b",
   "metadata": {},
   "outputs": [],
   "source": []
  },
  {
   "cell_type": "code",
   "execution_count": null,
   "id": "c6d19789-eb0f-464f-b8e7-c8fff46e84b6",
   "metadata": {},
   "outputs": [],
   "source": []
  },
  {
   "cell_type": "code",
   "execution_count": 60,
   "id": "07799447-66ea-4760-b73a-359834ee9144",
   "metadata": {},
   "outputs": [],
   "source": [
    "#Question 28"
   ]
  },
  {
   "cell_type": "code",
   "execution_count": 61,
   "id": "03a271c2-3e10-486e-bb7c-40ee649b1f99",
   "metadata": {},
   "outputs": [],
   "source": [
    "# convert a tuple of integers to a tuple of strings"
   ]
  },
  {
   "cell_type": "code",
   "execution_count": 62,
   "id": "b0394a03-625c-4f13-9db9-2c2462a73ac2",
   "metadata": {},
   "outputs": [
    {
     "name": "stdout",
     "output_type": "stream",
     "text": [
      "('1', '2', '3', '4')\n"
     ]
    }
   ],
   "source": [
    "my_tuple = (1,2,3,4)\n",
    "my_string_tuple = tuple(str(x) for x in my_tuple)\n",
    "print(my_string_tuple)"
   ]
  },
  {
   "cell_type": "code",
   "execution_count": null,
   "id": "8b1dd410-bf08-4c38-8b2f-aef1f92fa675",
   "metadata": {},
   "outputs": [],
   "source": []
  },
  {
   "cell_type": "code",
   "execution_count": null,
   "id": "b16f9563-dde3-499c-8fcf-b1bad2115436",
   "metadata": {},
   "outputs": [],
   "source": []
  },
  {
   "cell_type": "code",
   "execution_count": 63,
   "id": "bc45823d-be64-4ecf-a97a-03f1eec13a81",
   "metadata": {},
   "outputs": [],
   "source": [
    "#Question 29 "
   ]
  },
  {
   "cell_type": "code",
   "execution_count": 64,
   "id": "dcbd17e3-a720-43af-864d-648feabd8045",
   "metadata": {},
   "outputs": [],
   "source": [
    "# convert a tuple of strings to atuple of integers"
   ]
  },
  {
   "cell_type": "code",
   "execution_count": 66,
   "id": "93034e2f-7e86-4f35-9b27-a9ef2273995a",
   "metadata": {},
   "outputs": [
    {
     "name": "stdout",
     "output_type": "stream",
     "text": [
      "(1, 2, 3, 4)\n"
     ]
    }
   ],
   "source": [
    "my_tuple =(\"1\",\"2\",\"3\",\"4\")\n",
    "my_int_tuple = tuple(int(x) for x in my_tuple)\n",
    "print(my_int_tuple)"
   ]
  },
  {
   "cell_type": "code",
   "execution_count": null,
   "id": "a3976086-da91-4aab-91f9-187098e9b207",
   "metadata": {},
   "outputs": [],
   "source": []
  },
  {
   "cell_type": "code",
   "execution_count": null,
   "id": "25bb9e24-0e07-424d-bca3-6a16dafc8128",
   "metadata": {},
   "outputs": [],
   "source": []
  },
  {
   "cell_type": "code",
   "execution_count": 67,
   "id": "f18be5e3-c028-49d3-b5bd-8fa000ee24c7",
   "metadata": {},
   "outputs": [],
   "source": [
    "#Question 30"
   ]
  },
  {
   "cell_type": "code",
   "execution_count": 68,
   "id": "67f95a99-d325-418e-b29d-d0c005efc21a",
   "metadata": {},
   "outputs": [],
   "source": [
    "#merge two tuples"
   ]
  },
  {
   "cell_type": "code",
   "execution_count": 69,
   "id": "3ddefefb-8513-4858-89fb-3eafd76674d5",
   "metadata": {},
   "outputs": [
    {
     "name": "stdout",
     "output_type": "stream",
     "text": [
      "(1, 2, 3, 4, 5, 6)\n"
     ]
    }
   ],
   "source": [
    "tuple1=(1,2,3)\n",
    "tuple2 = (4,5,6)\n",
    "merged_tuple = tuple1 +tuple2\n",
    "print(merged_tuple)"
   ]
  },
  {
   "cell_type": "code",
   "execution_count": null,
   "id": "12d92780-afba-4dfe-b54d-a45283aa3965",
   "metadata": {},
   "outputs": [],
   "source": []
  },
  {
   "cell_type": "code",
   "execution_count": null,
   "id": "aef9e994-a8bb-4a5e-9d10-919154bdd126",
   "metadata": {},
   "outputs": [],
   "source": []
  },
  {
   "cell_type": "code",
   "execution_count": 70,
   "id": "29fbd9fd-e7c2-41de-9252-0a400e744143",
   "metadata": {},
   "outputs": [],
   "source": [
    "#Question 31"
   ]
  },
  {
   "cell_type": "code",
   "execution_count": 71,
   "id": "9f2886d7-85da-4f8c-84f5-865b6b88de28",
   "metadata": {},
   "outputs": [],
   "source": [
    "# flatten a nested tuple"
   ]
  },
  {
   "cell_type": "code",
   "execution_count": 79,
   "id": "53309cf2-5b89-4036-9fd6-0620ca3e6513",
   "metadata": {},
   "outputs": [
    {
     "ename": "SyntaxError",
     "evalue": "invalid syntax (3253910478.py, line 3)",
     "output_type": "error",
     "traceback": [
      "\u001b[0;36m  Cell \u001b[0;32mIn[79], line 3\u001b[0;36m\u001b[0m\n\u001b[0;31m    if isinstance(nested_tuple,tuple) else\u001b[0m\n\u001b[0m                                      ^\u001b[0m\n\u001b[0;31mSyntaxError\u001b[0m\u001b[0;31m:\u001b[0m invalid syntax\n"
     ]
    }
   ],
   "source": [
    "def flatten_tuple(nested_tuple):\n",
    "    flattened_list =[item for sublist in nested_tuple for item in flatten_tuple(sublist)]\n",
    "if isinstance(nested_tuple,tuple) else\n",
    "\n",
    "[nested_tuple]\n",
    "   return tuple(flattened_list)\n",
    "nested_tuple = ((1,2),(3,(4,5)),6)\n",
    "flattened_tuple=flatten_tuple(nested_tuple)\n",
    "print(flattened_tuple)"
   ]
  },
  {
   "cell_type": "code",
   "execution_count": null,
   "id": "7ed99907-41e5-4509-bef9-99dd8634e364",
   "metadata": {},
   "outputs": [],
   "source": []
  },
  {
   "cell_type": "code",
   "execution_count": null,
   "id": "c0402c65-5689-4772-b039-aef686f263b3",
   "metadata": {},
   "outputs": [],
   "source": []
  },
  {
   "cell_type": "code",
   "execution_count": 85,
   "id": "524b3cf0-e9e8-4c35-8007-62808c3a0471",
   "metadata": {},
   "outputs": [],
   "source": [
    "#Question 32"
   ]
  },
  {
   "cell_type": "code",
   "execution_count": 86,
   "id": "e41c8891-d876-40d1-bcfc-b56aab89f6b6",
   "metadata": {},
   "outputs": [],
   "source": [
    "#create a tuple of the first 5 prime 5 prime numbers."
   ]
  },
  {
   "cell_type": "code",
   "execution_count": 87,
   "id": "196f0de0-42c3-4b8a-9376-1aa8517f5b4b",
   "metadata": {},
   "outputs": [
    {
     "name": "stdout",
     "output_type": "stream",
     "text": [
      "(2, 3, 5, 7, 11)\n"
     ]
    }
   ],
   "source": [
    "prime_numbers = (2,3,5,7,11)\n",
    "print(prime_numbers)"
   ]
  },
  {
   "cell_type": "code",
   "execution_count": null,
   "id": "e70b95bc-0975-4772-8df2-af0bc9320859",
   "metadata": {},
   "outputs": [],
   "source": []
  },
  {
   "cell_type": "code",
   "execution_count": null,
   "id": "c0cb3719-732d-4c1b-99a7-a90eccdfd547",
   "metadata": {},
   "outputs": [],
   "source": []
  },
  {
   "cell_type": "code",
   "execution_count": 88,
   "id": "08ffad19-c3e9-4494-9a1d-f364ad203a50",
   "metadata": {},
   "outputs": [],
   "source": [
    "#Question 33"
   ]
  },
  {
   "cell_type": "code",
   "execution_count": 89,
   "id": "9c36ce96-2ebb-42d3-8b68-e0c77a4a5846",
   "metadata": {},
   "outputs": [],
   "source": [
    "#check if a tuple is a pallindrome"
   ]
  },
  {
   "cell_type": "code",
   "execution_count": 91,
   "id": "7b4b7941-9dd4-4f75-8536-9d9f409c072d",
   "metadata": {},
   "outputs": [
    {
     "name": "stdout",
     "output_type": "stream",
     "text": [
      "The tuple is a palindrome.\n"
     ]
    }
   ],
   "source": [
    "def is_tuple_palindrome(my_tuple):\n",
    "    return my_tuple == my_tuple[::-1]\n",
    "my_tuple = (1,2,3,2,1)\n",
    "is_palindrome = is_tuple_palindrome(my_tuple)\n",
    "if is_palindrome:\n",
    "    print(\"The tuple is a palindrome.\")\n",
    "else:\n",
    "    print(\"The tuple is not a palindrome.\")"
   ]
  },
  {
   "cell_type": "code",
   "execution_count": null,
   "id": "f839ec89-4e4e-44a5-a0fc-c576caba5762",
   "metadata": {},
   "outputs": [],
   "source": []
  },
  {
   "cell_type": "code",
   "execution_count": null,
   "id": "f8b9fc0c-c494-4c90-b1ea-6bcc71a450a3",
   "metadata": {},
   "outputs": [],
   "source": []
  },
  {
   "cell_type": "code",
   "execution_count": 92,
   "id": "2eabae8b-2c3e-4d6d-850e-97607638070c",
   "metadata": {},
   "outputs": [],
   "source": [
    "#Question 34"
   ]
  },
  {
   "cell_type": "code",
   "execution_count": 93,
   "id": "7d3d7fe1-e9cf-4db7-b5ea-a9fc4acc7e7b",
   "metadata": {},
   "outputs": [],
   "source": [
    "#create a tuple of squares of numbers from 1 to 5"
   ]
  },
  {
   "cell_type": "code",
   "execution_count": 94,
   "id": "7d9520c1-9ab3-4494-a241-e0836f6b6f81",
   "metadata": {},
   "outputs": [
    {
     "name": "stdout",
     "output_type": "stream",
     "text": [
      "(1, 4, 9, 16, 25)\n"
     ]
    }
   ],
   "source": [
    "squares_tuple = (1**2,2**2,3**2,4**2,5**2)\n",
    "print(squares_tuple)"
   ]
  },
  {
   "cell_type": "code",
   "execution_count": null,
   "id": "a2adc1b4-ad28-46ee-8019-554527d8bb34",
   "metadata": {},
   "outputs": [],
   "source": []
  },
  {
   "cell_type": "code",
   "execution_count": null,
   "id": "4766a42a-7f0d-495b-af9a-a40c99483afc",
   "metadata": {},
   "outputs": [],
   "source": []
  },
  {
   "cell_type": "code",
   "execution_count": 95,
   "id": "394271a6-ec0f-4e5e-9801-3e7fcd03751e",
   "metadata": {},
   "outputs": [],
   "source": [
    "#Question 35 "
   ]
  },
  {
   "cell_type": "code",
   "execution_count": 96,
   "id": "6919d3c9-677d-43b1-8ed8-bb7a0b3b9c87",
   "metadata": {},
   "outputs": [],
   "source": [
    "#filter out all even numbers from a tuple"
   ]
  },
  {
   "cell_type": "code",
   "execution_count": 98,
   "id": "13517e58-901f-426d-9d2c-c8456b650e49",
   "metadata": {},
   "outputs": [
    {
     "name": "stdout",
     "output_type": "stream",
     "text": [
      "(1, 3, 5, 7, 9)\n"
     ]
    }
   ],
   "source": [
    "my_tuple = (1,2,3,4,5,6,7,8,9,10)\n",
    "filtered_tuple = tuple(num for num in my_tuple if num%2!=0)\n",
    "print(filtered_tuple)"
   ]
  },
  {
   "cell_type": "code",
   "execution_count": null,
   "id": "009caf43-b8f8-4672-935a-00addac055ea",
   "metadata": {},
   "outputs": [],
   "source": []
  },
  {
   "cell_type": "code",
   "execution_count": null,
   "id": "5b7a9615-a0ba-4d27-8942-5762f4c45124",
   "metadata": {},
   "outputs": [],
   "source": []
  },
  {
   "cell_type": "code",
   "execution_count": 99,
   "id": "8e598383-d0fa-47f7-8046-245767550c0f",
   "metadata": {},
   "outputs": [],
   "source": [
    "#Question 36"
   ]
  },
  {
   "cell_type": "code",
   "execution_count": 101,
   "id": "169c9a26-9e80-4fc8-880b-fd2b36335387",
   "metadata": {},
   "outputs": [],
   "source": [
    "#multiply all elements in a tuple by 2"
   ]
  },
  {
   "cell_type": "code",
   "execution_count": 102,
   "id": "987c988a-d72e-4f90-a091-ca9e0a421873",
   "metadata": {},
   "outputs": [
    {
     "name": "stdout",
     "output_type": "stream",
     "text": [
      "(2, 4, 6, 8, 10)\n"
     ]
    }
   ],
   "source": [
    "my_tuple = (1,2,3,4,5)\n",
    "multiplied_tuple = tuple(num*2 for num in my_tuple)\n",
    "print(multiplied_tuple)"
   ]
  },
  {
   "cell_type": "code",
   "execution_count": null,
   "id": "70e4e5a2-3333-4357-b5be-f6de10ee5e61",
   "metadata": {},
   "outputs": [],
   "source": []
  },
  {
   "cell_type": "code",
   "execution_count": null,
   "id": "b1725abf-0ca5-4c7b-b910-c909c3aa403c",
   "metadata": {},
   "outputs": [],
   "source": []
  },
  {
   "cell_type": "code",
   "execution_count": 103,
   "id": "4d1abfab-e038-435d-ac41-87a333779714",
   "metadata": {},
   "outputs": [],
   "source": [
    "#Question 37"
   ]
  },
  {
   "cell_type": "code",
   "execution_count": 105,
   "id": "2b9a09b2-c3bb-4145-89ea-6f1ab30aff14",
   "metadata": {},
   "outputs": [],
   "source": [
    "#create a tuple of random numbers"
   ]
  },
  {
   "cell_type": "code",
   "execution_count": 106,
   "id": "7d750a11-991a-41cb-9e48-6b6b6a22df14",
   "metadata": {},
   "outputs": [
    {
     "name": "stdout",
     "output_type": "stream",
     "text": [
      "(60, 56, 28, 70, 21)\n"
     ]
    }
   ],
   "source": [
    "import random\n",
    "random_tuple = tuple(random.randint(1,100)\n",
    "for _ in range(5))\n",
    "print(random_tuple)"
   ]
  },
  {
   "cell_type": "code",
   "execution_count": 107,
   "id": "fe8ecd5a-a607-4d1f-9a8b-7145dcfbf789",
   "metadata": {},
   "outputs": [],
   "source": [
    "#Question 38"
   ]
  },
  {
   "cell_type": "code",
   "execution_count": 108,
   "id": "df7cc3e7-1910-4d36-a768-69f209f7dc28",
   "metadata": {},
   "outputs": [],
   "source": [
    "#check if a tuple is sorted"
   ]
  },
  {
   "cell_type": "code",
   "execution_count": 109,
   "id": "2faf2303-c951-47e1-aec8-65ed82322ef0",
   "metadata": {},
   "outputs": [
    {
     "name": "stdout",
     "output_type": "stream",
     "text": [
      "The tuple is sorted.\n"
     ]
    }
   ],
   "source": [
    "my_tuple = (1,2,3,4,5)\n",
    "sorted_tuple = tuple(sorted(my_tuple))\n",
    "if my_tuple == sorted_tuple:\n",
    "    print(\"The tuple is sorted.\")\n",
    "else:\n",
    "    print(\"The tuple is not sorted.\")\n",
    "    "
   ]
  },
  {
   "cell_type": "code",
   "execution_count": null,
   "id": "298cc33f-9280-4b7b-bb0e-3b80c9036d4b",
   "metadata": {},
   "outputs": [],
   "source": []
  },
  {
   "cell_type": "code",
   "execution_count": null,
   "id": "58f60532-f00f-4461-8cde-dfede73a3c14",
   "metadata": {},
   "outputs": [],
   "source": []
  },
  {
   "cell_type": "code",
   "execution_count": 110,
   "id": "f727e6c1-683d-4bbd-a0a4-a7f8b4a705ca",
   "metadata": {},
   "outputs": [],
   "source": [
    "#Question 39"
   ]
  },
  {
   "cell_type": "code",
   "execution_count": 111,
   "id": "314b3986-7059-4a99-8e72-de5c76d0a050",
   "metadata": {},
   "outputs": [],
   "source": [
    "# rotate a tuple to the left by 'n' position"
   ]
  },
  {
   "cell_type": "code",
   "execution_count": 112,
   "id": "462c966f-0f26-4611-801a-9ff6d31280dd",
   "metadata": {},
   "outputs": [
    {
     "name": "stdout",
     "output_type": "stream",
     "text": [
      "(3, 4, 5, 1, 2)\n"
     ]
    }
   ],
   "source": [
    "my_tuple = (1,2,3,4,5)\n",
    "n=2\n",
    "rotated_tuple = my_tuple[n:] + my_tuple[:n]\n",
    "print(rotated_tuple)"
   ]
  },
  {
   "cell_type": "code",
   "execution_count": null,
   "id": "b249a8fa-7b6b-4c7f-903f-c0c240063f51",
   "metadata": {},
   "outputs": [],
   "source": []
  },
  {
   "cell_type": "code",
   "execution_count": null,
   "id": "8784e28d-32cc-4eac-9e88-978f184ca546",
   "metadata": {},
   "outputs": [],
   "source": []
  },
  {
   "cell_type": "code",
   "execution_count": 113,
   "id": "0fc58de6-b8ab-4d15-97a1-febc901fe6d8",
   "metadata": {},
   "outputs": [],
   "source": [
    "#Question 40"
   ]
  },
  {
   "cell_type": "code",
   "execution_count": 114,
   "id": "cea19cd6-25e9-4d9a-a8eb-ff6bb61d879d",
   "metadata": {},
   "outputs": [],
   "source": [
    "#rotate a tuple to the right by 'n' position"
   ]
  },
  {
   "cell_type": "code",
   "execution_count": 115,
   "id": "a18dafc9-076b-45c9-b5db-27db773def4a",
   "metadata": {},
   "outputs": [
    {
     "name": "stdout",
     "output_type": "stream",
     "text": [
      "(4, 5, 1, 2, 3)\n"
     ]
    }
   ],
   "source": [
    "my_tuple =(1,2,3,4,5)\n",
    "n=2\n",
    "rotated_tuple = my_tuple[-n:] + my_tuple[:-n]\n",
    "print(rotated_tuple)"
   ]
  },
  {
   "cell_type": "code",
   "execution_count": null,
   "id": "0cc503bd-f132-422f-a270-e451d46d7b87",
   "metadata": {},
   "outputs": [],
   "source": []
  },
  {
   "cell_type": "code",
   "execution_count": null,
   "id": "a4f72b2c-48c1-491c-9322-5e4cd1688d95",
   "metadata": {},
   "outputs": [],
   "source": []
  },
  {
   "cell_type": "code",
   "execution_count": 116,
   "id": "856beb5c-9424-49a5-b2cd-81eb7835d668",
   "metadata": {},
   "outputs": [],
   "source": [
    "#Question 41"
   ]
  },
  {
   "cell_type": "code",
   "execution_count": 117,
   "id": "864f185b-de90-416d-83ba-b1627f02d82e",
   "metadata": {},
   "outputs": [],
   "source": [
    "# create a tuple of the first 5 fibonacci numbers"
   ]
  },
  {
   "cell_type": "code",
   "execution_count": 118,
   "id": "649b0858-947b-4663-ba73-288298685492",
   "metadata": {},
   "outputs": [
    {
     "name": "stdout",
     "output_type": "stream",
     "text": [
      "(0,)\n",
      "(0, 1)\n",
      "(0, 1, 1)\n",
      "(0, 1, 1, 2)\n",
      "(0, 1, 1, 2, 3)\n"
     ]
    }
   ],
   "source": [
    "fibonacci_tuple = ()\n",
    "a,b = 0,1\n",
    "\n",
    "for _ in range(5):\n",
    "    fibonacci_tuple +=(a,)\n",
    "    a,b =b,a+b\n",
    "    \n",
    "    print(fibonacci_tuple)"
   ]
  },
  {
   "cell_type": "code",
   "execution_count": null,
   "id": "a2537cdb-b946-46d6-ae80-09b5b52cef63",
   "metadata": {},
   "outputs": [],
   "source": []
  },
  {
   "cell_type": "code",
   "execution_count": null,
   "id": "8504161d-b568-4a71-b954-5783feecd94f",
   "metadata": {},
   "outputs": [],
   "source": []
  },
  {
   "cell_type": "code",
   "execution_count": 119,
   "id": "06f41482-2f7a-45cb-9a95-53dc8d46e995",
   "metadata": {},
   "outputs": [],
   "source": [
    "#Question 42"
   ]
  },
  {
   "cell_type": "code",
   "execution_count": 120,
   "id": "49e1ac30-5aee-4593-a47b-a888023e8881",
   "metadata": {},
   "outputs": [],
   "source": [
    "#create a tuple from user input "
   ]
  },
  {
   "cell_type": "code",
   "execution_count": 122,
   "id": "48b8e030-d4f6-424a-9ca5-b67020a9932c",
   "metadata": {},
   "outputs": [
    {
     "name": "stdin",
     "output_type": "stream",
     "text": [
      "Enter elements separated by spaces: 12 33 56 7 87 54 22 42 11 223 \n"
     ]
    },
    {
     "name": "stdout",
     "output_type": "stream",
     "text": [
      "('12', '33', '56', '7', '87', '54', '22', '42', '11', '223')\n"
     ]
    }
   ],
   "source": [
    "user_input = input(\"Enter elements separated by spaces:\")\n",
    "user_list = user_input.split()\n",
    "user_tuple = tuple(user_list)\n",
    "print(user_tuple)"
   ]
  },
  {
   "cell_type": "code",
   "execution_count": null,
   "id": "f46c6b30-9fc2-4244-8e13-d3dbd4c05a43",
   "metadata": {},
   "outputs": [],
   "source": []
  },
  {
   "cell_type": "code",
   "execution_count": null,
   "id": "4832c034-db67-44a1-b1dc-604ffe4550b3",
   "metadata": {},
   "outputs": [],
   "source": []
  },
  {
   "cell_type": "code",
   "execution_count": 123,
   "id": "cde02764-1ef9-46fa-95ab-837e725d1ea5",
   "metadata": {},
   "outputs": [],
   "source": [
    "#Question 43"
   ]
  },
  {
   "cell_type": "code",
   "execution_count": 124,
   "id": "13f5883b-a8e9-4010-9aea-9448de4fda78",
   "metadata": {},
   "outputs": [],
   "source": [
    "# swap two elements in a tuple"
   ]
  },
  {
   "cell_type": "code",
   "execution_count": 125,
   "id": "099b64d1-9d18-4ff7-b8af-2e785a9789f5",
   "metadata": {},
   "outputs": [
    {
     "name": "stdout",
     "output_type": "stream",
     "text": [
      "(1, 4, 3, 2, 5)\n"
     ]
    }
   ],
   "source": [
    "my_tuple = (1,2,3,4,5)\n",
    "index1 = 1 \n",
    "index2 = 3\n",
    "my_list = list(my_tuple)\n",
    "my_list[index1],my_list[index2]=my_list[index2],my_list[index1]\n",
    "swapped_tuple = tuple(my_list)\n",
    "print(swapped_tuple)"
   ]
  },
  {
   "cell_type": "code",
   "execution_count": null,
   "id": "3ef8c252-a2e8-4aa7-967d-8ecfb59446fd",
   "metadata": {},
   "outputs": [],
   "source": []
  },
  {
   "cell_type": "code",
   "execution_count": null,
   "id": "a32b1df6-c1e4-4bfb-85c4-e64f7df6778e",
   "metadata": {},
   "outputs": [],
   "source": []
  },
  {
   "cell_type": "code",
   "execution_count": 126,
   "id": "cf9f836b-2b87-4706-81b6-cff9f6bd033a",
   "metadata": {},
   "outputs": [],
   "source": [
    "#Question 44"
   ]
  },
  {
   "cell_type": "code",
   "execution_count": 127,
   "id": "99fd034f-5428-46f3-a258-41967ea39ff5",
   "metadata": {},
   "outputs": [],
   "source": [
    "# reverse the elements of a tuple"
   ]
  },
  {
   "cell_type": "code",
   "execution_count": 128,
   "id": "3022994a-a1f4-4fc5-837f-d23367c0beee",
   "metadata": {},
   "outputs": [
    {
     "name": "stdout",
     "output_type": "stream",
     "text": [
      "(5, 4, 3, 2, 1)\n"
     ]
    }
   ],
   "source": [
    "my_tuple = (1,2,3,4,5)\n",
    "reversed_tuple = my_tuple[::-1]\n",
    "print(reversed_tuple)"
   ]
  },
  {
   "cell_type": "code",
   "execution_count": null,
   "id": "827899f7-27b7-4604-bcf1-83957b970df4",
   "metadata": {},
   "outputs": [],
   "source": []
  },
  {
   "cell_type": "code",
   "execution_count": null,
   "id": "65c88a48-d001-4189-a29a-e754196510fa",
   "metadata": {},
   "outputs": [],
   "source": []
  },
  {
   "cell_type": "code",
   "execution_count": 129,
   "id": "7805a998-288a-482e-a1f5-1735a3540015",
   "metadata": {},
   "outputs": [],
   "source": [
    "#Question 45"
   ]
  },
  {
   "cell_type": "code",
   "execution_count": 130,
   "id": "23f72c70-fb32-4c72-b730-54d0314719ae",
   "metadata": {},
   "outputs": [],
   "source": [
    "# create a tuple of the first 'n' power of 2"
   ]
  },
  {
   "cell_type": "code",
   "execution_count": 131,
   "id": "3309169d-01c8-4f84-a6b1-4dd35b7e5034",
   "metadata": {},
   "outputs": [
    {
     "name": "stdout",
     "output_type": "stream",
     "text": [
      "(1, 2, 4, 8, 16)\n"
     ]
    }
   ],
   "source": [
    "n=5 \n",
    "powers_of_2 = tuple([2**i for i in range(n)])\n",
    "print(powers_of_2)"
   ]
  },
  {
   "cell_type": "code",
   "execution_count": null,
   "id": "5dbb8c1f-ba0d-482d-89c8-99d2b11c49a0",
   "metadata": {},
   "outputs": [],
   "source": []
  },
  {
   "cell_type": "code",
   "execution_count": null,
   "id": "f53b6969-2c44-4576-a08a-42ace10e006c",
   "metadata": {},
   "outputs": [],
   "source": []
  },
  {
   "cell_type": "code",
   "execution_count": 132,
   "id": "2b3d0476-a298-4701-b6b3-9a7a67d55653",
   "metadata": {},
   "outputs": [],
   "source": [
    "#Question 46"
   ]
  },
  {
   "cell_type": "code",
   "execution_count": 133,
   "id": "f28d34a4-0a19-484b-b198-5deb6cb8066a",
   "metadata": {},
   "outputs": [],
   "source": [
    "#find  the longest string in atuple of string"
   ]
  },
  {
   "cell_type": "code",
   "execution_count": 134,
   "id": "60984179-2f8e-4d6f-b6c0-5a6eff76c99f",
   "metadata": {},
   "outputs": [
    {
     "name": "stdout",
     "output_type": "stream",
     "text": [
      "draganfruit\n"
     ]
    }
   ],
   "source": [
    "my_tuple = (\"apple\",\"banana\",\"cherry\",\"draganfruit\")\n",
    "longest_string = max(my_tuple,key=len)\n",
    "print(longest_string)"
   ]
  },
  {
   "cell_type": "code",
   "execution_count": 135,
   "id": "2c79fbe8-4df8-476b-8ab0-5c770a50ccb1",
   "metadata": {},
   "outputs": [],
   "source": [
    "#Question 47"
   ]
  },
  {
   "cell_type": "code",
   "execution_count": 136,
   "id": "5d9827a4-239d-414e-895e-b705217f1d0b",
   "metadata": {},
   "outputs": [],
   "source": [
    "# find the shortest string in a tuple of string"
   ]
  },
  {
   "cell_type": "code",
   "execution_count": 138,
   "id": "90b857ae-5dbf-4195-ae33-ba3851bbadb3",
   "metadata": {},
   "outputs": [
    {
     "name": "stdout",
     "output_type": "stream",
     "text": [
      "apple\n"
     ]
    }
   ],
   "source": [
    "my_tuple = (\"apple\",\"banana\",\"cherry\",\"draganfruit\")\n",
    "shortest_string = min(my_tuple,key=len)\n",
    "print(shortest_string)"
   ]
  },
  {
   "cell_type": "code",
   "execution_count": null,
   "id": "e4f255d2-b362-414c-b86c-7ef929bfc1a5",
   "metadata": {},
   "outputs": [],
   "source": []
  },
  {
   "cell_type": "code",
   "execution_count": null,
   "id": "996f265f-68a4-4563-b453-d7ba68e4f603",
   "metadata": {},
   "outputs": [],
   "source": []
  },
  {
   "cell_type": "code",
   "execution_count": 139,
   "id": "83dae3e0-efbf-4516-994d-54b410f73ec4",
   "metadata": {},
   "outputs": [],
   "source": [
    "#Question 48"
   ]
  },
  {
   "cell_type": "code",
   "execution_count": 140,
   "id": "38a78997-2030-4579-aaf8-d7341fecb02e",
   "metadata": {},
   "outputs": [],
   "source": [
    "#create a  tuple of the first 'n' triangular numbers"
   ]
  },
  {
   "cell_type": "code",
   "execution_count": 141,
   "id": "08ffc4d8-181d-4029-b396-e8461030a80d",
   "metadata": {},
   "outputs": [
    {
     "name": "stdout",
     "output_type": "stream",
     "text": [
      "(1, 3, 6, 10, 15)\n"
     ]
    }
   ],
   "source": [
    "n=5\n",
    "triangular_numbers = tuple([(i *(i+1))//2 for i in range(1, n+1)])\n",
    "print(triangular_numbers)"
   ]
  },
  {
   "cell_type": "code",
   "execution_count": null,
   "id": "bc87b94e-825d-4915-b751-0c5cabda5fd2",
   "metadata": {},
   "outputs": [],
   "source": []
  },
  {
   "cell_type": "code",
   "execution_count": null,
   "id": "9f7cbc8e-d7c1-415d-87fb-d4273d852d66",
   "metadata": {},
   "outputs": [],
   "source": []
  },
  {
   "cell_type": "code",
   "execution_count": 142,
   "id": "aeb97f55-5247-4c0f-a548-e278b0588ea8",
   "metadata": {},
   "outputs": [],
   "source": [
    "#Question 49"
   ]
  },
  {
   "cell_type": "code",
   "execution_count": 143,
   "id": "bd96a1d2-b09c-4544-9e5e-fc3f5ce2a9bd",
   "metadata": {},
   "outputs": [],
   "source": [
    "#check if a tuple contains another tuple as a subsequence"
   ]
  },
  {
   "cell_type": "code",
   "execution_count": 144,
   "id": "c4dcdc26-b92d-44f2-9669-05da3f094120",
   "metadata": {},
   "outputs": [
    {
     "name": "stdout",
     "output_type": "stream",
     "text": [
      "tuple2 is not a subsequence of tuple1\n"
     ]
    }
   ],
   "source": [
    "tuple1 = (1,2,3,4,5)\n",
    "tuple2 =(3,4)\n",
    "if tuple2 in tuple1:\n",
    "    print(\"tuple2 is a subsequence of tuple1\")\n",
    "else:\n",
    "    print(\"tuple2 is not a subsequence of tuple1\")\n",
    "    "
   ]
  },
  {
   "cell_type": "code",
   "execution_count": null,
   "id": "49357ab5-7f4d-41e9-9821-53e89fdd38d6",
   "metadata": {},
   "outputs": [],
   "source": []
  },
  {
   "cell_type": "code",
   "execution_count": null,
   "id": "200e0ea4-645f-4f7f-b723-55b6eb6106b9",
   "metadata": {},
   "outputs": [],
   "source": []
  },
  {
   "cell_type": "code",
   "execution_count": 145,
   "id": "e78f3e1f-f5a8-4998-a670-9aad0abdf52a",
   "metadata": {},
   "outputs": [],
   "source": [
    "#Question 50"
   ]
  },
  {
   "cell_type": "code",
   "execution_count": 146,
   "id": "63ce7ddc-9095-488b-8ea1-51ecda1136a0",
   "metadata": {},
   "outputs": [],
   "source": [
    "#create a tuple of alternating 1s and 0s of length 'n'."
   ]
  },
  {
   "cell_type": "code",
   "execution_count": 147,
   "id": "8d2a5dbc-e8d4-47e2-80c5-96c6887e1ed6",
   "metadata": {},
   "outputs": [
    {
     "name": "stdout",
     "output_type": "stream",
     "text": [
      "(0, 1, 0, 1, 0, 1)\n"
     ]
    }
   ],
   "source": [
    "n=6\n",
    "alternating_tuple = tuple([i%2 for i in range(n)])\n",
    "print(alternating_tuple)"
   ]
  },
  {
   "cell_type": "code",
   "execution_count": null,
   "id": "71167fa3-a0d8-41fc-a926-7b5881a2f621",
   "metadata": {},
   "outputs": [],
   "source": []
  },
  {
   "cell_type": "code",
   "execution_count": null,
   "id": "01058841-93aa-4780-9424-8f4f70ffbc90",
   "metadata": {},
   "outputs": [],
   "source": []
  },
  {
   "cell_type": "code",
   "execution_count": 1,
   "id": "2b76a25c-7ed8-4a8f-b298-fc708b0ca01f",
   "metadata": {},
   "outputs": [],
   "source": [
    "#SET BASED PRACTICE PROBLEM:"
   ]
  },
  {
   "cell_type": "code",
   "execution_count": 2,
   "id": "2d2724ae-2186-4e46-8395-dca72e963bc8",
   "metadata": {},
   "outputs": [],
   "source": [
    "#Question 1"
   ]
  },
  {
   "cell_type": "code",
   "execution_count": 3,
   "id": "c533c4ad-c48c-423e-b249-d99a4767b2aa",
   "metadata": {},
   "outputs": [],
   "source": [
    "# create a set with integers from 1 to 5"
   ]
  },
  {
   "cell_type": "code",
   "execution_count": 4,
   "id": "797c43dd-fa08-4c38-b650-7e6902fd525f",
   "metadata": {},
   "outputs": [
    {
     "name": "stdout",
     "output_type": "stream",
     "text": [
      "{1, 2, 3, 4, 5}\n"
     ]
    }
   ],
   "source": [
    "my_set =set(range(1,6))\n",
    "print(my_set)"
   ]
  },
  {
   "cell_type": "code",
   "execution_count": null,
   "id": "dbce8c12-70eb-4b58-a82d-a1b61a7265a5",
   "metadata": {},
   "outputs": [],
   "source": []
  },
  {
   "cell_type": "code",
   "execution_count": null,
   "id": "8db398c1-bf0b-4813-aa4f-937c7bab5689",
   "metadata": {},
   "outputs": [],
   "source": []
  },
  {
   "cell_type": "code",
   "execution_count": 5,
   "id": "f9fae32a-a02c-4f72-99d6-6cfef3ac2497",
   "metadata": {},
   "outputs": [],
   "source": [
    "#Question 2"
   ]
  },
  {
   "cell_type": "code",
   "execution_count": 6,
   "id": "10e3320e-5cc7-4e33-afa1-32fde2448d28",
   "metadata": {},
   "outputs": [],
   "source": [
    "#Add an element to a set"
   ]
  },
  {
   "cell_type": "code",
   "execution_count": 7,
   "id": "0558b511-206c-471f-8e12-e01f3fbf37c0",
   "metadata": {},
   "outputs": [
    {
     "name": "stdout",
     "output_type": "stream",
     "text": [
      "{1, 2, 3, 4, 5, 6}\n"
     ]
    }
   ],
   "source": [
    "my_set = {1,2,3,4,5}\n",
    "my_set.add(6)\n",
    "print(my_set)"
   ]
  },
  {
   "cell_type": "code",
   "execution_count": null,
   "id": "395fd166-0171-4563-bff7-bd763080c3c8",
   "metadata": {},
   "outputs": [],
   "source": []
  },
  {
   "cell_type": "code",
   "execution_count": null,
   "id": "16e32b3b-424d-4ced-8b11-e4906bfb0186",
   "metadata": {},
   "outputs": [],
   "source": []
  },
  {
   "cell_type": "code",
   "execution_count": 8,
   "id": "38482f67-36ab-4865-954f-7363ab377e82",
   "metadata": {},
   "outputs": [],
   "source": [
    "#Question 3"
   ]
  },
  {
   "cell_type": "code",
   "execution_count": 9,
   "id": "d2a147de-460f-4ec4-9e75-a1c6b7e293d7",
   "metadata": {},
   "outputs": [],
   "source": [
    "#Remove an element from a set"
   ]
  },
  {
   "cell_type": "code",
   "execution_count": 10,
   "id": "18fccf94-562c-4208-96ef-5c2d0f018fc6",
   "metadata": {},
   "outputs": [
    {
     "name": "stdout",
     "output_type": "stream",
     "text": [
      "{1, 2, 4, 5}\n"
     ]
    }
   ],
   "source": [
    "my_set = {1,2,3,4,5}\n",
    "my_set.remove(3)\n",
    "print(my_set)"
   ]
  },
  {
   "cell_type": "code",
   "execution_count": null,
   "id": "8d12d6ed-f384-4fdc-8eb2-723a64a21f82",
   "metadata": {},
   "outputs": [],
   "source": []
  },
  {
   "cell_type": "code",
   "execution_count": 11,
   "id": "043ad404-e7da-4eb3-89a6-a86aa201bc66",
   "metadata": {},
   "outputs": [],
   "source": [
    "#Question 4"
   ]
  },
  {
   "cell_type": "code",
   "execution_count": 12,
   "id": "526ea054-97b3-42b5-bb13-fac889fdd365",
   "metadata": {},
   "outputs": [],
   "source": [
    "#check if an element exists in a set"
   ]
  },
  {
   "cell_type": "code",
   "execution_count": 14,
   "id": "cb2520c2-9a63-4457-80d3-0bdce32cd7e1",
   "metadata": {},
   "outputs": [
    {
     "name": "stdout",
     "output_type": "stream",
     "text": [
      "The element 3 exists in the set.\n"
     ]
    }
   ],
   "source": [
    "my_set = {1,2,3,4,5}\n",
    "element = 3\n",
    "if element in my_set:\n",
    "    print(\"The element\", element, \"exists in the set.\")\n",
    "else:\n",
    "    print(\"The element\", element, \"does not exist in the set.\")"
   ]
  },
  {
   "cell_type": "code",
   "execution_count": null,
   "id": "f1c6bd0e-7ff1-4a38-8f8f-afd30e3082d8",
   "metadata": {},
   "outputs": [],
   "source": []
  },
  {
   "cell_type": "code",
   "execution_count": null,
   "id": "e6faaec1-e4e1-4545-9744-97e01e3bf6d2",
   "metadata": {},
   "outputs": [],
   "source": []
  },
  {
   "cell_type": "code",
   "execution_count": 15,
   "id": "5ec142ac-22e7-4fa8-bbec-252ec219038f",
   "metadata": {},
   "outputs": [],
   "source": [
    "#Question 5"
   ]
  },
  {
   "cell_type": "code",
   "execution_count": 16,
   "id": "9c521d33-c404-4b45-8993-dc972d768309",
   "metadata": {},
   "outputs": [],
   "source": [
    "#find the length of a set without using the 'len()' function"
   ]
  },
  {
   "cell_type": "code",
   "execution_count": 17,
   "id": "afba82a2-08be-4776-aa09-4d2408fb0ac5",
   "metadata": {},
   "outputs": [
    {
     "name": "stdout",
     "output_type": "stream",
     "text": [
      "The length of the set is: 5\n"
     ]
    }
   ],
   "source": [
    "my_set = {1,2,3,4,5}\n",
    "length = sum(1 for _ in my_set)\n",
    "print(\"The length of the set is:\", length)"
   ]
  },
  {
   "cell_type": "code",
   "execution_count": null,
   "id": "7f67fe62-0fc8-40de-a640-e25041bafebf",
   "metadata": {},
   "outputs": [],
   "source": []
  },
  {
   "cell_type": "code",
   "execution_count": null,
   "id": "7676c698-f95e-4ff9-a285-e51a56822998",
   "metadata": {},
   "outputs": [],
   "source": []
  },
  {
   "cell_type": "code",
   "execution_count": 18,
   "id": "ab03b940-6f83-45bc-a58c-fd50002ecdb0",
   "metadata": {},
   "outputs": [],
   "source": [
    "#Question 6"
   ]
  },
  {
   "cell_type": "code",
   "execution_count": 19,
   "id": "a9ed1a92-fb2d-4b5e-9627-478ec21be965",
   "metadata": {},
   "outputs": [],
   "source": [
    "#clear all elements from a set"
   ]
  },
  {
   "cell_type": "code",
   "execution_count": 20,
   "id": "f966c3cc-c757-4fa6-aa71-f1fcf10256ed",
   "metadata": {},
   "outputs": [
    {
     "name": "stdout",
     "output_type": "stream",
     "text": [
      "set()\n"
     ]
    }
   ],
   "source": [
    "my_set = {1,2,3,4,5}\n",
    "my_set.clear()\n",
    "print(my_set)"
   ]
  },
  {
   "cell_type": "code",
   "execution_count": null,
   "id": "5e0403a3-4c79-4d06-8f82-2ed3f8b68d78",
   "metadata": {},
   "outputs": [],
   "source": []
  },
  {
   "cell_type": "code",
   "execution_count": null,
   "id": "7b5c0c36-0109-4945-bbc1-59ff46272373",
   "metadata": {},
   "outputs": [],
   "source": []
  },
  {
   "cell_type": "code",
   "execution_count": 21,
   "id": "63bc1738-fb11-471a-8cc0-56da9d045355",
   "metadata": {},
   "outputs": [],
   "source": [
    "#Question 7"
   ]
  },
  {
   "cell_type": "code",
   "execution_count": 22,
   "id": "7cf39bd9-15d0-4aac-a911-899f889cf66a",
   "metadata": {},
   "outputs": [],
   "source": [
    "# create a set of even numbers from 1 to 10"
   ]
  },
  {
   "cell_type": "code",
   "execution_count": 23,
   "id": "39a79003-f9df-4573-9578-d6992b11b878",
   "metadata": {},
   "outputs": [
    {
     "name": "stdout",
     "output_type": "stream",
     "text": [
      "{2, 4, 6, 8, 10}\n"
     ]
    }
   ],
   "source": [
    "even_numbers = {num for num in range(1,11)\n",
    "if num % 2==0}\n",
    "print(even_numbers)"
   ]
  },
  {
   "cell_type": "code",
   "execution_count": null,
   "id": "ab0f66cb-999a-4ced-85e3-124de30c5b4c",
   "metadata": {},
   "outputs": [],
   "source": []
  },
  {
   "cell_type": "code",
   "execution_count": null,
   "id": "74300c4f-92b0-40f4-98b8-4d34d98d6832",
   "metadata": {},
   "outputs": [],
   "source": []
  },
  {
   "cell_type": "code",
   "execution_count": 24,
   "id": "a5f896d0-6a31-4d94-a726-3d3270a66264",
   "metadata": {},
   "outputs": [],
   "source": [
    "#Question 8"
   ]
  },
  {
   "cell_type": "code",
   "execution_count": 25,
   "id": "9a23b13e-12cb-4085-b25e-bc11b4037e31",
   "metadata": {},
   "outputs": [],
   "source": [
    "#create a set of odd numbers from 1 to 10"
   ]
  },
  {
   "cell_type": "code",
   "execution_count": 26,
   "id": "9436a256-e9f0-421b-92c5-7793cae77a68",
   "metadata": {},
   "outputs": [
    {
     "name": "stdout",
     "output_type": "stream",
     "text": [
      "{1, 3, 5, 7, 9}\n"
     ]
    }
   ],
   "source": [
    "odd_numbers = {num for num in range(1,11)\n",
    "if num%2!=0}\n",
    "print(odd_numbers)"
   ]
  },
  {
   "cell_type": "code",
   "execution_count": null,
   "id": "7e2ab739-7c0a-4242-b9e4-4e1d9efdaec7",
   "metadata": {},
   "outputs": [],
   "source": []
  },
  {
   "cell_type": "code",
   "execution_count": null,
   "id": "98fe6be4-18d6-449c-8a15-16dc1f08c0f8",
   "metadata": {},
   "outputs": [],
   "source": []
  },
  {
   "cell_type": "code",
   "execution_count": 27,
   "id": "b44f7d08-df55-4065-8bf3-e0f4c0f83859",
   "metadata": {},
   "outputs": [],
   "source": [
    "#Question 9"
   ]
  },
  {
   "cell_type": "code",
   "execution_count": 28,
   "id": "b7896b35-4da3-44f4-96d6-397ea2953217",
   "metadata": {},
   "outputs": [],
   "source": [
    "#find the union of two sets"
   ]
  },
  {
   "cell_type": "code",
   "execution_count": 29,
   "id": "b99fd563-7f64-477a-8ca5-7157fa249aa6",
   "metadata": {},
   "outputs": [
    {
     "name": "stdout",
     "output_type": "stream",
     "text": [
      "{1, 2, 3, 4, 5}\n"
     ]
    }
   ],
   "source": [
    "set1 = {1,2,3}\n",
    "set2 = {3,4,5}\n",
    "union_set = set1.union(set2)\n",
    "print(union_set)"
   ]
  },
  {
   "cell_type": "code",
   "execution_count": null,
   "id": "8f10f7f3-38bb-4018-b5ea-2a25c39b2269",
   "metadata": {},
   "outputs": [],
   "source": []
  },
  {
   "cell_type": "code",
   "execution_count": null,
   "id": "be49e64a-e745-4573-a9ff-cdfd1f192347",
   "metadata": {},
   "outputs": [],
   "source": []
  },
  {
   "cell_type": "code",
   "execution_count": 30,
   "id": "06de05fc-d696-4255-a7ee-3ebb6832e601",
   "metadata": {},
   "outputs": [],
   "source": [
    "#Question 10"
   ]
  },
  {
   "cell_type": "code",
   "execution_count": 31,
   "id": "2afc2a11-be67-4cc0-8205-06b36aa7e030",
   "metadata": {},
   "outputs": [],
   "source": [
    "# find the intersection of two sets"
   ]
  },
  {
   "cell_type": "code",
   "execution_count": 32,
   "id": "22e86ba8-0469-4d47-93c3-1097af4beca8",
   "metadata": {},
   "outputs": [
    {
     "name": "stdout",
     "output_type": "stream",
     "text": [
      "{3}\n"
     ]
    }
   ],
   "source": [
    "set1 = {1,2,3}\n",
    "set2 = {3,4,5}\n",
    "intersection_set = set1.intersection(set2)\n",
    "print(intersection_set)"
   ]
  },
  {
   "cell_type": "code",
   "execution_count": null,
   "id": "ae800de7-d376-48ef-859a-d29e6bca38a7",
   "metadata": {},
   "outputs": [],
   "source": []
  },
  {
   "cell_type": "code",
   "execution_count": null,
   "id": "19f5d1e1-10f2-4a2a-876a-30e156858c85",
   "metadata": {},
   "outputs": [],
   "source": []
  },
  {
   "cell_type": "code",
   "execution_count": 33,
   "id": "2ab161ae-1e58-41c9-9494-f7184c3054ac",
   "metadata": {},
   "outputs": [],
   "source": [
    "#Question 11"
   ]
  },
  {
   "cell_type": "code",
   "execution_count": 34,
   "id": "be360161-7ba1-4ba3-a078-5aef54ffb3d5",
   "metadata": {},
   "outputs": [],
   "source": [
    "#find the difference between two sets"
   ]
  },
  {
   "cell_type": "code",
   "execution_count": 35,
   "id": "63810be6-a228-4d46-995d-0e2036c0eb73",
   "metadata": {},
   "outputs": [
    {
     "name": "stdout",
     "output_type": "stream",
     "text": [
      "{1, 2}\n"
     ]
    }
   ],
   "source": [
    "set1 = {1,2,3}\n",
    "set2 = {3,4,5}\n",
    "difference_set = set1.difference(set2)\n",
    "print(difference_set)"
   ]
  },
  {
   "cell_type": "code",
   "execution_count": null,
   "id": "68f3fa80-f1a0-447c-a527-2fd6ba1f0779",
   "metadata": {},
   "outputs": [],
   "source": []
  },
  {
   "cell_type": "code",
   "execution_count": null,
   "id": "513d60eb-e22d-4ebf-bf22-60d7f71ca0ca",
   "metadata": {},
   "outputs": [],
   "source": []
  },
  {
   "cell_type": "code",
   "execution_count": 36,
   "id": "cbeb3e13-b731-47d7-8a91-69b84ce73ed1",
   "metadata": {},
   "outputs": [],
   "source": [
    "#Question 12"
   ]
  },
  {
   "cell_type": "code",
   "execution_count": 37,
   "id": "8c3f7546-8101-4bb2-a4a8-0b41ac654daa",
   "metadata": {},
   "outputs": [],
   "source": [
    "#check if a set is a subset of another set "
   ]
  },
  {
   "cell_type": "code",
   "execution_count": 38,
   "id": "019e3556-dcaa-4851-9d33-9143f98905d8",
   "metadata": {},
   "outputs": [
    {
     "name": "stdout",
     "output_type": "stream",
     "text": [
      "set2 is a subset of set1\n"
     ]
    }
   ],
   "source": [
    "set1 = {1,2,3,4}\n",
    "set2 = {2,3}\n",
    "if set2.issubset(set1):\n",
    "    print(\"set2 is a subset of set1\")\n",
    "else:\n",
    "    print(\"set2 is not a subset of set1\")"
   ]
  },
  {
   "cell_type": "code",
   "execution_count": null,
   "id": "034ae0d0-5832-4e63-80d8-5f3786686867",
   "metadata": {},
   "outputs": [],
   "source": []
  },
  {
   "cell_type": "code",
   "execution_count": null,
   "id": "18da46f1-303f-4d57-9788-9062d1416668",
   "metadata": {},
   "outputs": [],
   "source": []
  },
  {
   "cell_type": "code",
   "execution_count": 39,
   "id": "40543380-7ca8-44ae-968d-79bc982d8b55",
   "metadata": {},
   "outputs": [],
   "source": [
    "#Question 13"
   ]
  },
  {
   "cell_type": "code",
   "execution_count": 40,
   "id": "e4d93a8a-8e2d-4c6e-8c1e-62f6ee793410",
   "metadata": {},
   "outputs": [],
   "source": [
    "#check if a set is a superset of another set"
   ]
  },
  {
   "cell_type": "code",
   "execution_count": 43,
   "id": "01c18b5f-908a-4331-a3c7-307715259f3a",
   "metadata": {},
   "outputs": [
    {
     "name": "stdout",
     "output_type": "stream",
     "text": [
      "set1 is a superset of set2\n"
     ]
    }
   ],
   "source": [
    "set1 ={1,2,3,4}\n",
    "set2 ={2,3}\n",
    "if set1.issuperset(set2):\n",
    "    print(\"set1 is a superset of set2\")\n",
    "else:\n",
    "    print(\"set1 is not a superset of set2\")\n",
    "          \n",
    "    "
   ]
  },
  {
   "cell_type": "code",
   "execution_count": null,
   "id": "381b72a2-9039-4ca7-be4c-4077d2cd9439",
   "metadata": {},
   "outputs": [],
   "source": []
  },
  {
   "cell_type": "code",
   "execution_count": null,
   "id": "de96b383-3e5c-4f3b-8f35-02febd9ca89d",
   "metadata": {},
   "outputs": [],
   "source": []
  },
  {
   "cell_type": "code",
   "execution_count": 44,
   "id": "bd401d08-51d0-492b-ad71-49af637eb2a1",
   "metadata": {},
   "outputs": [],
   "source": [
    "#Question 14"
   ]
  },
  {
   "cell_type": "code",
   "execution_count": 45,
   "id": "68b3f463-4f4f-43e2-97ff-4d47ba8d785a",
   "metadata": {},
   "outputs": [],
   "source": [
    "#create a set from a list"
   ]
  },
  {
   "cell_type": "code",
   "execution_count": 46,
   "id": "2fd76f64-7e6b-4d3d-b47e-f7eac8c792b5",
   "metadata": {},
   "outputs": [
    {
     "name": "stdout",
     "output_type": "stream",
     "text": [
      "set()\n"
     ]
    }
   ],
   "source": [
    "my_list = [1,2,3,4,5]\n",
    "my_st = set(my_list)\n",
    "print(my_set)"
   ]
  },
  {
   "cell_type": "code",
   "execution_count": null,
   "id": "d8fdcc92-bd84-4980-95df-324820e5ae10",
   "metadata": {},
   "outputs": [],
   "source": []
  },
  {
   "cell_type": "code",
   "execution_count": null,
   "id": "65ec9133-fb95-4a06-9769-9b8eab2307ee",
   "metadata": {},
   "outputs": [],
   "source": []
  },
  {
   "cell_type": "code",
   "execution_count": 47,
   "id": "d7287419-8e24-47f4-9084-42a33d7743f1",
   "metadata": {},
   "outputs": [],
   "source": [
    "#Question 15"
   ]
  },
  {
   "cell_type": "code",
   "execution_count": 48,
   "id": "a3714cc9-47ea-4ee3-a3e6-ee7211f8b610",
   "metadata": {},
   "outputs": [],
   "source": [
    "#convert a set to a list "
   ]
  },
  {
   "cell_type": "code",
   "execution_count": 49,
   "id": "fe967676-8bbe-4d80-96c7-f66a18ccfdea",
   "metadata": {},
   "outputs": [
    {
     "name": "stdout",
     "output_type": "stream",
     "text": [
      "[1, 2, 3, 4, 5]\n"
     ]
    }
   ],
   "source": [
    "my_set = {1,2,3,4,5}\n",
    "my_list = list(my_set)\n",
    "print(my_list)"
   ]
  },
  {
   "cell_type": "code",
   "execution_count": null,
   "id": "5468020d-2dea-4d82-a2db-34727a3edbaf",
   "metadata": {},
   "outputs": [],
   "source": []
  },
  {
   "cell_type": "code",
   "execution_count": null,
   "id": "e12c07c3-9166-436e-a833-cf87b34e27b8",
   "metadata": {},
   "outputs": [],
   "source": []
  },
  {
   "cell_type": "code",
   "execution_count": 50,
   "id": "e97ff6f5-4d7b-4a33-8113-251d281a4f59",
   "metadata": {},
   "outputs": [],
   "source": [
    "#question 16"
   ]
  },
  {
   "cell_type": "code",
   "execution_count": 51,
   "id": "5b073d5b-c33e-4c12-b493-608dc011592a",
   "metadata": {},
   "outputs": [],
   "source": [
    "#remove a random element from a set"
   ]
  },
  {
   "cell_type": "code",
   "execution_count": 52,
   "id": "9f953ef8-ead4-4c7f-81e5-4f18af214737",
   "metadata": {},
   "outputs": [
    {
     "name": "stdout",
     "output_type": "stream",
     "text": [
      "updated set: {2, 3, 4, 5}\n"
     ]
    }
   ],
   "source": [
    "my_set = {1,2,3,4,5}\n",
    "removed_element = my_set.pop()\n",
    "print(\"updated set:\", my_set)"
   ]
  },
  {
   "cell_type": "code",
   "execution_count": null,
   "id": "4df1295d-8edf-4669-b732-77ab515dfe93",
   "metadata": {},
   "outputs": [],
   "source": []
  },
  {
   "cell_type": "code",
   "execution_count": null,
   "id": "b828738f-cd67-4b39-bb44-4671f603689c",
   "metadata": {},
   "outputs": [],
   "source": []
  },
  {
   "cell_type": "code",
   "execution_count": 53,
   "id": "4218565f-b650-4604-8940-1788704143b9",
   "metadata": {},
   "outputs": [],
   "source": [
    "#Question 17"
   ]
  },
  {
   "cell_type": "code",
   "execution_count": 54,
   "id": "f4b6b5e6-b5c5-4b0d-8b2a-2f82165ddb1b",
   "metadata": {},
   "outputs": [],
   "source": [
    "#pop an element from a set"
   ]
  },
  {
   "cell_type": "code",
   "execution_count": 55,
   "id": "f8e3a1db-f461-48fc-9789-c9f64db7e27c",
   "metadata": {},
   "outputs": [
    {
     "name": "stdout",
     "output_type": "stream",
     "text": [
      "Popped element: 1\n",
      "Updated set: {2, 3, 4, 5}\n"
     ]
    }
   ],
   "source": [
    "my_set = {1,2,3,4,5}\n",
    "popped_element = my_set.pop()\n",
    "print(\"Popped element:\", popped_element)\n",
    "print(\"Updated set:\", my_set)"
   ]
  },
  {
   "cell_type": "code",
   "execution_count": null,
   "id": "a165090d-cd94-4083-9518-933ceb19ad95",
   "metadata": {},
   "outputs": [],
   "source": []
  },
  {
   "cell_type": "code",
   "execution_count": null,
   "id": "5e7e5c5a-6709-478c-9ecd-8cfca162c611",
   "metadata": {},
   "outputs": [],
   "source": []
  },
  {
   "cell_type": "code",
   "execution_count": 56,
   "id": "dfc9b59d-b671-4882-95a0-7ee9cdf122d2",
   "metadata": {},
   "outputs": [],
   "source": [
    "#Question 18"
   ]
  },
  {
   "cell_type": "code",
   "execution_count": 57,
   "id": "1c5c5d5c-d369-41fb-9638-dbdb4708c1fc",
   "metadata": {},
   "outputs": [],
   "source": [
    "# check if two sets have no elements in common"
   ]
  },
  {
   "cell_type": "code",
   "execution_count": 58,
   "id": "f825ed8f-7c11-4921-b1bc-36582ee19e57",
   "metadata": {},
   "outputs": [
    {
     "name": "stdout",
     "output_type": "stream",
     "text": [
      "The set have no elements in common.\n"
     ]
    }
   ],
   "source": [
    "set1 = {1,2,3}\n",
    "set2 = {4,5,6}\n",
    "if set1.isdisjoint(set2):\n",
    "    print(\"The set have no elements in common.\")\n",
    "else:\n",
    "    print(\"The sets have common elements.\")\n",
    "    "
   ]
  },
  {
   "cell_type": "code",
   "execution_count": null,
   "id": "25b3230d-f6e9-48f1-b29f-32cec7fae3c8",
   "metadata": {},
   "outputs": [],
   "source": []
  },
  {
   "cell_type": "code",
   "execution_count": null,
   "id": "192ecc68-4779-4d87-b396-e60fdd8dde7c",
   "metadata": {},
   "outputs": [],
   "source": []
  },
  {
   "cell_type": "code",
   "execution_count": 1,
   "id": "933fed6d-14d3-4cbc-98ae-a81611600d07",
   "metadata": {},
   "outputs": [],
   "source": [
    "#Question 19"
   ]
  },
  {
   "cell_type": "code",
   "execution_count": 2,
   "id": "e89e0acb-f90a-4b2f-a0f3-8fa377d9081e",
   "metadata": {},
   "outputs": [],
   "source": [
    "#find the symmetric difference between two sets"
   ]
  },
  {
   "cell_type": "code",
   "execution_count": 5,
   "id": "8efe2a31-8891-46c4-8739-e89e3154ff5c",
   "metadata": {},
   "outputs": [
    {
     "name": "stdout",
     "output_type": "stream",
     "text": [
      "symmetric difference: {1, 2, 5, 6}\n"
     ]
    }
   ],
   "source": [
    "set1 = {1,2,3,4}\n",
    "set2 = {3,4,5,6}\n",
    "symmetric_diff=set1.symmetric_difference(set2)\n",
    "print(\"symmetric difference:\", symmetric_diff)"
   ]
  },
  {
   "cell_type": "code",
   "execution_count": null,
   "id": "3c1106d9-50a3-4ee6-8155-e230cf9ddb34",
   "metadata": {},
   "outputs": [],
   "source": []
  },
  {
   "cell_type": "code",
   "execution_count": null,
   "id": "abf27a46-f329-444a-a6de-dfab43fee7b8",
   "metadata": {},
   "outputs": [],
   "source": []
  },
  {
   "cell_type": "code",
   "execution_count": 6,
   "id": "28f4eeaa-bf50-43b0-920d-86b89aea0849",
   "metadata": {},
   "outputs": [],
   "source": [
    "#Question 20"
   ]
  },
  {
   "cell_type": "code",
   "execution_count": 7,
   "id": "44d38b02-cde2-4dc8-8a5e-1c47fdf91d3a",
   "metadata": {},
   "outputs": [],
   "source": [
    "# update a set with elements from another set"
   ]
  },
  {
   "cell_type": "code",
   "execution_count": 8,
   "id": "3bb1ee7c-52f0-4077-827c-485f4f2ec8ce",
   "metadata": {},
   "outputs": [
    {
     "name": "stdout",
     "output_type": "stream",
     "text": [
      "updated set: {1, 2, 3, 4, 5}\n"
     ]
    }
   ],
   "source": [
    "set1 = {1,2,3}\n",
    "set2 = {3,4,5}\n",
    "set1.update(set2)\n",
    "print(\"updated set:\",set1)"
   ]
  },
  {
   "cell_type": "code",
   "execution_count": null,
   "id": "eb0dc5f2-0a8b-4c4c-bc2c-35a570f7d753",
   "metadata": {},
   "outputs": [],
   "source": []
  },
  {
   "cell_type": "code",
   "execution_count": null,
   "id": "ce0ccfaf-2cc8-4d55-b7de-eed5370db8cc",
   "metadata": {},
   "outputs": [],
   "source": []
  },
  {
   "cell_type": "code",
   "execution_count": 9,
   "id": "e0d068ed-17c3-43e3-a847-936867f1641c",
   "metadata": {},
   "outputs": [],
   "source": [
    "#Question 21"
   ]
  },
  {
   "cell_type": "code",
   "execution_count": 10,
   "id": "7003670e-a8dd-4717-a73f-e6c8b208da5b",
   "metadata": {},
   "outputs": [],
   "source": [
    "#create a set of the first 5 prime numbers."
   ]
  },
  {
   "cell_type": "code",
   "execution_count": 11,
   "id": "3f027226-2e69-43e5-b130-c48fe24e9e55",
   "metadata": {},
   "outputs": [
    {
     "name": "stdout",
     "output_type": "stream",
     "text": [
      "set of the first 5 prime numbers: {2, 3, 5, 7, 11}\n"
     ]
    }
   ],
   "source": [
    "prime_numbers = {2,3,5,7,11}\n",
    "print(\"set of the first 5 prime numbers:\",prime_numbers)\n"
   ]
  },
  {
   "cell_type": "code",
   "execution_count": null,
   "id": "55bc6006-9ca7-4858-b7e5-092540d84588",
   "metadata": {},
   "outputs": [],
   "source": []
  },
  {
   "cell_type": "code",
   "execution_count": null,
   "id": "2a103d1f-8482-43cb-ac29-ef3a5b3f9bad",
   "metadata": {},
   "outputs": [],
   "source": []
  },
  {
   "cell_type": "code",
   "execution_count": 12,
   "id": "df16b62b-18fa-4e48-a9f6-7abdc110d501",
   "metadata": {},
   "outputs": [],
   "source": [
    "#Question 22"
   ]
  },
  {
   "cell_type": "code",
   "execution_count": 13,
   "id": "74bd1272-3348-435c-8dea-ced64548c581",
   "metadata": {},
   "outputs": [],
   "source": [
    "#check if two sets are identical"
   ]
  },
  {
   "cell_type": "code",
   "execution_count": 15,
   "id": "6b71f145-c7fe-4abc-8664-a183ec1ed852",
   "metadata": {},
   "outputs": [
    {
     "name": "stdout",
     "output_type": "stream",
     "text": [
      "The sets are identical\n"
     ]
    }
   ],
   "source": [
    "set1 = {1,2,3}\n",
    "set2 = {3,2,1}\n",
    "if set1 == set2:\n",
    "    print(\"The sets are identical\")\n",
    "else:\n",
    "    print(\"The sets are not identical\")\n",
    "          \n",
    "    "
   ]
  },
  {
   "cell_type": "code",
   "execution_count": null,
   "id": "f7426760-2ccf-48c0-958e-4c9f0844d9f1",
   "metadata": {},
   "outputs": [],
   "source": []
  },
  {
   "cell_type": "code",
   "execution_count": null,
   "id": "66e4a642-0a3e-4ed0-95ec-cfb2120726f3",
   "metadata": {},
   "outputs": [],
   "source": []
  },
  {
   "cell_type": "code",
   "execution_count": 16,
   "id": "fcca3a27-0a16-44c4-ba1d-4cb1542d47ba",
   "metadata": {},
   "outputs": [],
   "source": [
    "#Question 23"
   ]
  },
  {
   "cell_type": "code",
   "execution_count": 17,
   "id": "d8ddfcb2-bceb-49fb-a3ab-621f08458b09",
   "metadata": {},
   "outputs": [],
   "source": [
    "# create a frozen set"
   ]
  },
  {
   "cell_type": "code",
   "execution_count": 18,
   "id": "4872d798-5ba9-438c-96f5-0acea0a0d36a",
   "metadata": {},
   "outputs": [
    {
     "name": "stdout",
     "output_type": "stream",
     "text": [
      "Frozen set: frozenset({1, 2, 3, 4})\n"
     ]
    }
   ],
   "source": [
    "my_set = {1,2,3,4}\n",
    "frozen_set = frozenset(my_set)\n",
    "print(\"Frozen set:\", frozen_set)"
   ]
  },
  {
   "cell_type": "code",
   "execution_count": null,
   "id": "90d3617d-3ac4-427c-916f-f470a092f027",
   "metadata": {},
   "outputs": [],
   "source": []
  },
  {
   "cell_type": "code",
   "execution_count": null,
   "id": "d8aa77d9-449f-4771-b141-5ce2ddee242c",
   "metadata": {},
   "outputs": [],
   "source": []
  },
  {
   "cell_type": "code",
   "execution_count": 19,
   "id": "e12d4b3e-b5b6-4893-9768-b301e204a112",
   "metadata": {},
   "outputs": [],
   "source": [
    "#Question 24"
   ]
  },
  {
   "cell_type": "code",
   "execution_count": 20,
   "id": "ded342f9-4527-421b-9121-218b2b7e7b33",
   "metadata": {},
   "outputs": [],
   "source": [
    "#check if a set is disjoint with another set"
   ]
  },
  {
   "cell_type": "code",
   "execution_count": 21,
   "id": "79ad5645-d3f0-4dad-9bf9-4cdcf88a6b43",
   "metadata": {},
   "outputs": [
    {
     "name": "stdout",
     "output_type": "stream",
     "text": [
      "The sets are disjoint\n"
     ]
    }
   ],
   "source": [
    "set1 = {1,2,3}\n",
    "set2 = {4,5,6}\n",
    "if set1.isdisjoint(set2):\n",
    "    print(\"The sets are disjoint\")\n",
    "else:\n",
    "    print(\"The sets are not disjoint\")\n",
    "    "
   ]
  },
  {
   "cell_type": "code",
   "execution_count": null,
   "id": "92c37f2f-9554-4f55-9126-8c688cfe4f05",
   "metadata": {},
   "outputs": [],
   "source": []
  },
  {
   "cell_type": "code",
   "execution_count": null,
   "id": "f53b478c-75be-4ddf-9842-03b9ac9653eb",
   "metadata": {},
   "outputs": [],
   "source": []
  },
  {
   "cell_type": "code",
   "execution_count": 22,
   "id": "7ca98cb1-e855-4471-ad5c-1152fe23cf4e",
   "metadata": {},
   "outputs": [],
   "source": [
    "#Question 25"
   ]
  },
  {
   "cell_type": "code",
   "execution_count": 23,
   "id": "27e6fe91-b10a-4d0e-a863-92cdd4bca984",
   "metadata": {},
   "outputs": [],
   "source": [
    "#create a set of squares of numbers from 1 to 5"
   ]
  },
  {
   "cell_type": "code",
   "execution_count": 24,
   "id": "4fca0028-aea9-4335-91f3-168859c67b2e",
   "metadata": {},
   "outputs": [
    {
     "name": "stdout",
     "output_type": "stream",
     "text": [
      "set of squares: {1, 4, 9, 16, 25}\n"
     ]
    }
   ],
   "source": [
    "squares = {x**2 for x in range(1,6)}\n",
    "print(\"set of squares:\",squares)"
   ]
  },
  {
   "cell_type": "code",
   "execution_count": null,
   "id": "2580a605-6b6c-4ca3-9ac1-ae80840b8b48",
   "metadata": {},
   "outputs": [],
   "source": []
  },
  {
   "cell_type": "code",
   "execution_count": null,
   "id": "8ce10bea-9d46-4660-ab69-769ff6c13fd8",
   "metadata": {},
   "outputs": [],
   "source": []
  },
  {
   "cell_type": "code",
   "execution_count": 25,
   "id": "670167f9-00d9-42fe-ba13-6b3f8a4d9f23",
   "metadata": {},
   "outputs": [],
   "source": [
    "#question 26"
   ]
  },
  {
   "cell_type": "code",
   "execution_count": 26,
   "id": "7f4e327e-ea80-483d-aea3-478773cf7c22",
   "metadata": {},
   "outputs": [],
   "source": [
    "#filter out all even numbers from a set"
   ]
  },
  {
   "cell_type": "code",
   "execution_count": 28,
   "id": "8c6422c8-bf40-4493-87d2-55ae86fe863a",
   "metadata": {},
   "outputs": [
    {
     "name": "stdout",
     "output_type": "stream",
     "text": [
      "Filtered set: {1, 3, 5}\n"
     ]
    }
   ],
   "source": [
    "my_set = {1,2,3,4,5,6}\n",
    "filtered_set = {x for x in my_set if x%2!=0}\n",
    "print(\"Filtered set:\", filtered_set)"
   ]
  },
  {
   "cell_type": "code",
   "execution_count": null,
   "id": "db3c2df0-24fd-4d7c-93a8-59bfaef7a58f",
   "metadata": {},
   "outputs": [],
   "source": []
  },
  {
   "cell_type": "code",
   "execution_count": null,
   "id": "be482704-ede2-4b32-ab0c-7890720c95fc",
   "metadata": {},
   "outputs": [],
   "source": []
  },
  {
   "cell_type": "code",
   "execution_count": 29,
   "id": "8c1d3f74-8682-487e-a074-27a98a654426",
   "metadata": {},
   "outputs": [],
   "source": [
    "#Question 27"
   ]
  },
  {
   "cell_type": "code",
   "execution_count": 30,
   "id": "8e93e199-d1f9-461c-98a9-f4d31ac3d4e0",
   "metadata": {},
   "outputs": [],
   "source": [
    "#multiply all elements in a swet by 2"
   ]
  },
  {
   "cell_type": "code",
   "execution_count": 32,
   "id": "52ba1091-e276-48aa-acff-ec9cbd81e5fb",
   "metadata": {},
   "outputs": [
    {
     "name": "stdout",
     "output_type": "stream",
     "text": [
      "multiplied set: {2, 4, 6, 8, 10}\n"
     ]
    }
   ],
   "source": [
    "my_set = {1,2,3,4,5}\n",
    "multiplied_set = {x*2 for x in my_set}\n",
    "print(\"multiplied set:\", multiplied_set)"
   ]
  },
  {
   "cell_type": "code",
   "execution_count": null,
   "id": "14ca8647-ec82-4e7d-8df2-d61ff5d078fe",
   "metadata": {},
   "outputs": [],
   "source": []
  },
  {
   "cell_type": "code",
   "execution_count": null,
   "id": "0e2e87ee-60ce-41d4-ab98-6a8d6365d371",
   "metadata": {},
   "outputs": [],
   "source": []
  },
  {
   "cell_type": "code",
   "execution_count": 33,
   "id": "b904b19b-38e6-42bd-87f0-70690147ceaf",
   "metadata": {},
   "outputs": [],
   "source": [
    "#Question 28"
   ]
  },
  {
   "cell_type": "code",
   "execution_count": 35,
   "id": "f103c0ac-29d0-43ca-a3b7-4cc509b115ef",
   "metadata": {},
   "outputs": [],
   "source": [
    "# create a set of random numbers"
   ]
  },
  {
   "cell_type": "code",
   "execution_count": 36,
   "id": "9e3c1d54-7ca5-4b68-a723-d4b36447b2d1",
   "metadata": {},
   "outputs": [
    {
     "name": "stdout",
     "output_type": "stream",
     "text": [
      "Random set: {9, 10, 4, 5}\n"
     ]
    }
   ],
   "source": [
    "import random\n",
    "random_set = {random.randint(1,10)for _ in range(5)}\n",
    "print(\"Random set:\", random_set)"
   ]
  },
  {
   "cell_type": "code",
   "execution_count": null,
   "id": "185636e8-f851-4bc5-bc80-2023bdb55b75",
   "metadata": {},
   "outputs": [],
   "source": []
  },
  {
   "cell_type": "code",
   "execution_count": null,
   "id": "3bec8bc8-3bbb-4e96-8b88-e89aa4ec72f4",
   "metadata": {},
   "outputs": [],
   "source": []
  },
  {
   "cell_type": "code",
   "execution_count": 37,
   "id": "79eb815d-bba1-4d62-b33a-7e5eaf414cce",
   "metadata": {},
   "outputs": [],
   "source": [
    "#Question 29"
   ]
  },
  {
   "cell_type": "code",
   "execution_count": 38,
   "id": "60174733-d570-4e12-be81-a599e428318b",
   "metadata": {},
   "outputs": [],
   "source": [
    "# check if a set is empty"
   ]
  },
  {
   "cell_type": "code",
   "execution_count": 39,
   "id": "3284ad0c-1434-4fd2-bcb1-068c07a22b3e",
   "metadata": {},
   "outputs": [
    {
     "name": "stdout",
     "output_type": "stream",
     "text": [
      "The set is empty!\n"
     ]
    }
   ],
   "source": [
    "my_set = set()\n",
    "if len(my_set)==0:\n",
    "    print(\"The set is empty!\")\n",
    "else:\n",
    "    print(\"The set is not empty.\")"
   ]
  },
  {
   "cell_type": "code",
   "execution_count": null,
   "id": "947c9e3f-e69f-4c8c-a0fd-c4f9246407a3",
   "metadata": {},
   "outputs": [],
   "source": []
  },
  {
   "cell_type": "code",
   "execution_count": null,
   "id": "9733d6ec-f008-4c68-a907-74a4c307eb3e",
   "metadata": {},
   "outputs": [],
   "source": []
  },
  {
   "cell_type": "code",
   "execution_count": 40,
   "id": "518ffb56-e280-4b77-bb5a-8fbbe5f8675c",
   "metadata": {},
   "outputs": [],
   "source": [
    "#Question 30"
   ]
  },
  {
   "cell_type": "code",
   "execution_count": 41,
   "id": "02055c90-fafa-4e5a-be6b-8525d39be205",
   "metadata": {},
   "outputs": [],
   "source": [
    "#create a nested set "
   ]
  },
  {
   "cell_type": "code",
   "execution_count": 43,
   "id": "0564ef4d-a0c6-4c0f-9b0c-8f72a8da0443",
   "metadata": {},
   "outputs": [
    {
     "name": "stdout",
     "output_type": "stream",
     "text": [
      "Nested set: {frozenset({3, 4, 5}), frozenset({1, 2})}\n"
     ]
    }
   ],
   "source": [
    "nested_set = {frozenset({1,2}),frozenset({3,4,5})}\n",
    "print(\"Nested set:\", nested_set)"
   ]
  },
  {
   "cell_type": "code",
   "execution_count": null,
   "id": "ccaabc96-e40b-417c-bf4a-468067c657de",
   "metadata": {},
   "outputs": [],
   "source": []
  },
  {
   "cell_type": "code",
   "execution_count": null,
   "id": "7474039f-b939-48ae-9ca7-e2f43b5abc0d",
   "metadata": {},
   "outputs": [],
   "source": []
  },
  {
   "cell_type": "code",
   "execution_count": 44,
   "id": "c4ebca8c-5182-41a2-8160-1ec4f491276a",
   "metadata": {},
   "outputs": [],
   "source": [
    "#Question 31"
   ]
  },
  {
   "cell_type": "code",
   "execution_count": 45,
   "id": "00a13e67-49a4-4c07-8959-c09cb9c3b1eb",
   "metadata": {},
   "outputs": [],
   "source": [
    "# Remove an element from a set using the discard method"
   ]
  },
  {
   "cell_type": "code",
   "execution_count": 46,
   "id": "c0ec1716-9608-4727-b804-bbf4d4465cb5",
   "metadata": {},
   "outputs": [
    {
     "name": "stdout",
     "output_type": "stream",
     "text": [
      "Set after removing element: {1, 2, 4, 5}\n"
     ]
    }
   ],
   "source": [
    "my_set = {1,2,3,4,5}\n",
    "my_set.discard(3)\n",
    "print(\"Set after removing element:\", my_set)"
   ]
  },
  {
   "cell_type": "code",
   "execution_count": null,
   "id": "30545ab3-7551-4080-90bb-ce5e94af4e71",
   "metadata": {},
   "outputs": [],
   "source": []
  },
  {
   "cell_type": "code",
   "execution_count": null,
   "id": "14b8328c-3eea-41a7-9f4d-cdb8a0a5b306",
   "metadata": {},
   "outputs": [],
   "source": []
  },
  {
   "cell_type": "code",
   "execution_count": 47,
   "id": "c4437a32-42c0-466b-b988-8ed80b3fd918",
   "metadata": {},
   "outputs": [],
   "source": [
    "#Quetion 32"
   ]
  },
  {
   "cell_type": "code",
   "execution_count": 48,
   "id": "eb26a18d-4686-413f-995d-e0e07031a6cc",
   "metadata": {},
   "outputs": [],
   "source": [
    "#compare two sets"
   ]
  },
  {
   "cell_type": "code",
   "execution_count": 50,
   "id": "6e060169-feeb-4490-9ce2-43a95393fbb1",
   "metadata": {},
   "outputs": [
    {
     "name": "stdout",
     "output_type": "stream",
     "text": [
      "The sets have some common elements.\n"
     ]
    }
   ],
   "source": [
    "set1 = {1,2,3}\n",
    "set2 = {3,4,5}\n",
    "if set1.isdisjoint(set2):\n",
    "    print(\"The sets have no common elements!\")\n",
    "else:\n",
    "    print(\"The sets have some common elements.\")"
   ]
  },
  {
   "cell_type": "code",
   "execution_count": null,
   "id": "ad8a72e3-9c52-4ee2-a954-f1c838e8a75a",
   "metadata": {},
   "outputs": [],
   "source": []
  },
  {
   "cell_type": "code",
   "execution_count": null,
   "id": "7a542918-c7df-4db4-9037-9a16f4cba8a5",
   "metadata": {},
   "outputs": [],
   "source": []
  },
  {
   "cell_type": "code",
   "execution_count": 51,
   "id": "17ab21ac-86ec-4cbf-b0ad-9e29ac4d7059",
   "metadata": {},
   "outputs": [],
   "source": [
    "#Question 33"
   ]
  },
  {
   "cell_type": "code",
   "execution_count": 52,
   "id": "05a6ffef-360c-47e7-ba24-305d50d71cec",
   "metadata": {},
   "outputs": [],
   "source": [
    "#create a set from a string"
   ]
  },
  {
   "cell_type": "code",
   "execution_count": 55,
   "id": "c7af898e-dc6a-4e62-8944-3c18e4add063",
   "metadata": {},
   "outputs": [
    {
     "name": "stdout",
     "output_type": "stream",
     "text": [
      "Set from string: {'o', 'w', '!', 'e', ' ', 'r', ',', 'H', 'l', 'd'}\n"
     ]
    }
   ],
   "source": [
    "my_string = \"Hello, world!\"\n",
    "my_set = set(my_string)\n",
    "print(\"Set from string:\", my_set)"
   ]
  },
  {
   "cell_type": "code",
   "execution_count": null,
   "id": "5bef9989-b2d9-49ac-b2b6-610791334696",
   "metadata": {},
   "outputs": [],
   "source": []
  },
  {
   "cell_type": "code",
   "execution_count": null,
   "id": "63a839a6-ab65-4e9e-bddb-6cf935997baf",
   "metadata": {},
   "outputs": [],
   "source": []
  },
  {
   "cell_type": "code",
   "execution_count": 56,
   "id": "34093589-ff79-43e5-94c4-985997352d28",
   "metadata": {},
   "outputs": [],
   "source": [
    "#Question 34"
   ]
  },
  {
   "cell_type": "code",
   "execution_count": 57,
   "id": "ed55ec73-35aa-4ed6-bfcb-40530d7a86da",
   "metadata": {},
   "outputs": [],
   "source": [
    "#convert a set of strings to a set of integers"
   ]
  },
  {
   "cell_type": "code",
   "execution_count": 58,
   "id": "58b40ace-3f35-4e29-8364-66240e8609ec",
   "metadata": {},
   "outputs": [
    {
     "name": "stdout",
     "output_type": "stream",
     "text": [
      "set of integers: {1, 2, 3, 4, 5}\n"
     ]
    }
   ],
   "source": [
    "my_set = {\"1\",\"2\",\"3\",\"4\",\"5\"}\n",
    "my_set_of_integers = set(map(int,my_set))\n",
    "print(\"set of integers:\", my_set_of_integers)"
   ]
  },
  {
   "cell_type": "code",
   "execution_count": null,
   "id": "6c5ef92c-118b-4c94-80ff-cac0cf097121",
   "metadata": {},
   "outputs": [],
   "source": []
  },
  {
   "cell_type": "code",
   "execution_count": null,
   "id": "0a5668eb-9ea8-4653-80a0-93312e5fa8a1",
   "metadata": {},
   "outputs": [],
   "source": []
  },
  {
   "cell_type": "code",
   "execution_count": 59,
   "id": "745cb6d8-13de-4e56-a2aa-b6d72bf7a4c5",
   "metadata": {},
   "outputs": [],
   "source": [
    "#Question 35"
   ]
  },
  {
   "cell_type": "code",
   "execution_count": 60,
   "id": "3b8c7090-bbb4-4084-8093-7b04d0249fa4",
   "metadata": {},
   "outputs": [],
   "source": [
    "#convert a set of integers to a set of string"
   ]
  },
  {
   "cell_type": "code",
   "execution_count": 61,
   "id": "1e30c546-7fdc-4bcd-ae77-2dcd2427de7f",
   "metadata": {},
   "outputs": [
    {
     "name": "stdout",
     "output_type": "stream",
     "text": [
      "Set of strings: {'4', '1', '2', '5', '3'}\n"
     ]
    }
   ],
   "source": [
    "my_set = {1,2,3,4,5}\n",
    "my_set_of_strings = set(map(str,my_set))\n",
    "print(\"Set of strings:\",my_set_of_strings)"
   ]
  },
  {
   "cell_type": "code",
   "execution_count": null,
   "id": "f793c419-d04a-4e9c-879e-1d152057dcbf",
   "metadata": {},
   "outputs": [],
   "source": []
  },
  {
   "cell_type": "code",
   "execution_count": null,
   "id": "0207f6eb-f300-4d0d-ba1d-28f6ab8c51bc",
   "metadata": {},
   "outputs": [],
   "source": []
  },
  {
   "cell_type": "code",
   "execution_count": 62,
   "id": "622f35bc-4e35-4a8e-9b30-a8aa3484392f",
   "metadata": {},
   "outputs": [],
   "source": [
    "#Question 36"
   ]
  },
  {
   "cell_type": "code",
   "execution_count": 63,
   "id": "abc19275-d3ed-47fe-ac81-c3a387db184e",
   "metadata": {},
   "outputs": [],
   "source": [
    "#create a set from a tuple "
   ]
  },
  {
   "cell_type": "code",
   "execution_count": 64,
   "id": "a2bb712b-a599-4bc1-b4e5-eca67c747dbb",
   "metadata": {},
   "outputs": [
    {
     "name": "stdout",
     "output_type": "stream",
     "text": [
      "Set from tuple: {1, 2, 3, 4, 5}\n"
     ]
    }
   ],
   "source": [
    "my_tuple = (1,2,3,4,5)\n",
    "my_set = set(my_tuple)\n",
    "print(\"Set from tuple:\", my_set)"
   ]
  },
  {
   "cell_type": "code",
   "execution_count": null,
   "id": "058fce3c-05d6-4a4f-b09e-62ab9eb85d4d",
   "metadata": {},
   "outputs": [],
   "source": []
  },
  {
   "cell_type": "code",
   "execution_count": null,
   "id": "f5182c4f-1439-4113-bc02-77a3a5c4f534",
   "metadata": {},
   "outputs": [],
   "source": []
  },
  {
   "cell_type": "code",
   "execution_count": 65,
   "id": "d9179322-18bc-41e1-a876-5c735be2d3a8",
   "metadata": {},
   "outputs": [],
   "source": [
    "#Question 37"
   ]
  },
  {
   "cell_type": "code",
   "execution_count": 66,
   "id": "1e149201-0487-4224-ad9e-92b1c9b8b2b5",
   "metadata": {},
   "outputs": [],
   "source": [
    "# convert a set to a tuple"
   ]
  },
  {
   "cell_type": "code",
   "execution_count": 69,
   "id": "88c793bd-30dd-4268-b1e8-9a970680a5d6",
   "metadata": {},
   "outputs": [
    {
     "name": "stdout",
     "output_type": "stream",
     "text": [
      "Tuple from set: (1, 2, 3, 4, 5)\n"
     ]
    }
   ],
   "source": [
    "my_set = {1,2,3,4,5}\n",
    "my_tuple = tuple(my_set)\n",
    "print(\"Tuple from set:\",my_tuple)"
   ]
  },
  {
   "cell_type": "code",
   "execution_count": null,
   "id": "49ba8666-911b-494d-ad39-79424e98c167",
   "metadata": {},
   "outputs": [],
   "source": []
  },
  {
   "cell_type": "code",
   "execution_count": null,
   "id": "474ac783-6b26-4479-b371-3f32b51e665d",
   "metadata": {},
   "outputs": [],
   "source": []
  },
  {
   "cell_type": "code",
   "execution_count": 70,
   "id": "18ba1d16-ddd3-4ebb-a399-0564c81bae5d",
   "metadata": {},
   "outputs": [],
   "source": [
    "#Question 38"
   ]
  },
  {
   "cell_type": "code",
   "execution_count": 71,
   "id": "f13996c5-d309-4b17-90df-4ed1a78947dc",
   "metadata": {},
   "outputs": [],
   "source": [
    "#find the maximum value in a set"
   ]
  },
  {
   "cell_type": "code",
   "execution_count": 73,
   "id": "05782d90-c6c9-4ba1-8a04-4e6dfa835a3f",
   "metadata": {},
   "outputs": [
    {
     "name": "stdout",
     "output_type": "stream",
     "text": [
      "Maximum value in the set: 5\n"
     ]
    }
   ],
   "source": [
    "my_set = {1,5,3,2,4}\n",
    "max_value = max(my_set)\n",
    "print(\"Maximum value in the set:\",max_value)"
   ]
  },
  {
   "cell_type": "code",
   "execution_count": null,
   "id": "9bfbbfe5-9a0a-4df9-aea6-086a433d82db",
   "metadata": {},
   "outputs": [],
   "source": []
  },
  {
   "cell_type": "code",
   "execution_count": null,
   "id": "7bc9bf91-c75b-4005-bfa4-af8ccd0e7eec",
   "metadata": {},
   "outputs": [],
   "source": []
  },
  {
   "cell_type": "code",
   "execution_count": 74,
   "id": "87291fde-e554-45af-94d9-2cfa284003b1",
   "metadata": {},
   "outputs": [],
   "source": [
    "#Question 39"
   ]
  },
  {
   "cell_type": "code",
   "execution_count": 75,
   "id": "857c55d1-0243-45be-896a-2a88e79b3bc3",
   "metadata": {},
   "outputs": [],
   "source": [
    "#find the minimum value in a set"
   ]
  },
  {
   "cell_type": "code",
   "execution_count": 76,
   "id": "f7762d89-cc5a-42e0-a54a-678fc189893a",
   "metadata": {},
   "outputs": [
    {
     "name": "stdout",
     "output_type": "stream",
     "text": [
      "Minimum value in the set: 1\n"
     ]
    }
   ],
   "source": [
    "my_set = {1,5,3,2,4}\n",
    "min_value = min(my_set)\n",
    "print(\"Minimum value in the set:\",min_value)"
   ]
  },
  {
   "cell_type": "code",
   "execution_count": null,
   "id": "5c5c8e0b-c13e-4aaa-83ee-5ed3f4763303",
   "metadata": {},
   "outputs": [],
   "source": []
  },
  {
   "cell_type": "code",
   "execution_count": null,
   "id": "de2cdc46-79ae-4b71-81f0-7e57f0c1cf72",
   "metadata": {},
   "outputs": [],
   "source": []
  },
  {
   "cell_type": "code",
   "execution_count": 77,
   "id": "b5b13c8c-6fdd-4e82-8b8f-33831efee62c",
   "metadata": {},
   "outputs": [],
   "source": [
    "#Question 40"
   ]
  },
  {
   "cell_type": "code",
   "execution_count": 78,
   "id": "85064b99-6a0a-4e50-8d86-da15930ad5ce",
   "metadata": {},
   "outputs": [],
   "source": [
    "#create a set from user input"
   ]
  },
  {
   "cell_type": "code",
   "execution_count": 1,
   "id": "83e0b5c4-7419-4738-aabb-17e18908e481",
   "metadata": {},
   "outputs": [
    {
     "name": "stdin",
     "output_type": "stream",
     "text": [
      "Enter elements separated by spaces: 2 3 4 5 6 6 77 86 33 22 44\n"
     ]
    }
   ],
   "source": [
    "user_input = input(\"Enter elements separated by spaces:\")\n",
    "user_set = set(user_input.split())"
   ]
  },
  {
   "cell_type": "code",
   "execution_count": null,
   "id": "5b067725-6435-4fb5-8969-d0b694f7db6f",
   "metadata": {},
   "outputs": [],
   "source": []
  },
  {
   "cell_type": "code",
   "execution_count": null,
   "id": "c6d06303-afe0-48af-9d1b-e3946e000256",
   "metadata": {},
   "outputs": [],
   "source": []
  },
  {
   "cell_type": "code",
   "execution_count": 2,
   "id": "34888d23-1aa9-465a-9a8d-9a3b8dde107e",
   "metadata": {},
   "outputs": [],
   "source": [
    "#Question 41"
   ]
  },
  {
   "cell_type": "code",
   "execution_count": 3,
   "id": "0e5ec229-871b-42e1-9ece-aefb4d9539ed",
   "metadata": {},
   "outputs": [],
   "source": [
    "#check if the intersection of two sets is empty"
   ]
  },
  {
   "cell_type": "code",
   "execution_count": 5,
   "id": "4ab600ef-f8ae-45d4-9693-b7bfe93bcc5d",
   "metadata": {},
   "outputs": [
    {
     "name": "stdout",
     "output_type": "stream",
     "text": [
      "The intersection of the two sets is empty.\n"
     ]
    }
   ],
   "source": [
    "set1 = {1,2,3}\n",
    "set2 = {4,5,6}\n",
    "if set1.isdisjoint(set2):\n",
    "    print(\"The intersection of the two sets is empty.\")\n",
    "else:\n",
    "    print(\"The intersection of the two sets is not empty.\")\n",
    "    "
   ]
  },
  {
   "cell_type": "code",
   "execution_count": null,
   "id": "8f2cc2cf-de0d-42e7-b717-b2c44f8de1af",
   "metadata": {},
   "outputs": [],
   "source": []
  },
  {
   "cell_type": "code",
   "execution_count": null,
   "id": "8946a32b-17c8-4a82-888c-2e619bcf6bf0",
   "metadata": {},
   "outputs": [],
   "source": []
  },
  {
   "cell_type": "code",
   "execution_count": 6,
   "id": "b687aa79-8e8d-40f1-83a8-92bc7d98921e",
   "metadata": {},
   "outputs": [],
   "source": [
    "#Question 42"
   ]
  },
  {
   "cell_type": "code",
   "execution_count": 7,
   "id": "f40d07a3-ce4f-423e-b490-229e4d2ec5e5",
   "metadata": {},
   "outputs": [],
   "source": [
    "#create a set of the first 5 fibonacci numbers"
   ]
  },
  {
   "cell_type": "code",
   "execution_count": 9,
   "id": "74c19703-4d13-4dad-aa33-bba3f4df7ca0",
   "metadata": {},
   "outputs": [
    {
     "name": "stdout",
     "output_type": "stream",
     "text": [
      "{0, 1, 2, 3}\n"
     ]
    }
   ],
   "source": [
    "fibonacci_set = set()\n",
    "a,b = 0,1\n",
    "for _ in range(5):\n",
    "    fibonacci_set.add(a)\n",
    "    a,b = b,a+b\n",
    "print(fibonacci_set)"
   ]
  },
  {
   "cell_type": "code",
   "execution_count": null,
   "id": "0634c0e1-debe-4cc1-af5b-780e72655e26",
   "metadata": {},
   "outputs": [],
   "source": []
  },
  {
   "cell_type": "code",
   "execution_count": null,
   "id": "6bf5857a-54dc-454e-8b5e-01b7e72c16e9",
   "metadata": {},
   "outputs": [],
   "source": []
  },
  {
   "cell_type": "code",
   "execution_count": 10,
   "id": "f07ddd4b-70d5-406a-8ef8-0e28feef61b6",
   "metadata": {},
   "outputs": [],
   "source": [
    "#Question 43"
   ]
  },
  {
   "cell_type": "code",
   "execution_count": 11,
   "id": "20f07899-8a7f-4d01-aa13-713bfc9141c1",
   "metadata": {},
   "outputs": [],
   "source": [
    "#Remove duplicates from a list using sets"
   ]
  },
  {
   "cell_type": "code",
   "execution_count": 12,
   "id": "8524d0a0-4be8-4c75-86cb-6c95d4782905",
   "metadata": {},
   "outputs": [
    {
     "name": "stdout",
     "output_type": "stream",
     "text": [
      "[1, 2, 3, 4, 5, 6]\n"
     ]
    }
   ],
   "source": [
    "my_list = [1,2,3,3,4,5,5,6]\n",
    "unique_list = list(set(my_list))\n",
    "print(unique_list)"
   ]
  },
  {
   "cell_type": "code",
   "execution_count": null,
   "id": "c15b124c-2fa3-468d-87d1-fd9638d96928",
   "metadata": {},
   "outputs": [],
   "source": []
  },
  {
   "cell_type": "code",
   "execution_count": null,
   "id": "039ca872-3824-4aab-8d06-b8f33333d443",
   "metadata": {},
   "outputs": [],
   "source": []
  },
  {
   "cell_type": "code",
   "execution_count": 13,
   "id": "aab59ec0-e30f-47e9-b7bb-da972fc1eb61",
   "metadata": {},
   "outputs": [],
   "source": [
    "#Question 44"
   ]
  },
  {
   "cell_type": "code",
   "execution_count": 14,
   "id": "47dec6b4-3962-446e-a46c-79553e0a4564",
   "metadata": {},
   "outputs": [],
   "source": [
    "#check if two sets have the same elements,regardless of their count"
   ]
  },
  {
   "cell_type": "code",
   "execution_count": 15,
   "id": "b81673ce-a6b5-4ce0-99cc-3645d4d1e5fb",
   "metadata": {},
   "outputs": [
    {
     "name": "stdout",
     "output_type": "stream",
     "text": [
      "The sets have the same elements, regardless of their count.\n"
     ]
    }
   ],
   "source": [
    "set1 = {1,2,3}\n",
    "set2 = {3,2,1}\n",
    "if set1 == set2:\n",
    "    print(\"The sets have the same elements, regardless of their count.\")\n",
    "else:\n",
    "    print(\"The sets do not have the same elements.\")"
   ]
  },
  {
   "cell_type": "code",
   "execution_count": null,
   "id": "a88861e4-7f64-43b9-87ff-dddc4d79cc86",
   "metadata": {},
   "outputs": [],
   "source": []
  },
  {
   "cell_type": "code",
   "execution_count": null,
   "id": "4b9059cf-228c-49c7-b2fe-24358ee2e2df",
   "metadata": {},
   "outputs": [],
   "source": []
  },
  {
   "cell_type": "code",
   "execution_count": 16,
   "id": "ab0e4828-8f84-4042-8737-adbe9b9680da",
   "metadata": {},
   "outputs": [],
   "source": [
    "#Question 45"
   ]
  },
  {
   "cell_type": "code",
   "execution_count": 17,
   "id": "0528f369-d3cb-4427-911a-49110b1f1c9b",
   "metadata": {},
   "outputs": [],
   "source": [
    "#create a set of the first 'n' powers of 2"
   ]
  },
  {
   "cell_type": "code",
   "execution_count": 18,
   "id": "e9637dfc-76b6-44f6-a743-f3f4034fba88",
   "metadata": {},
   "outputs": [
    {
     "name": "stdout",
     "output_type": "stream",
     "text": [
      "{1, 2, 4, 8, 16}\n"
     ]
    }
   ],
   "source": [
    "n = 5\n",
    "powers_of_2_set = {2**i for i in range(n)}\n",
    "print(powers_of_2_set)"
   ]
  },
  {
   "cell_type": "code",
   "execution_count": null,
   "id": "4d022193-896b-4389-b079-d8cae5c64194",
   "metadata": {},
   "outputs": [],
   "source": []
  },
  {
   "cell_type": "code",
   "execution_count": null,
   "id": "da872f1a-485f-4874-b706-7acbeb78cb7e",
   "metadata": {},
   "outputs": [],
   "source": []
  },
  {
   "cell_type": "code",
   "execution_count": 19,
   "id": "d240cc31-2560-4db4-a917-a67548ea6035",
   "metadata": {},
   "outputs": [],
   "source": [
    "#Question 46"
   ]
  },
  {
   "cell_type": "code",
   "execution_count": 20,
   "id": "5407e478-6f7d-49a5-a017-6f6d1a1cd0df",
   "metadata": {},
   "outputs": [],
   "source": [
    "# find the common elements between a set and a list"
   ]
  },
  {
   "cell_type": "code",
   "execution_count": 21,
   "id": "8371180e-d7fa-4512-902e-62e0e6d82ee9",
   "metadata": {},
   "outputs": [
    {
     "name": "stdout",
     "output_type": "stream",
     "text": [
      "{4, 5}\n"
     ]
    }
   ],
   "source": [
    "my_set = {1,2,3,4,5}\n",
    "my_list = [4,5,6,7,8]\n",
    "common_elements= my_set.intersection(my_list)\n",
    "print(common_elements)\n"
   ]
  },
  {
   "cell_type": "code",
   "execution_count": null,
   "id": "8f2190d4-b7a1-4880-b621-c82de1bd3e54",
   "metadata": {},
   "outputs": [],
   "source": []
  },
  {
   "cell_type": "code",
   "execution_count": null,
   "id": "5a804769-57ac-45c1-87ad-50efeb93ed45",
   "metadata": {},
   "outputs": [],
   "source": []
  },
  {
   "cell_type": "code",
   "execution_count": 22,
   "id": "0885cc0f-5af2-4e8e-8aa3-3c2b19291133",
   "metadata": {},
   "outputs": [],
   "source": [
    "#Question 47"
   ]
  },
  {
   "cell_type": "code",
   "execution_count": 23,
   "id": "62c413d2-5a7d-4e33-8f31-cd8821289063",
   "metadata": {},
   "outputs": [],
   "source": [
    "#create a set of the first 'n' triangular numbers"
   ]
  },
  {
   "cell_type": "code",
   "execution_count": 24,
   "id": "f781addb-9172-4065-8c98-ebeeef959888",
   "metadata": {},
   "outputs": [
    {
     "name": "stdout",
     "output_type": "stream",
     "text": [
      "{1, 3, 6, 10, 15}\n"
     ]
    }
   ],
   "source": [
    "n= 5\n",
    "triangular_numbers_set = {i*(i+1)//2 for i in range(1,n+1)}\n",
    "print(triangular_numbers_set)"
   ]
  },
  {
   "cell_type": "code",
   "execution_count": null,
   "id": "0214fa22-d7f1-4b20-8c8c-388548ca1750",
   "metadata": {},
   "outputs": [],
   "source": []
  },
  {
   "cell_type": "code",
   "execution_count": null,
   "id": "c8d9386c-19c4-4f31-84dc-0f04b3a1a460",
   "metadata": {},
   "outputs": [],
   "source": []
  },
  {
   "cell_type": "code",
   "execution_count": 25,
   "id": "fbcd98cb-7cec-46fb-8c58-3fadbeaf40d4",
   "metadata": {},
   "outputs": [],
   "source": [
    "#Question 48"
   ]
  },
  {
   "cell_type": "code",
   "execution_count": 26,
   "id": "f570fe50-e836-4b0c-a3f6-67ff21730ca5",
   "metadata": {},
   "outputs": [],
   "source": [
    "#check if a set contains another set as a subset"
   ]
  },
  {
   "cell_type": "code",
   "execution_count": 27,
   "id": "16d0cf6b-c9d4-4860-8480-c1a10d8d5cae",
   "metadata": {},
   "outputs": [
    {
     "name": "stdout",
     "output_type": "stream",
     "text": [
      "set2 is a subset of set1\n"
     ]
    }
   ],
   "source": [
    "set1 = {1,2,3,4,5}\n",
    "set2 = {2,3}\n",
    "if set2.issubset(set1):\n",
    "    print(\"set2 is a subset of set1\")\n",
    "else:\n",
    "    print(\"set2 is not a subset of set1\")"
   ]
  },
  {
   "cell_type": "code",
   "execution_count": null,
   "id": "2fbab6e8-a434-4006-8bce-33dfd802a31c",
   "metadata": {},
   "outputs": [],
   "source": []
  },
  {
   "cell_type": "code",
   "execution_count": null,
   "id": "4471a786-9890-4e4e-a7b8-34f5d33c27ac",
   "metadata": {},
   "outputs": [],
   "source": []
  },
  {
   "cell_type": "code",
   "execution_count": 28,
   "id": "ad360a7b-ad41-4375-83bb-9287231d4a48",
   "metadata": {},
   "outputs": [],
   "source": [
    "#Question 49"
   ]
  },
  {
   "cell_type": "code",
   "execution_count": 29,
   "id": "907a25dc-f838-4bf2-a993-d64e4ee12486",
   "metadata": {},
   "outputs": [],
   "source": [
    "#create a set of alternating 1s and 0s of length 'n'"
   ]
  },
  {
   "cell_type": "code",
   "execution_count": 32,
   "id": "ba3a8008-ba5d-47c8-975a-1440b7cd3f19",
   "metadata": {},
   "outputs": [
    {
     "name": "stdout",
     "output_type": "stream",
     "text": [
      "{1}\n"
     ]
    }
   ],
   "source": [
    "from itertools import cycle\n",
    "n = 5\n",
    "alternating_set = set(next(cycle([1,0]))for _ in range(n))\n",
    "print(alternating_set)"
   ]
  },
  {
   "cell_type": "code",
   "execution_count": null,
   "id": "66eced05-01e3-4aaf-a257-12f860b0f7d3",
   "metadata": {},
   "outputs": [],
   "source": []
  },
  {
   "cell_type": "code",
   "execution_count": null,
   "id": "d9877dbd-e70a-4a2b-bc89-e6224f47cb0c",
   "metadata": {},
   "outputs": [],
   "source": []
  },
  {
   "cell_type": "code",
   "execution_count": 33,
   "id": "603d4a3f-d689-4df4-8db9-0dfa196b2044",
   "metadata": {},
   "outputs": [],
   "source": [
    "#Question 50"
   ]
  },
  {
   "cell_type": "code",
   "execution_count": 34,
   "id": "3bf04295-b65e-4452-9767-dc9d129d8003",
   "metadata": {},
   "outputs": [],
   "source": [
    "#merge multiple sets into one"
   ]
  },
  {
   "cell_type": "code",
   "execution_count": 35,
   "id": "0f04f761-5313-4968-83b2-bfc0bafab29d",
   "metadata": {},
   "outputs": [
    {
     "name": "stdout",
     "output_type": "stream",
     "text": [
      "{1, 2, 3, 4, 5, 6, 7}\n"
     ]
    }
   ],
   "source": [
    "set1 = {1,2,3}\n",
    "set2 = {3,4,5}\n",
    "set3 = {5,6,7}\n",
    "merged_set = set1.union(set2,set3)\n",
    "print(merged_set)"
   ]
  },
  {
   "cell_type": "code",
   "execution_count": null,
   "id": "baea050e-618a-4c20-b1eb-f5d137669336",
   "metadata": {},
   "outputs": [],
   "source": []
  }
 ],
 "metadata": {
  "kernelspec": {
   "display_name": "Python 3 (ipykernel)",
   "language": "python",
   "name": "python3"
  },
  "language_info": {
   "codemirror_mode": {
    "name": "ipython",
    "version": 3
   },
   "file_extension": ".py",
   "mimetype": "text/x-python",
   "name": "python",
   "nbconvert_exporter": "python",
   "pygments_lexer": "ipython3",
   "version": "3.10.8"
  }
 },
 "nbformat": 4,
 "nbformat_minor": 5
}
